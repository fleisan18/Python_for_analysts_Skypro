{
 "cells": [
  {
   "cell_type": "markdown",
   "metadata": {
    "id": "BJ2UA98Xv8aP"
   },
   "source": [
    "<div\n",
    "  style=\"\n",
    "    padding: 36px 20px 63px 20px;\n",
    "    background-color: #009ee4;\n",
    "    border-radius: 0 0 200px 0;\n",
    "  \"\n",
    ">\n",
    "  <img\n",
    "    style=\"width: 188px; height: 40px; margin: 0\"\n",
    "    src=\"data:image/png;base64,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\"\n",
    "  />\n",
    "\n",
    "  <div\n",
    "    style=\"\n",
    "      color: white;\n",
    "      margin-top: 52px;\n",
    "      font-size: 56px;\n",
    "      line-height: 64px;\n",
    "      font-family: Arial;\n",
    "    \"\n",
    "  >\n",
    "    Функции и обьекты\n",
    "  </div>\n",
    "</div>\n",
    "\n",
    "    "
   ]
  },
  {
   "cell_type": "markdown",
   "metadata": {
    "id": "6EaEZgsdv8aT"
   },
   "source": [
    "\n",
    "    \n",
    "# Функции"
   ]
  },
  {
   "cell_type": "markdown",
   "metadata": {
    "id": "1W2FHsVav8aV"
   },
   "source": [
    "Вы уже знакомы с некоторыми встроенными в Python функциями, например:"
   ]
  },
  {
   "cell_type": "code",
   "execution_count": null,
   "metadata": {
    "id": "ipuzLIzgv8aV"
   },
   "outputs": [],
   "source": [
    "print() # выводит на экран, переданные в нее в качестве аргументов переменные, разделенные запятой.\n",
    "len()   # подсчитывает количество элементов в итерируемом типе данных.\n",
    "int()   # приводит переданный в нее аргумент к типу \"целое число\".\n",
    "str()   # приводит переданный в нее аргумент к типу \"строка\".\n",
    "type()  # возвращает тип переданного в нее аргумента.\n",
    "round() # округляет число, принимая два аргумента 1 — число, 2 — сколько знаков после запятой оставить. "
   ]
  },
  {
   "cell_type": "code",
   "execution_count": null,
   "metadata": {
    "id": "70RfeFWwv8aW"
   },
   "outputs": [],
   "source": [
    "type(round)"
   ]
  },
  {
   "cell_type": "code",
   "execution_count": null,
   "metadata": {
    "id": "J8LgxTxKv8aW"
   },
   "outputs": [],
   "source": [
    "round(12.445,1) "
   ]
  },
  {
   "cell_type": "markdown",
   "metadata": {
    "id": "DqBdboEav8aW"
   },
   "source": [
    "#### Круто, что есть готовые функции, но в нашей работе тоже есть популярные операции, которые мы используем в каждой задаче:\n",
    "\n",
    "- достать почту из строки или домен из почты\n",
    "- проверить, какие значения в списке выше какого-то порога, и положить их в другой список\n",
    "- очистить телефон от лишних символов\n",
    "\n",
    "#### Функции позволяют упаковать часто используемый код в одно имя и быстро использовать там, где это необходимо."
   ]
  },
  {
   "cell_type": "markdown",
   "metadata": {
    "id": "pjmSEthgv8aW"
   },
   "source": [
    "\n",
    "    \n",
    "## Do not repeat yourseft"
   ]
  },
  {
   "cell_type": "markdown",
   "metadata": {
    "id": "HJpHPnccv8aX"
   },
   "source": [
    "Мы уже пользовались встроенной функцией  `len()`, чтобы определять длину строчки или количество элементов в списке.\n",
    "\n",
    "И это было легко, быстро и удобно. Если бы у нас не было функции `len()`, каждый раз, когда нам нужно было бы посчитать длину чего-то, нам приходилось писать нечто вроде вот такой конструкции:"
   ]
  },
  {
   "cell_type": "code",
   "execution_count": null,
   "metadata": {
    "id": "3d0NAwgUv8aX"
   },
   "outputs": [],
   "source": [
    "data = 'Текст, длину которого нужно посчитать'\n",
    "len_of_data = 0\n",
    "for item in data:\n",
    "    len_of_data += 1\n",
    "\n",
    "print(len_of_data)\n",
    "print(len(data))"
   ]
  },
  {
   "cell_type": "markdown",
   "metadata": {
    "id": "rH6x4GSSv8aX"
   },
   "source": [
    "Функции оборачивают операции в короткие простые \"контейнеры\". Один раз определив функцию, мы получаем возможность использовать ее логику многократно, не копируя блоки кода и не повторяя себя. **Do not repeat yourself**"
   ]
  },
  {
   "cell_type": "markdown",
   "metadata": {
    "id": "N7XOFcL3v8aX"
   },
   "source": [
    "## Базовый синтаксис функций"
   ]
  },
  {
   "cell_type": "markdown",
   "metadata": {
    "id": "WFAAwDjdv8aY"
   },
   "source": [
    "<img style='float:left' src=\"https://res.cloudinary.com/djcwxgbfz/image/upload/v1606822352/skills/func.png\" width=\"700\"/>"
   ]
  },
  {
   "cell_type": "code",
   "execution_count": null,
   "metadata": {
    "id": "r-GY28gnv8aY"
   },
   "outputs": [],
   "source": [
    "def my_function(x): \n",
    "    instuction = x*2 \n",
    "    return instuction \n",
    "\n",
    "my_function(10) # вот как это работает"
   ]
  },
  {
   "cell_type": "markdown",
   "metadata": {
    "id": "84GBuHcTv8aY"
   },
   "source": [
    "##  return"
   ]
  },
  {
   "cell_type": "markdown",
   "metadata": {
    "id": "Ro8Dfb40v8aY"
   },
   "source": [
    "- оператор, прерывающий выполнение функции и возвращающий то, что указано после него\n",
    "\n",
    "- удобно использовать в условных конструкциях внутри функций\n",
    "\n",
    "- все инструкции после оператра return выполняться не будут"
   ]
  },
  {
   "cell_type": "markdown",
   "metadata": {
    "id": "SGS13wC9v8aY"
   },
   "source": [
    "## Частые ошибки"
   ]
  },
  {
   "cell_type": "markdown",
   "metadata": {
    "id": "LwkW_ZXfv8aZ"
   },
   "source": [
    "<div style=\"padding: 24px; background-color: #ff7775; border-radius: 24px; display: flex; align-items: center; justify-content: flex-start;\">\n",
    "  <img\n",
    "    style=\"width: 56px; height: 56px; margin: 0;\"\n",
    "    src=\"data:image/png;base64,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\"\n",
    "  />\n",
    "  <div style=\"font-size: 18px; line-height: 26px; font-family: Arial; color: white; margin-left: 32px;margin-top:16px;\">\n",
    "      Нельзя вызвать функцию до ее определения\n",
    "  </div>\n",
    "</div>"
   ]
  },
  {
   "cell_type": "code",
   "execution_count": null,
   "metadata": {
    "id": "-DHMUsJJv8aZ"
   },
   "outputs": [],
   "source": [
    "text = 'Привет как дела'\n",
    "\n",
    "def first_word(s):\n",
    "    return s[0:s.find(' ')]\n",
    "\n",
    "first_word(text)\n",
    "last_word(text)\n",
    "\n",
    "def last_word(s):\n",
    "    last_space = s.rfind(' ')+1\n",
    "    last_word = s[last_space:]\n",
    "    return last_word"
   ]
  },
  {
   "cell_type": "markdown",
   "metadata": {
    "id": "xXGMHA3gv8aZ"
   },
   "source": [
    "<div style=\"padding: 24px; background-color: #ff7775; border-radius: 24px; display: flex; align-items: center; justify-content: flex-start;\">\n",
    "  <img\n",
    "    style=\"width: 56px; height: 56px; margin: 0;\"\n",
    "    src=\"data:image/png;base64,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\"\n",
    "  />\n",
    "  <div style=\"font-size: 18px; line-height: 26px; font-family: Arial; color: white; margin-left: 32px;margin-top:16px;\">\n",
    "      Функция без команды return ничего не возвращает\n",
    "  </div>\n",
    "</div>"
   ]
  },
  {
   "cell_type": "markdown",
   "metadata": {
    "id": "agYcysI8v8aa"
   },
   "source": [
    "И это уже ошибка неверных ожиданий. Для некоторых функций не обязательно возвращать что-то, просто нужно помнить об этом."
   ]
  },
  {
   "cell_type": "code",
   "execution_count": null,
   "metadata": {
    "id": "0579ZLHiv8aa"
   },
   "outputs": [],
   "source": [
    "x = 10\n",
    "\n",
    "def some_func(x):\n",
    "    x+=2\n",
    "    print(x)\n",
    "\n",
    "some_func(x)\n",
    "print(x)"
   ]
  },
  {
   "cell_type": "code",
   "execution_count": null,
   "metadata": {
    "id": "nLyJ7u2xv8aa"
   },
   "outputs": [],
   "source": [
    "print(some_func(x))"
   ]
  },
  {
   "cell_type": "markdown",
   "metadata": {
    "id": "-mzCgTtAv8aa"
   },
   "source": [
    "### Задача\n",
    "\n",
    "Определим функцию, которая будет проверять, есть ли в переданном списке пропуски значений `None`"
   ]
  },
  {
   "cell_type": "code",
   "execution_count": null,
   "metadata": {
    "id": "zgLA4kyev8ab"
   },
   "outputs": [],
   "source": [
    "def missing_checker(lst):\n",
    "    for i in lst:\n",
    "        if i is None:\n",
    "            return 'Есть пустые значения' # как только будет найдено первое пустое значение, функция прекратит выполняться\n",
    "    return 'Пустых значений нет'"
   ]
  },
  {
   "cell_type": "code",
   "execution_count": null,
   "metadata": {
    "id": "wGs7rHUBv8ab"
   },
   "outputs": [],
   "source": [
    "some_list = [1,45,65, None, 43, 23,99]\n",
    "missing_checker(some_list)"
   ]
  },
  {
   "cell_type": "code",
   "execution_count": null,
   "metadata": {
    "id": "EW4xZqWHv8ab"
   },
   "outputs": [],
   "source": [
    "# если функция не доходит до удовлетворения условия, ведущего к первому return, она пропускает и переходит к следующему\n",
    "\n",
    "some_list = [1,45,65, 43, 23,99]\n",
    "missing_checker(some_list)"
   ]
  },
  {
   "cell_type": "markdown",
   "metadata": {
    "id": "HceLclFEv8ab"
   },
   "source": [
    "**Напишем 3 функции, которые точно пригодятся нам в будущем:**\n",
    "\n",
    "- достает почту из строки\n",
    "- очищает от лишних символов номера телефонов\n",
    "- удаляет все значения из списка ниже определенной границы"
   ]
  },
  {
   "cell_type": "markdown",
   "metadata": {
    "id": "a1hrfYgUv8ac"
   },
   "source": [
    "Начнем с почты. На прошлом занятии мы писали код, который находит в почте e-mail. Вот он:"
   ]
  },
  {
   "cell_type": "code",
   "execution_count": null,
   "metadata": {
    "id": "jasYk3Zyv8ac"
   },
   "outputs": [],
   "source": [
    "comment =  'клиент misha@exam.com готов к оплате'\n",
    "list_comment = comment.split(' ') # методом split() разбиваем строку\n",
    "mail = ''                         # создаем переменную, в которую мы запишем ответ\n",
    "for word in list_comment:         # пробегаем по всем элементам нашего списка\n",
    "    if word.find('@') > 0:        # если в элементе находится символ @\n",
    "        mail = word               # то записываем этот элемент в переменную mail\n",
    "\n",
    "print(mail) "
   ]
  },
  {
   "cell_type": "markdown",
   "metadata": {
    "id": "JdxdsUgUv8ac"
   },
   "source": [
    "Как выглядит **функция**, которая вынимает почты из строки:"
   ]
  },
  {
   "cell_type": "code",
   "execution_count": null,
   "metadata": {
    "id": "pW9ZTZ-uv8ac"
   },
   "outputs": [],
   "source": [
    "def email_finder(string):             # определим функцию, она принимает на вход 1 аргумент — строку\n",
    "    list_of_words = string.split(' ') # разобьем то, что функция получила на вход на слова\n",
    "    for word in list_of_words:        # проитерируем список со словами\n",
    "        if word.find('@') > 0:        # если в слове есть символ @ \n",
    "            return word               # заканчиваем выполнение функции и возвращаем это слово\n",
    "    return 'Почт нет'                  # если же функция отработала до конца, и не нашла @ — возвращаем сообщение \"Почт нет\""
   ]
  },
  {
   "cell_type": "code",
   "execution_count": null,
   "metadata": {
    "id": "t3APOH0wv8ad"
   },
   "outputs": [],
   "source": [
    "# запустим функцию\n",
    "\n",
    "email_finder('клиент misha@exam.com готов к оплате')"
   ]
  },
  {
   "cell_type": "code",
   "execution_count": null,
   "metadata": {
    "id": "YHShgiUUv8ad"
   },
   "outputs": [],
   "source": [
    "email_finder(\"Строка без почт\")"
   ]
  },
  {
   "cell_type": "markdown",
   "metadata": {
    "id": "r-SidChtv8ad"
   },
   "source": [
    "Теперь у нас есть функция, которую удобно использовать, например, при переборе значений словаря"
   ]
  },
  {
   "cell_type": "code",
   "execution_count": null,
   "metadata": {
    "id": "Tke7aNCKv8ad"
   },
   "outputs": [],
   "source": [
    "crm_info =  {\n",
    "('id:',86609):'клиент example@example.com готов к оплате',\n",
    "('id:',12588):'учение настроен позвитивно, positive_one@positiv.ru',\n",
    "('id:',19085):'only_mail@positiv.ru',\n",
    "('id:',42956):'от учебы отказался. negative@somemail.ru',\n",
    "('id:',38821):'our own app testing test@test.ru',\n",
    "('id:',47860):'повторная заявка от пользователя itsmeagail@spam.com',\n",
    "('id:',92172):''\n",
    "}\n",
    "\n",
    "for key, value in crm_info.items():\n",
    "    crm_info[key] = email_finder(value) # перезаписываем значения словаря по ключу. Кладем туда результат функции"
   ]
  },
  {
   "cell_type": "code",
   "execution_count": null,
   "metadata": {
    "id": "fKp-P7Cqv8ae",
    "scrolled": true
   },
   "outputs": [],
   "source": [
    "crm_info"
   ]
  },
  {
   "cell_type": "markdown",
   "metadata": {
    "id": "J7kiX-Suv8ae"
   },
   "source": [
    "### Задача \n",
    "\n",
    "Напишем код, который чистит номер телефона от всех символов, кроме цифр"
   ]
  },
  {
   "cell_type": "code",
   "execution_count": null,
   "metadata": {
    "id": "-xmMFf5qv8ae"
   },
   "outputs": [],
   "source": [
    "phone = '+7(921)421-18-99'    # номер телефона\n",
    "clear_phone = ''              # создаем пустую строку, куда будем записывать только цифры\n",
    "for digit in phone:           # итерируем посимвольно нашу строку\n",
    "    if digit in '1234567890': # если символ из номера телефона входит в строку '1234567890'\n",
    "        clear_phone += digit  # то добавляем этот символ в строку, где только цифры\n",
    "phone = clear_phone           # переписываем значение переменной phone, пишем туда только цифры\n",
    "print(phone)"
   ]
  },
  {
   "cell_type": "markdown",
   "metadata": {
    "id": "vjEajWoYv8ae"
   },
   "source": [
    "Превратим код в функцию"
   ]
  },
  {
   "cell_type": "code",
   "execution_count": null,
   "metadata": {
    "id": "v8rz2Uw5v8ae"
   },
   "outputs": [],
   "source": [
    "def phone_cleaner(tel):\n",
    "    clear_phone = ''\n",
    "    for digit in tel:\n",
    "        if digit in '1234567890':\n",
    "            clear_phone += digit\n",
    "    return clear_phone"
   ]
  },
  {
   "cell_type": "code",
   "execution_count": null,
   "metadata": {
    "id": "lJp_OHtDv8af"
   },
   "outputs": [],
   "source": [
    "#проверим что функия работает\n",
    "\n",
    "phone_cleaner('+7(987)843-45-82')"
   ]
  },
  {
   "cell_type": "markdown",
   "metadata": {
    "id": "U7C8GtWgv8af"
   },
   "source": [
    "Используем нашу функцию для обработки списка с телефонами"
   ]
  },
  {
   "cell_type": "code",
   "execution_count": null,
   "metadata": {
    "id": "tSRla4ppv8af"
   },
   "outputs": [],
   "source": [
    "from phones_numbers import phone_list #подключаемся к данным"
   ]
  },
  {
   "cell_type": "code",
   "execution_count": null,
   "metadata": {
    "id": "vCEzBQMzv8af"
   },
   "outputs": [],
   "source": [
    "new_phone_list = []\n",
    "for phone in phone_list: \n",
    "    new_phone = phone_cleaner(phone)\n",
    "    new_phone_list.append(new_phone)"
   ]
  },
  {
   "cell_type": "markdown",
   "metadata": {
    "id": "RGNeb4gBv8af"
   },
   "source": [
    "### Ошибка! \n",
    "\n",
    "В нашем списке один из элементов на str, а int. \n"
   ]
  },
  {
   "cell_type": "code",
   "execution_count": null,
   "metadata": {
    "id": "Kxh8-BWwv8ag"
   },
   "outputs": [],
   "source": [
    "phone_list"
   ]
  },
  {
   "cell_type": "code",
   "execution_count": null,
   "metadata": {
    "id": "xljWPGdYv8ag"
   },
   "outputs": [],
   "source": [
    "# посмотрим, как исправляется функция\n",
    "\n",
    "def phone_cleaner(phone):           \n",
    "    clear_phone_result = ''        \n",
    "    for digit in str(phone):             \n",
    "        if digit in '1234567890':   \n",
    "             clear_phone_result += digit \n",
    "    return clear_phone_result       "
   ]
  },
  {
   "cell_type": "markdown",
   "metadata": {
    "id": "LuNskXqov8ag"
   },
   "source": [
    "Проверим, что на этот раз все работает"
   ]
  },
  {
   "cell_type": "code",
   "execution_count": null,
   "metadata": {
    "id": "JC0vbmyVv8ag"
   },
   "outputs": [],
   "source": [
    "new_phone_list = []\n",
    "for phone in phone_list: \n",
    "    new_phone = phone_cleaner(phone)\n",
    "    new_phone_list.append(new_phone)\n",
    "new_phone_list"
   ]
  },
  {
   "cell_type": "markdown",
   "metadata": {
    "id": "4qWvFkh9v8ag"
   },
   "source": [
    "Мы разобрались, как исправлять код, превращая его в функцию, но с нуля писать функции не сложнее. Даже легче!\n",
    "\n",
    "Напишем функцию, которая принимает на вход список и возвращает другой список, в котором только значения выше определенного порога. Эта функция будет принимать два аргумента: список и пороговое число."
   ]
  },
  {
   "cell_type": "markdown",
   "metadata": {
    "id": "MQuFLrxJv8ag"
   },
   "source": [
    "### Как это сделать?\n",
    "\n",
    "1. определим функцию `list_checker` и зададим ей через запятую два аргумента `lst` и `threshold`\n",
    "\n",
    "2. создадим `new_list`, куда будем складывать новый список\n",
    "\n",
    "3. для каждого `value` в списке\n",
    "\n",
    "4. если `value > threshold`\n",
    "\n",
    "5. добавляем в `new_list` с помощью `append(value)`\n",
    "\n",
    "5. возвращаем с помощью `return` наполненный `new_list`"
   ]
  },
  {
   "cell_type": "code",
   "execution_count": null,
   "metadata": {
    "id": "dTcIHw50v8ag"
   },
   "outputs": [],
   "source": [
    "def list_checker (lst,threshold):\n",
    "    new_list = []\n",
    "    for value in lst:\n",
    "        if value > threshold:\n",
    "            new_list.append(value)  \n",
    "    return new_list"
   ]
  },
  {
   "cell_type": "markdown",
   "metadata": {
    "id": "8Cd04FFVv8ah"
   },
   "source": [
    "Проверим, что наша функция работает"
   ]
  },
  {
   "cell_type": "code",
   "execution_count": null,
   "metadata": {
    "id": "C73co7w0v8ah"
   },
   "outputs": [],
   "source": [
    "some_list = [1,54,6,34,661,393]\n",
    "\n",
    "list_checker(some_list,100) #хотим посмотреть все значения больше 100"
   ]
  },
  {
   "cell_type": "markdown",
   "metadata": {
    "id": "k59lFEqxv8ah"
   },
   "source": [
    "На прошлом занятии мы в цикле перебирали платежи и искали те, которые больше 8000 рублей, чтобы посчитать сумму, мы делали это вот такой конструкцией"
   ]
  },
  {
   "cell_type": "code",
   "execution_count": null,
   "metadata": {
    "id": "WZ6mpW1-v8ah"
   },
   "outputs": [],
   "source": [
    "could_be = 0\n",
    "for i in payments:\n",
    "    if i >= 8000:\n",
    "        could_be += i\n",
    "        \n",
    "could_be"
   ]
  },
  {
   "cell_type": "markdown",
   "metadata": {
    "id": "1A7RR1HQv8ah"
   },
   "source": [
    "С функциями все куда проще. И, что важно, функции универсальны.\n",
    "\n",
    "Давайте подключимся к данным и посчитаем сумму покупок больше 8000 рублей, используя нашу новую функцию."
   ]
  },
  {
   "cell_type": "markdown",
   "metadata": {
    "id": "V5Y_SMPwv8ah"
   },
   "source": [
    "### Как это сделать?\n",
    "1. Подключаемся к данным \n",
    "\n",
    "2. Вызываем функцию `list_checker`\n",
    "\n",
    "3. Передем ей два аргумента (имя списка `payments`, ограничение суммы)\n",
    "\n",
    "4. Считаем сумму результата функции с помощью `sum`"
   ]
  },
  {
   "cell_type": "code",
   "execution_count": null,
   "metadata": {
    "id": "8uCk1mYBv8ai"
   },
   "outputs": [],
   "source": [
    "from payments_module import payments_list as payments #подключаемся к данным"
   ]
  },
  {
   "cell_type": "code",
   "execution_count": null,
   "metadata": {
    "id": "x66U3d62v8ai"
   },
   "outputs": [],
   "source": [
    "sum(list_checker(payments, 8000))"
   ]
  },
  {
   "cell_type": "markdown",
   "metadata": {
    "id": "XA3AV0_5v8ai"
   },
   "source": [
    "### Именованные и позиционные аргументы"
   ]
  },
  {
   "cell_type": "markdown",
   "metadata": {
    "id": "7Q4Im2p-v8ai"
   },
   "source": [
    "Мы научились определять функции и передавать в них сразу несколько аргументов. При этом, когда мы передаем аргументы, важно соблюдать порядок аргументов. Иначе функция будет выполнена неверно. \n",
    "\n",
    "Например, функция `list_checker` принимает на вход 2 аргумента. `lst` и `threshold`. Первым аргументом передается список, вторым — граница.\n",
    "\n",
    "Если мы попробуем вызвать функцию, передав аргументы в неправильном порядке, то получим ошибку."
   ]
  },
  {
   "cell_type": "code",
   "execution_count": null,
   "metadata": {
    "id": "EX1vR-ywv8ai"
   },
   "outputs": [],
   "source": [
    "some_new_list = [23,2,1,90]\n",
    "border = 2\n",
    "list_checker(border,some_new_list) "
   ]
  },
  {
   "cell_type": "markdown",
   "metadata": {
    "id": "V8YsiNGLv8ai"
   },
   "source": [
    "Так происходит, поскольку Python ожидает, что мы будем передавать переменные именно в том порядке, в котором мы указали их при определении функции.\n",
    "\n",
    "Аргументы, которые мы передаем расставляя их в правильном порядке, называются **позиционные аргументы**. \n",
    "\n",
    "В некоторых функциях, особенно во встроенных, для обработки больших массивов данных, с которыми мы познакомимся на следующем занятии, аргументов может быть очень много. Запоминать правильный порядок аргументов сложно и неудобно. Чтобы решить эту проблему, аргументы можно передавать с помощью их имен.\n",
    "\n",
    "#### Очень удобно,  что Python выводит в ошибке код нашей функции, в котором мы можем посмотреть имена аргументов, которые нужно передать функции."
   ]
  },
  {
   "cell_type": "code",
   "execution_count": null,
   "metadata": {
    "id": "bIF5nuWYv8ai"
   },
   "outputs": [],
   "source": [
    "list_checker(threshold=border,\n",
    "             lst=some_new_list)"
   ]
  },
  {
   "cell_type": "markdown",
   "metadata": {
    "id": "gghMg2Iev8aj"
   },
   "source": [
    "Мы указали, что переменную `border` нужно воспринимать как именованный аргумент `threshold`, переменную `some_new_list` — как именнованный аргумент `lst`, и функция заработала! "
   ]
  },
  {
   "cell_type": "markdown",
   "metadata": {
    "id": "cYDqAzdnv8aj"
   },
   "source": [
    "### Значения именнованных аргументов по умолчанию.\n",
    "\n",
    "Функция `round()` принимает два аргумента, но у второго есть значение по умолчанию  равное 0\n"
   ]
  },
  {
   "cell_type": "code",
   "execution_count": null,
   "metadata": {
    "id": "1_PyiwXHv8aj"
   },
   "outputs": [],
   "source": [
    "round(12.5234234) "
   ]
  },
  {
   "cell_type": "markdown",
   "metadata": {
    "id": "O3WhCI_qv8aj"
   },
   "source": [
    "Определим функцию, которая возвращает последнее слово, разделяя строку по символам"
   ]
  },
  {
   "cell_type": "code",
   "execution_count": null,
   "metadata": {
    "id": "YTkkVl_av8aj"
   },
   "outputs": [],
   "source": [
    "def last_part(text, symbol='/'): # по умолчанию, функция делит строку по /\n",
    "    splited_text = text.split(symbol)\n",
    "    last_one = splited_text[-1]\n",
    "    return last_one"
   ]
  },
  {
   "cell_type": "code",
   "execution_count": null,
   "metadata": {
    "id": "IxVDIwsrv8aj"
   },
   "outputs": [],
   "source": [
    "path = 'http://localhost:8888/notebooks/Downloads/Skills'\n",
    "last_part(path)"
   ]
  },
  {
   "cell_type": "code",
   "execution_count": null,
   "metadata": {
    "id": "jlJvX161v8ak",
    "scrolled": true
   },
   "outputs": [],
   "source": [
    "last_part(path,':') # но мы можем и вручную передать аргумент"
   ]
  },
  {
   "cell_type": "markdown",
   "metadata": {
    "id": "tZqGco35v8ak"
   },
   "source": [
    "### Задача\n",
    "\n",
    "Мы хотим написать функцию, которая на вход принимает список цен с указанной валютой, проверяет валюту и возвращает список с ценами в рублях\n",
    "\n",
    "### Как это сделать?\n",
    "\n",
    "1. Подготовимся\n",
    "\n",
    "    - Подключимся к данным\n",
    "    - Проверим, в каком фрмате к нам пришли данные\n",
    "    - Определим словарь с курсами валют по отношению к рублю\n",
    "\n",
    "\n",
    "2. Начнем писать функцию\n",
    "\n",
    "    - Определим функцию, которая на вход получает два аргумента: список и словарь с курсами валют\n",
    "    \n",
    "    - Создадим список `prices_in_rub`, который будем наполнять сконвертированными ценами\n",
    "    \n",
    "    \n",
    "3. Напишем внутри функции цикл, который переводит все цены в рубли с помощью нашего словаря\n",
    "\n",
    "    - Пройдемся по элементам списка с ценами\n",
    "    - Определим курс валюты, обращаясь к значению из словаря по ключу, который мы возьмем из второго элемента списка с ценами\n",
    "    - Каждый элемент умножим на курс валюты, чтобы узнать его цену в рублях\n",
    "    \n",
    "    - В список `prices_in_rub` с помощью метода `append` положим новое значение\n",
    "    \n",
    "    \n",
    "4. Вернем с помощью `return` новый список"
   ]
  },
  {
   "cell_type": "markdown",
   "metadata": {
    "id": "GbaW4i8fv8ak"
   },
   "source": [
    "Пройдем поэтапно вместе эту задачу"
   ]
  },
  {
   "cell_type": "markdown",
   "metadata": {
    "id": "X_qPSJWnv8ak"
   },
   "source": [
    "### Подготовимся"
   ]
  },
  {
   "cell_type": "code",
   "execution_count": null,
   "metadata": {
    "id": "-OZVypvHv8ak"
   },
   "outputs": [],
   "source": [
    "from prices_module import prices_in_list as prices # подключаемся к данным"
   ]
  },
  {
   "cell_type": "markdown",
   "metadata": {
    "id": "xX-PZpT5v8ak"
   },
   "source": [
    "Смотрим первые 10 элементов"
   ]
  },
  {
   "cell_type": "code",
   "execution_count": null,
   "metadata": {
    "id": "Ij65HITZv8ak"
   },
   "outputs": [],
   "source": [
    "prices[:10] "
   ]
  },
  {
   "cell_type": "markdown",
   "metadata": {
    "id": "oG5Q0ps3v8al"
   },
   "source": [
    "Определяем словарь `rate_dict` с курсами валют по отношению к рублю"
   ]
  },
  {
   "cell_type": "code",
   "execution_count": null,
   "metadata": {
    "id": "fKrqIwEev8al"
   },
   "outputs": [],
   "source": [
    "rate_dict =  {\n",
    "        \"GBP\": 99.432,\n",
    "        \"USD\": 76.123,\n",
    "        \"EUR\": 82.44,\n",
    "        \"RUR\": 1\n",
    "            }"
   ]
  },
  {
   "cell_type": "markdown",
   "metadata": {
    "id": "SpRmQKChv8al"
   },
   "source": [
    "### Начнем писать функцию"
   ]
  },
  {
   "cell_type": "code",
   "execution_count": null,
   "metadata": {
    "id": "9zTDLZa5v8al"
   },
   "outputs": [],
   "source": [
    "def price_converter(lst,rates): # функция на вход получает список и словарь с курсами валют\n",
    "    prices_in_rub = [] # список, который будем наполнять сконвертированными ценами\n",
    "    "
   ]
  },
  {
   "cell_type": "markdown",
   "metadata": {
    "id": "51Gx1DZnv8al"
   },
   "source": [
    "### Напишем внутри функции цикл\n",
    "\n",
    "Он переведет все цены в рубли с помощью нашего словаря.\n",
    "\n",
    "1.  получим из словаря курс из значения, передавая в качестве ключа валюту из наших списков в `element[1]`\n",
    "2.  перемножим цену на курс валюты, в которой она выставлена\n",
    "3.  добавим цену в рублях в список `prices_in_rub`"
   ]
  },
  {
   "cell_type": "code",
   "execution_count": null,
   "metadata": {
    "id": "Q6OafPl8v8al"
   },
   "outputs": [],
   "source": [
    "def price_converter(lst,rates): \n",
    "    prices_in_rub = [] \n",
    "    for element in lst:\n",
    "        rate_value = rates[element[1]] # достали из element[1] курс \n",
    "        this_price_in_rub = element[0]*rate_value # перемножили цену на курс валюты\n",
    "        prices_in_rub.append(this_price_in_rub) # добавили цену в рублях в список prices_in_rub"
   ]
  },
  {
   "cell_type": "markdown",
   "metadata": {
    "id": "SastoAbiv8al"
   },
   "source": [
    "### Вернем с помощью return новый список"
   ]
  },
  {
   "cell_type": "code",
   "execution_count": null,
   "metadata": {
    "id": "op7oeTkWv8am"
   },
   "outputs": [],
   "source": [
    "def price_converter(lst,rates): \n",
    "    prices_in_rub = [] \n",
    "    for element in lst: \n",
    "        rate_value = rates[element[1]] \n",
    "        this_price_in_rub = element[0]*rate_value \n",
    "        prices_in_rub.append(this_price_in_rub)\n",
    "    return prices_in_rub                     "
   ]
  },
  {
   "cell_type": "markdown",
   "metadata": {
    "id": "Y05wqyWGv8am"
   },
   "source": [
    "### Наконец можем вызвать функцию!"
   ]
  },
  {
   "cell_type": "code",
   "execution_count": null,
   "metadata": {
    "id": "MTPFnV5Kv8am"
   },
   "outputs": [],
   "source": [
    "price_converter(prices,rate_dict)"
   ]
  },
  {
   "cell_type": "markdown",
   "metadata": {
    "id": "gAYgFLxMv8am"
   },
   "source": [
    "## Области видимости"
   ]
  },
  {
   "cell_type": "markdown",
   "metadata": {
    "id": "nQ90-au7v8am"
   },
   "source": [
    " - **Глобальная область видимости**  —  весь код и все переменные, написанные **без пробелов в начале строки**. \n",
    " \n",
    " \n",
    " - **Локальная область видимости**  —  код, написанный **в теле функции**. Обратиться к переменной, созданной в локальной области видимости, можно только оттуда, в глобальной области видимости такой переменной существовать не будет\n",
    "\n",
    "\n",
    " - аргументы \"затаскивают\" переменные в локальную область видимости\n",
    " \n",
    "\n",
    " - **return** позволяет вывести что-то из локальной области видимости"
   ]
  },
  {
   "cell_type": "code",
   "execution_count": null,
   "metadata": {
    "id": "3Xhegmeav8am"
   },
   "outputs": [],
   "source": [
    "from prices_module import prices_in_list as prices\n",
    "\n",
    "rate_dict =  {\n",
    "        \"GBP\": 99.432,\n",
    "        \"USD\": 76.123,\n",
    "        \"EUR\": 82.44,\n",
    "        \"RUR\": 1\n",
    "            }\n",
    "\n",
    "def price_converter(lst,rates): \n",
    "    prices_in_rub = [] \n",
    "    for element in lst: \n",
    "        rate_value = rate_dict[element[1]] \n",
    "        this_price_in_rub = element[0]*rate_value \n",
    "        prices_in_rub.append(this_price_in_rub) \n",
    "    return prices_in_rub        # вернем список с ценами в рублях\n",
    "\n",
    "price_converter(prices,rate_dict)"
   ]
  },
  {
   "cell_type": "markdown",
   "metadata": {
    "id": "WOVX6zc7v8am"
   },
   "source": [
    "Обратите внимание: переменной `prices_in_rub` в глобальной области видимости нет"
   ]
  },
  {
   "cell_type": "code",
   "execution_count": null,
   "metadata": {
    "id": "1ExMbDFXv8an",
    "scrolled": true
   },
   "outputs": [],
   "source": [
    "prices_in_rub"
   ]
  },
  {
   "cell_type": "markdown",
   "metadata": {
    "id": "Yqy1okTYv8an"
   },
   "source": [
    "# Модули\n",
    "\n",
    "\n",
    "Функции позволяют нам не копировать лишний раз код, а особенность python в том, что большое сообщество позволяет не делать с нуля целую кучу работы. Один из инструментов реиспользования готового кода — это **модули или библиотеки.**\n"
   ]
  },
  {
   "cell_type": "markdown",
   "metadata": {
    "id": "Ar0XDvLWv8an"
   },
   "source": [
    "**Стандартная библиотека** — это набор модулей, встроенных в Python."
   ]
  },
  {
   "cell_type": "markdown",
   "metadata": {
    "id": "4AlIocxlv8an"
   },
   "source": [
    "Внутри библиотеки может лежать что угодно:\n",
    "\n",
    " - функции\n",
    " - переменные (например, строки)\n",
    " - объекты\n"
   ]
  },
  {
   "cell_type": "markdown",
   "metadata": {
    "id": "lM-Da20uv8an"
   },
   "source": [
    "## Модуль / библиотека string\n",
    "\n",
    "Библиотека, в которой хранится набор строковых переменных, содержащих в себе какие-то символы. Например, в ней есть строка со всеми видами пробелов, цифр, служебных символов и т.д."
   ]
  },
  {
   "cell_type": "code",
   "execution_count": null,
   "metadata": {
    "id": "ki8ybfp8v8an"
   },
   "outputs": [],
   "source": [
    "import string # можно импортировать всю библиотеку"
   ]
  },
  {
   "cell_type": "code",
   "execution_count": null,
   "metadata": {
    "id": "bY-lHEASv8an"
   },
   "outputs": [],
   "source": [
    "help(string) # посмотрим, что она умеет"
   ]
  },
  {
   "cell_type": "markdown",
   "metadata": {
    "id": "7Vhsj72Fv8ao"
   },
   "source": [
    "Чтобы не писать вручную строку с цифрами '1234567890', можно импортировать ее из библиотеки string"
   ]
  },
  {
   "cell_type": "code",
   "execution_count": null,
   "metadata": {
    "id": "dxTiY1H2v8ao"
   },
   "outputs": [],
   "source": [
    "print(string.digits) "
   ]
  },
  {
   "cell_type": "code",
   "execution_count": null,
   "metadata": {
    "id": "oqvwCz93v8ao"
   },
   "outputs": [],
   "source": [
    "print(digits) # ничего не получится"
   ]
  },
  {
   "cell_type": "markdown",
   "metadata": {
    "id": "hOFDH2Gmv8ao"
   },
   "source": [
    "Если хотим обращаться напрямую к элементу библиотеки, нужно импортировать его отдельно"
   ]
  },
  {
   "cell_type": "code",
   "execution_count": null,
   "metadata": {
    "id": "79NiXRBXv8ao"
   },
   "outputs": [],
   "source": [
    "from string import digits"
   ]
  },
  {
   "cell_type": "code",
   "execution_count": null,
   "metadata": {
    "id": "7bj0GVR9v8ao"
   },
   "outputs": [],
   "source": [
    "print(digits)"
   ]
  },
  {
   "cell_type": "code",
   "execution_count": null,
   "metadata": {
    "id": "LClkTYYiv8ao"
   },
   "outputs": [],
   "source": [
    "def phone_cleaner(phone):      # определяем функцию и аргумент\n",
    "    clear_phone_result = ''    # создаем внутри функции переменную \n",
    "    for digit in phone:        # итерируем посимвольно то, что передано в качестве аргумента в функцию\n",
    "        if digit in digits:    # если символ входит в строку '1234567890'\n",
    "            clear_phone_result += digit # то добавляем этот символ в строку, где только цифры\n",
    "    return clear_phone_result\n"
   ]
  },
  {
   "cell_type": "code",
   "execution_count": null,
   "metadata": {
    "id": "SC3-8Dr9v8ap"
   },
   "outputs": [],
   "source": [
    "\n",
    "\n"
   ]
  },
  {
   "cell_type": "code",
   "execution_count": null,
   "metadata": {
    "id": "vXybTTv4v8ap"
   },
   "outputs": [],
   "source": []
  },
  {
   "cell_type": "code",
   "execution_count": null,
   "metadata": {
    "id": "xFYWZl-cv8ap"
   },
   "outputs": [],
   "source": []
  },
  {
   "cell_type": "markdown",
   "metadata": {
    "id": "6gnMDMHXv8ap"
   },
   "source": [
    "## Модуль / библиотека  datetime"
   ]
  },
  {
   "cell_type": "markdown",
   "metadata": {
    "id": "tHU-wT-8v8ap"
   },
   "source": [
    "**При работе с данными, постоянно приходится сталкиваться с датами.**\n",
    "\n",
    "- сравнивать даты между собой, чтобы оценить, какие события произошли раньше\n",
    "- считать разницу между датами или временем, например, чтобы определить, сколько времени проходит между действиями пользователей\n",
    "\n",
    "**Работать с данными как со строками страшно неудобно**\n",
    "\n",
    "- придется писать сложные конструкции\n",
    "- искать в строке нечто похожее на название месяца\n",
    "- складывать месяц куда-то\n",
    "- писать сложные операции сложения и вычитания... \n",
    "\n",
    "**К счастью, для всего этого есть готовый модуль стандартной библиотеки datetime**\n",
    "\n",
    "Давайте импортируем его и посмотрим, что в нем есть"
   ]
  },
  {
   "cell_type": "code",
   "execution_count": 1,
   "metadata": {
    "id": "XatQOL1Uv8ap"
   },
   "outputs": [
    {
     "name": "stdout",
     "output_type": "stream",
     "text": [
      "Help on module datetime:\n",
      "\n",
      "NAME\n",
      "    datetime - Fast implementation of the datetime type.\n",
      "\n",
      "MODULE REFERENCE\n",
      "    https://docs.python.org/3.9/library/datetime\n",
      "    \n",
      "    The following documentation is automatically generated from the Python\n",
      "    source files.  It may be incomplete, incorrect or include features that\n",
      "    are considered implementation detail and may vary between Python\n",
      "    implementations.  When in doubt, consult the module reference at the\n",
      "    location listed above.\n",
      "\n",
      "CLASSES\n",
      "    builtins.object\n",
      "        date\n",
      "            datetime\n",
      "        time\n",
      "        timedelta\n",
      "        tzinfo\n",
      "            timezone\n",
      "    \n",
      "    class date(builtins.object)\n",
      "     |  date(year, month, day) --> date object\n",
      "     |  \n",
      "     |  Methods defined here:\n",
      "     |  \n",
      "     |  __add__(self, value, /)\n",
      "     |      Return self+value.\n",
      "     |  \n",
      "     |  __eq__(self, value, /)\n",
      "     |      Return self==value.\n",
      "     |  \n",
      "     |  __format__(...)\n",
      "     |      Formats self with strftime.\n",
      "     |  \n",
      "     |  __ge__(self, value, /)\n",
      "     |      Return self>=value.\n",
      "     |  \n",
      "     |  __getattribute__(self, name, /)\n",
      "     |      Return getattr(self, name).\n",
      "     |  \n",
      "     |  __gt__(self, value, /)\n",
      "     |      Return self>value.\n",
      "     |  \n",
      "     |  __hash__(self, /)\n",
      "     |      Return hash(self).\n",
      "     |  \n",
      "     |  __le__(self, value, /)\n",
      "     |      Return self<=value.\n",
      "     |  \n",
      "     |  __lt__(self, value, /)\n",
      "     |      Return self<value.\n",
      "     |  \n",
      "     |  __ne__(self, value, /)\n",
      "     |      Return self!=value.\n",
      "     |  \n",
      "     |  __radd__(self, value, /)\n",
      "     |      Return value+self.\n",
      "     |  \n",
      "     |  __reduce__(...)\n",
      "     |      __reduce__() -> (cls, state)\n",
      "     |  \n",
      "     |  __repr__(self, /)\n",
      "     |      Return repr(self).\n",
      "     |  \n",
      "     |  __rsub__(self, value, /)\n",
      "     |      Return value-self.\n",
      "     |  \n",
      "     |  __str__(self, /)\n",
      "     |      Return str(self).\n",
      "     |  \n",
      "     |  __sub__(self, value, /)\n",
      "     |      Return self-value.\n",
      "     |  \n",
      "     |  ctime(...)\n",
      "     |      Return ctime() style string.\n",
      "     |  \n",
      "     |  isocalendar(...)\n",
      "     |      Return a named tuple containing ISO year, week number, and weekday.\n",
      "     |  \n",
      "     |  isoformat(...)\n",
      "     |      Return string in ISO 8601 format, YYYY-MM-DD.\n",
      "     |  \n",
      "     |  isoweekday(...)\n",
      "     |      Return the day of the week represented by the date.\n",
      "     |      Monday == 1 ... Sunday == 7\n",
      "     |  \n",
      "     |  replace(...)\n",
      "     |      Return date with new specified fields.\n",
      "     |  \n",
      "     |  strftime(...)\n",
      "     |      format -> strftime() style string.\n",
      "     |  \n",
      "     |  timetuple(...)\n",
      "     |      Return time tuple, compatible with time.localtime().\n",
      "     |  \n",
      "     |  toordinal(...)\n",
      "     |      Return proleptic Gregorian ordinal.  January 1 of year 1 is day 1.\n",
      "     |  \n",
      "     |  weekday(...)\n",
      "     |      Return the day of the week represented by the date.\n",
      "     |      Monday == 0 ... Sunday == 6\n",
      "     |  \n",
      "     |  ----------------------------------------------------------------------\n",
      "     |  Class methods defined here:\n",
      "     |  \n",
      "     |  fromisocalendar(...) from builtins.type\n",
      "     |      int, int, int -> Construct a date from the ISO year, week number and weekday.\n",
      "     |      \n",
      "     |      This is the inverse of the date.isocalendar() function\n",
      "     |  \n",
      "     |  fromisoformat(...) from builtins.type\n",
      "     |      str -> Construct a date from the output of date.isoformat()\n",
      "     |  \n",
      "     |  fromordinal(...) from builtins.type\n",
      "     |      int -> date corresponding to a proleptic Gregorian ordinal.\n",
      "     |  \n",
      "     |  fromtimestamp(timestamp, /) from builtins.type\n",
      "     |      Create a date from a POSIX timestamp.\n",
      "     |      \n",
      "     |      The timestamp is a number, e.g. created via time.time(), that is interpreted\n",
      "     |      as local time.\n",
      "     |  \n",
      "     |  today(...) from builtins.type\n",
      "     |      Current date or datetime:  same as self.__class__.fromtimestamp(time.time()).\n",
      "     |  \n",
      "     |  ----------------------------------------------------------------------\n",
      "     |  Static methods defined here:\n",
      "     |  \n",
      "     |  __new__(*args, **kwargs) from builtins.type\n",
      "     |      Create and return a new object.  See help(type) for accurate signature.\n",
      "     |  \n",
      "     |  ----------------------------------------------------------------------\n",
      "     |  Data descriptors defined here:\n",
      "     |  \n",
      "     |  day\n",
      "     |  \n",
      "     |  month\n",
      "     |  \n",
      "     |  year\n",
      "     |  \n",
      "     |  ----------------------------------------------------------------------\n",
      "     |  Data and other attributes defined here:\n",
      "     |  \n",
      "     |  max = datetime.date(9999, 12, 31)\n",
      "     |  \n",
      "     |  min = datetime.date(1, 1, 1)\n",
      "     |  \n",
      "     |  resolution = datetime.timedelta(days=1)\n",
      "    \n",
      "    class datetime(date)\n",
      "     |  datetime(year, month, day[, hour[, minute[, second[, microsecond[,tzinfo]]]]])\n",
      "     |  \n",
      "     |  The year, month and day arguments are required. tzinfo may be None, or an\n",
      "     |  instance of a tzinfo subclass. The remaining arguments may be ints.\n",
      "     |  \n",
      "     |  Method resolution order:\n",
      "     |      datetime\n",
      "     |      date\n",
      "     |      builtins.object\n",
      "     |  \n",
      "     |  Methods defined here:\n",
      "     |  \n",
      "     |  __add__(self, value, /)\n",
      "     |      Return self+value.\n",
      "     |  \n",
      "     |  __eq__(self, value, /)\n",
      "     |      Return self==value.\n",
      "     |  \n",
      "     |  __ge__(self, value, /)\n",
      "     |      Return self>=value.\n",
      "     |  \n",
      "     |  __getattribute__(self, name, /)\n",
      "     |      Return getattr(self, name).\n",
      "     |  \n",
      "     |  __gt__(self, value, /)\n",
      "     |      Return self>value.\n",
      "     |  \n",
      "     |  __hash__(self, /)\n",
      "     |      Return hash(self).\n",
      "     |  \n",
      "     |  __le__(self, value, /)\n",
      "     |      Return self<=value.\n",
      "     |  \n",
      "     |  __lt__(self, value, /)\n",
      "     |      Return self<value.\n",
      "     |  \n",
      "     |  __ne__(self, value, /)\n",
      "     |      Return self!=value.\n",
      "     |  \n",
      "     |  __radd__(self, value, /)\n",
      "     |      Return value+self.\n",
      "     |  \n",
      "     |  __reduce__(...)\n",
      "     |      __reduce__() -> (cls, state)\n",
      "     |  \n",
      "     |  __reduce_ex__(...)\n",
      "     |      __reduce_ex__(proto) -> (cls, state)\n",
      "     |  \n",
      "     |  __repr__(self, /)\n",
      "     |      Return repr(self).\n",
      "     |  \n",
      "     |  __rsub__(self, value, /)\n",
      "     |      Return value-self.\n",
      "     |  \n",
      "     |  __str__(self, /)\n",
      "     |      Return str(self).\n",
      "     |  \n",
      "     |  __sub__(self, value, /)\n",
      "     |      Return self-value.\n",
      "     |  \n",
      "     |  astimezone(...)\n",
      "     |      tz -> convert to local time in new timezone tz\n",
      "     |  \n",
      "     |  ctime(...)\n",
      "     |      Return ctime() style string.\n",
      "     |  \n",
      "     |  date(...)\n",
      "     |      Return date object with same year, month and day.\n",
      "     |  \n",
      "     |  dst(...)\n",
      "     |      Return self.tzinfo.dst(self).\n",
      "     |  \n",
      "     |  isoformat(...)\n",
      "     |      [sep] -> string in ISO 8601 format, YYYY-MM-DDT[HH[:MM[:SS[.mmm[uuu]]]]][+HH:MM].\n",
      "     |      sep is used to separate the year from the time, and defaults to 'T'.\n",
      "     |      The optional argument timespec specifies the number of additional terms\n",
      "     |      of the time to include. Valid options are 'auto', 'hours', 'minutes',\n",
      "     |      'seconds', 'milliseconds' and 'microseconds'.\n",
      "     |  \n",
      "     |  replace(...)\n",
      "     |      Return datetime with new specified fields.\n",
      "     |  \n",
      "     |  time(...)\n",
      "     |      Return time object with same time but with tzinfo=None.\n",
      "     |  \n",
      "     |  timestamp(...)\n",
      "     |      Return POSIX timestamp as float.\n",
      "     |  \n",
      "     |  timetuple(...)\n",
      "     |      Return time tuple, compatible with time.localtime().\n",
      "     |  \n",
      "     |  timetz(...)\n",
      "     |      Return time object with same time and tzinfo.\n",
      "     |  \n",
      "     |  tzname(...)\n",
      "     |      Return self.tzinfo.tzname(self).\n",
      "     |  \n",
      "     |  utcoffset(...)\n",
      "     |      Return self.tzinfo.utcoffset(self).\n",
      "     |  \n",
      "     |  utctimetuple(...)\n",
      "     |      Return UTC time tuple, compatible with time.localtime().\n",
      "     |  \n",
      "     |  ----------------------------------------------------------------------\n",
      "     |  Class methods defined here:\n",
      "     |  \n",
      "     |  combine(...) from builtins.type\n",
      "     |      date, time -> datetime with same date and time fields\n",
      "     |  \n",
      "     |  fromisoformat(...) from builtins.type\n",
      "     |      string -> datetime from datetime.isoformat() output\n",
      "     |  \n",
      "     |  fromtimestamp(...) from builtins.type\n",
      "     |      timestamp[, tz] -> tz's local time from POSIX timestamp.\n",
      "     |  \n",
      "     |  now(tz=None) from builtins.type\n",
      "     |      Returns new datetime object representing current time local to tz.\n",
      "     |      \n",
      "     |        tz\n",
      "     |          Timezone object.\n",
      "     |      \n",
      "     |      If no tz is specified, uses local timezone.\n",
      "     |  \n",
      "     |  strptime(...) from builtins.type\n",
      "     |      string, format -> new datetime parsed from a string (like time.strptime()).\n",
      "     |  \n",
      "     |  utcfromtimestamp(...) from builtins.type\n",
      "     |      Construct a naive UTC datetime from a POSIX timestamp.\n",
      "     |  \n",
      "     |  utcnow(...) from builtins.type\n",
      "     |      Return a new datetime representing UTC day and time.\n",
      "     |  \n",
      "     |  ----------------------------------------------------------------------\n",
      "     |  Static methods defined here:\n",
      "     |  \n",
      "     |  __new__(*args, **kwargs) from builtins.type\n",
      "     |      Create and return a new object.  See help(type) for accurate signature.\n",
      "     |  \n",
      "     |  ----------------------------------------------------------------------\n",
      "     |  Data descriptors defined here:\n",
      "     |  \n",
      "     |  fold\n",
      "     |  \n",
      "     |  hour\n",
      "     |  \n",
      "     |  microsecond\n",
      "     |  \n",
      "     |  minute\n",
      "     |  \n",
      "     |  second\n",
      "     |  \n",
      "     |  tzinfo\n",
      "     |  \n",
      "     |  ----------------------------------------------------------------------\n",
      "     |  Data and other attributes defined here:\n",
      "     |  \n",
      "     |  max = datetime.datetime(9999, 12, 31, 23, 59, 59, 999999)\n",
      "     |  \n",
      "     |  min = datetime.datetime(1, 1, 1, 0, 0)\n",
      "     |  \n",
      "     |  resolution = datetime.timedelta(microseconds=1)\n",
      "     |  \n",
      "     |  ----------------------------------------------------------------------\n",
      "     |  Methods inherited from date:\n",
      "     |  \n",
      "     |  __format__(...)\n",
      "     |      Formats self with strftime.\n",
      "     |  \n",
      "     |  isocalendar(...)\n",
      "     |      Return a named tuple containing ISO year, week number, and weekday.\n",
      "     |  \n",
      "     |  isoweekday(...)\n",
      "     |      Return the day of the week represented by the date.\n",
      "     |      Monday == 1 ... Sunday == 7\n",
      "     |  \n",
      "     |  strftime(...)\n",
      "     |      format -> strftime() style string.\n",
      "     |  \n",
      "     |  toordinal(...)\n",
      "     |      Return proleptic Gregorian ordinal.  January 1 of year 1 is day 1.\n",
      "     |  \n",
      "     |  weekday(...)\n",
      "     |      Return the day of the week represented by the date.\n",
      "     |      Monday == 0 ... Sunday == 6\n",
      "     |  \n",
      "     |  ----------------------------------------------------------------------\n",
      "     |  Class methods inherited from date:\n",
      "     |  \n",
      "     |  fromisocalendar(...) from builtins.type\n",
      "     |      int, int, int -> Construct a date from the ISO year, week number and weekday.\n",
      "     |      \n",
      "     |      This is the inverse of the date.isocalendar() function\n",
      "     |  \n",
      "     |  fromordinal(...) from builtins.type\n",
      "     |      int -> date corresponding to a proleptic Gregorian ordinal.\n",
      "     |  \n",
      "     |  today(...) from builtins.type\n",
      "     |      Current date or datetime:  same as self.__class__.fromtimestamp(time.time()).\n",
      "     |  \n",
      "     |  ----------------------------------------------------------------------\n",
      "     |  Data descriptors inherited from date:\n",
      "     |  \n",
      "     |  day\n",
      "     |  \n",
      "     |  month\n",
      "     |  \n",
      "     |  year\n",
      "    \n",
      "    class time(builtins.object)\n",
      "     |  time([hour[, minute[, second[, microsecond[, tzinfo]]]]]) --> a time object\n",
      "     |  \n",
      "     |  All arguments are optional. tzinfo may be None, or an instance of\n",
      "     |  a tzinfo subclass. The remaining arguments may be ints.\n",
      "     |  \n",
      "     |  Methods defined here:\n",
      "     |  \n",
      "     |  __eq__(self, value, /)\n",
      "     |      Return self==value.\n",
      "     |  \n",
      "     |  __format__(...)\n",
      "     |      Formats self with strftime.\n",
      "     |  \n",
      "     |  __ge__(self, value, /)\n",
      "     |      Return self>=value.\n",
      "     |  \n",
      "     |  __getattribute__(self, name, /)\n",
      "     |      Return getattr(self, name).\n",
      "     |  \n",
      "     |  __gt__(self, value, /)\n",
      "     |      Return self>value.\n",
      "     |  \n",
      "     |  __hash__(self, /)\n",
      "     |      Return hash(self).\n",
      "     |  \n",
      "     |  __le__(self, value, /)\n",
      "     |      Return self<=value.\n",
      "     |  \n",
      "     |  __lt__(self, value, /)\n",
      "     |      Return self<value.\n",
      "     |  \n",
      "     |  __ne__(self, value, /)\n",
      "     |      Return self!=value.\n",
      "     |  \n",
      "     |  __reduce__(...)\n",
      "     |      __reduce__() -> (cls, state)\n",
      "     |  \n",
      "     |  __reduce_ex__(...)\n",
      "     |      __reduce_ex__(proto) -> (cls, state)\n",
      "     |  \n",
      "     |  __repr__(self, /)\n",
      "     |      Return repr(self).\n",
      "     |  \n",
      "     |  __str__(self, /)\n",
      "     |      Return str(self).\n",
      "     |  \n",
      "     |  dst(...)\n",
      "     |      Return self.tzinfo.dst(self).\n",
      "     |  \n",
      "     |  isoformat(...)\n",
      "     |      Return string in ISO 8601 format, [HH[:MM[:SS[.mmm[uuu]]]]][+HH:MM].\n",
      "     |      \n",
      "     |      The optional argument timespec specifies the number of additional terms\n",
      "     |      of the time to include. Valid options are 'auto', 'hours', 'minutes',\n",
      "     |      'seconds', 'milliseconds' and 'microseconds'.\n",
      "     |  \n",
      "     |  replace(...)\n",
      "     |      Return time with new specified fields.\n",
      "     |  \n",
      "     |  strftime(...)\n",
      "     |      format -> strftime() style string.\n",
      "     |  \n",
      "     |  tzname(...)\n",
      "     |      Return self.tzinfo.tzname(self).\n",
      "     |  \n",
      "     |  utcoffset(...)\n",
      "     |      Return self.tzinfo.utcoffset(self).\n",
      "     |  \n",
      "     |  ----------------------------------------------------------------------\n",
      "     |  Class methods defined here:\n",
      "     |  \n",
      "     |  fromisoformat(...) from builtins.type\n",
      "     |      string -> time from time.isoformat() output\n",
      "     |  \n",
      "     |  ----------------------------------------------------------------------\n",
      "     |  Static methods defined here:\n",
      "     |  \n",
      "     |  __new__(*args, **kwargs) from builtins.type\n",
      "     |      Create and return a new object.  See help(type) for accurate signature.\n",
      "     |  \n",
      "     |  ----------------------------------------------------------------------\n",
      "     |  Data descriptors defined here:\n",
      "     |  \n",
      "     |  fold\n",
      "     |  \n",
      "     |  hour\n",
      "     |  \n",
      "     |  microsecond\n",
      "     |  \n",
      "     |  minute\n",
      "     |  \n",
      "     |  second\n",
      "     |  \n",
      "     |  tzinfo\n",
      "     |  \n",
      "     |  ----------------------------------------------------------------------\n",
      "     |  Data and other attributes defined here:\n",
      "     |  \n",
      "     |  max = datetime.time(23, 59, 59, 999999)\n",
      "     |  \n",
      "     |  min = datetime.time(0, 0)\n",
      "     |  \n",
      "     |  resolution = datetime.timedelta(microseconds=1)\n",
      "    \n",
      "    class timedelta(builtins.object)\n",
      "     |  Difference between two datetime values.\n",
      "     |  \n",
      "     |  timedelta(days=0, seconds=0, microseconds=0, milliseconds=0, minutes=0, hours=0, weeks=0)\n",
      "     |  \n",
      "     |  All arguments are optional and default to 0.\n",
      "     |  Arguments may be integers or floats, and may be positive or negative.\n",
      "     |  \n",
      "     |  Methods defined here:\n",
      "     |  \n",
      "     |  __abs__(self, /)\n",
      "     |      abs(self)\n",
      "     |  \n",
      "     |  __add__(self, value, /)\n",
      "     |      Return self+value.\n",
      "     |  \n",
      "     |  __bool__(self, /)\n",
      "     |      self != 0\n",
      "     |  \n",
      "     |  __divmod__(self, value, /)\n",
      "     |      Return divmod(self, value).\n",
      "     |  \n",
      "     |  __eq__(self, value, /)\n",
      "     |      Return self==value.\n",
      "     |  \n",
      "     |  __floordiv__(self, value, /)\n",
      "     |      Return self//value.\n",
      "     |  \n",
      "     |  __ge__(self, value, /)\n",
      "     |      Return self>=value.\n",
      "     |  \n",
      "     |  __getattribute__(self, name, /)\n",
      "     |      Return getattr(self, name).\n",
      "     |  \n",
      "     |  __gt__(self, value, /)\n",
      "     |      Return self>value.\n",
      "     |  \n",
      "     |  __hash__(self, /)\n",
      "     |      Return hash(self).\n",
      "     |  \n",
      "     |  __le__(self, value, /)\n",
      "     |      Return self<=value.\n",
      "     |  \n",
      "     |  __lt__(self, value, /)\n",
      "     |      Return self<value.\n",
      "     |  \n",
      "     |  __mod__(self, value, /)\n",
      "     |      Return self%value.\n",
      "     |  \n",
      "     |  __mul__(self, value, /)\n",
      "     |      Return self*value.\n",
      "     |  \n",
      "     |  __ne__(self, value, /)\n",
      "     |      Return self!=value.\n",
      "     |  \n",
      "     |  __neg__(self, /)\n",
      "     |      -self\n",
      "     |  \n",
      "     |  __pos__(self, /)\n",
      "     |      +self\n",
      "     |  \n",
      "     |  __radd__(self, value, /)\n",
      "     |      Return value+self.\n",
      "     |  \n",
      "     |  __rdivmod__(self, value, /)\n",
      "     |      Return divmod(value, self).\n",
      "     |  \n",
      "     |  __reduce__(...)\n",
      "     |      __reduce__() -> (cls, state)\n",
      "     |  \n",
      "     |  __repr__(self, /)\n",
      "     |      Return repr(self).\n",
      "     |  \n",
      "     |  __rfloordiv__(self, value, /)\n",
      "     |      Return value//self.\n",
      "     |  \n",
      "     |  __rmod__(self, value, /)\n",
      "     |      Return value%self.\n",
      "     |  \n",
      "     |  __rmul__(self, value, /)\n",
      "     |      Return value*self.\n",
      "     |  \n",
      "     |  __rsub__(self, value, /)\n",
      "     |      Return value-self.\n",
      "     |  \n",
      "     |  __rtruediv__(self, value, /)\n",
      "     |      Return value/self.\n",
      "     |  \n",
      "     |  __str__(self, /)\n",
      "     |      Return str(self).\n",
      "     |  \n",
      "     |  __sub__(self, value, /)\n",
      "     |      Return self-value.\n",
      "     |  \n",
      "     |  __truediv__(self, value, /)\n",
      "     |      Return self/value.\n",
      "     |  \n",
      "     |  total_seconds(...)\n",
      "     |      Total seconds in the duration.\n",
      "     |  \n",
      "     |  ----------------------------------------------------------------------\n",
      "     |  Static methods defined here:\n",
      "     |  \n",
      "     |  __new__(*args, **kwargs) from builtins.type\n",
      "     |      Create and return a new object.  See help(type) for accurate signature.\n",
      "     |  \n",
      "     |  ----------------------------------------------------------------------\n",
      "     |  Data descriptors defined here:\n",
      "     |  \n",
      "     |  days\n",
      "     |      Number of days.\n",
      "     |  \n",
      "     |  microseconds\n",
      "     |      Number of microseconds (>= 0 and less than 1 second).\n",
      "     |  \n",
      "     |  seconds\n",
      "     |      Number of seconds (>= 0 and less than 1 day).\n",
      "     |  \n",
      "     |  ----------------------------------------------------------------------\n",
      "     |  Data and other attributes defined here:\n",
      "     |  \n",
      "     |  max = datetime.timedelta(days=999999999, seconds=86399, microseconds=9...\n",
      "     |  \n",
      "     |  min = datetime.timedelta(days=-999999999)\n",
      "     |  \n",
      "     |  resolution = datetime.timedelta(microseconds=1)\n",
      "    \n",
      "    class timezone(tzinfo)\n",
      "     |  Fixed offset from UTC implementation of tzinfo.\n",
      "     |  \n",
      "     |  Method resolution order:\n",
      "     |      timezone\n",
      "     |      tzinfo\n",
      "     |      builtins.object\n",
      "     |  \n",
      "     |  Methods defined here:\n",
      "     |  \n",
      "     |  __eq__(self, value, /)\n",
      "     |      Return self==value.\n",
      "     |  \n",
      "     |  __ge__(self, value, /)\n",
      "     |      Return self>=value.\n",
      "     |  \n",
      "     |  __getinitargs__(...)\n",
      "     |      pickle support\n",
      "     |  \n",
      "     |  __gt__(self, value, /)\n",
      "     |      Return self>value.\n",
      "     |  \n",
      "     |  __hash__(self, /)\n",
      "     |      Return hash(self).\n",
      "     |  \n",
      "     |  __le__(self, value, /)\n",
      "     |      Return self<=value.\n",
      "     |  \n",
      "     |  __lt__(self, value, /)\n",
      "     |      Return self<value.\n",
      "     |  \n",
      "     |  __ne__(self, value, /)\n",
      "     |      Return self!=value.\n",
      "     |  \n",
      "     |  __repr__(self, /)\n",
      "     |      Return repr(self).\n",
      "     |  \n",
      "     |  __str__(self, /)\n",
      "     |      Return str(self).\n",
      "     |  \n",
      "     |  dst(...)\n",
      "     |      Return None.\n",
      "     |  \n",
      "     |  fromutc(...)\n",
      "     |      datetime in UTC -> datetime in local time.\n",
      "     |  \n",
      "     |  tzname(...)\n",
      "     |      If name is specified when timezone is created, returns the name.  Otherwise returns offset as 'UTC(+|-)HH:MM'.\n",
      "     |  \n",
      "     |  utcoffset(...)\n",
      "     |      Return fixed offset.\n",
      "     |  \n",
      "     |  ----------------------------------------------------------------------\n",
      "     |  Static methods defined here:\n",
      "     |  \n",
      "     |  __new__(*args, **kwargs) from builtins.type\n",
      "     |      Create and return a new object.  See help(type) for accurate signature.\n",
      "     |  \n",
      "     |  ----------------------------------------------------------------------\n",
      "     |  Data and other attributes defined here:\n",
      "     |  \n",
      "     |  max = datetime.timezone(datetime.timedelta(seconds=86340))\n",
      "     |  \n",
      "     |  min = datetime.timezone(datetime.timedelta(days=-1, seconds=60))\n",
      "     |  \n",
      "     |  utc = datetime.timezone.utc\n",
      "     |  \n",
      "     |  ----------------------------------------------------------------------\n",
      "     |  Methods inherited from tzinfo:\n",
      "     |  \n",
      "     |  __getattribute__(self, name, /)\n",
      "     |      Return getattr(self, name).\n",
      "     |  \n",
      "     |  __reduce__(...)\n",
      "     |      -> (cls, state)\n",
      "    \n",
      "    class tzinfo(builtins.object)\n",
      "     |  Abstract base class for time zone info objects.\n",
      "     |  \n",
      "     |  Methods defined here:\n",
      "     |  \n",
      "     |  __getattribute__(self, name, /)\n",
      "     |      Return getattr(self, name).\n",
      "     |  \n",
      "     |  __reduce__(...)\n",
      "     |      -> (cls, state)\n",
      "     |  \n",
      "     |  dst(...)\n",
      "     |      datetime -> DST offset as timedelta positive east of UTC.\n",
      "     |  \n",
      "     |  fromutc(...)\n",
      "     |      datetime in UTC -> datetime in local time.\n",
      "     |  \n",
      "     |  tzname(...)\n",
      "     |      datetime -> string name of time zone.\n",
      "     |  \n",
      "     |  utcoffset(...)\n",
      "     |      datetime -> timedelta showing offset from UTC, negative values indicating West of UTC\n",
      "     |  \n",
      "     |  ----------------------------------------------------------------------\n",
      "     |  Static methods defined here:\n",
      "     |  \n",
      "     |  __new__(*args, **kwargs) from builtins.type\n",
      "     |      Create and return a new object.  See help(type) for accurate signature.\n",
      "\n",
      "DATA\n",
      "    MAXYEAR = 9999\n",
      "    MINYEAR = 1\n",
      "    __all__ = ('date', 'datetime', 'time', 'timedelta', 'timezone', 'tzinf...\n",
      "\n",
      "FILE\n",
      "    c:\\users\\1645295\\anaconda3\\lib\\datetime.py\n",
      "\n",
      "\n"
     ]
    }
   ],
   "source": [
    "import datetime\n",
    "help(datetime)"
   ]
  },
  {
   "cell_type": "markdown",
   "metadata": {
    "id": "J6KSIOTov8ap"
   },
   "source": [
    "**Внутри этой библиотеки лежат объекты**\n"
   ]
  },
  {
   "cell_type": "markdown",
   "metadata": {
    "id": "Z-84jnciv8ap"
   },
   "source": [
    "\n",
    "    \n",
    "## Объекты. Что это такое, как этим пользоваться"
   ]
  },
  {
   "cell_type": "markdown",
   "metadata": {
    "id": "CNDRXG7Cv8aq"
   },
   "source": [
    "Объекты бывают абсолютно разными, но все их объединяет 2 базовые вещи: у объектов есть свойства и методы"
   ]
  },
  {
   "cell_type": "markdown",
   "metadata": {
    "id": "dNqjAimjv8aq"
   },
   "source": [
    "**Все в python является объектами/классами объектов.** \n",
    "\n",
    "\n",
    "Каждый класс объектов представляет собой отдельный, уникальный тип данных со своими методами и правилами:\n",
    "\n",
    "- строки и числа по-разному работают с арифметическими операторами\n",
    "- не все строковые методы применимы к спискам и словарям\n",
    "- не все типы данных индексируются и упорядочены\n",
    "- не все типы данных можно изменять\n"
   ]
  },
  {
   "cell_type": "code",
   "execution_count": null,
   "metadata": {
    "id": "piTuh9eHv8aq"
   },
   "outputs": [],
   "source": [
    "list.append()\n",
    "str.find()"
   ]
  },
  {
   "cell_type": "markdown",
   "metadata": {
    "id": "0JufheF8v8aq"
   },
   "source": [
    "<div style=\"padding: 24px; background-color: #ff7775; border-radius: 24px; display: flex; align-items: center; justify-content: flex-start;\">\n",
    "  <img\n",
    "    style=\"width: 56px; height: 56px; margin: 0;\"\n",
    "    src=\"data:image/png;base64,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\"\n",
    "  />\n",
    "  <div style=\"font-size: 18px; line-height: 26px; font-family: Arial; color: white; margin-left: 32px;margin-top:16px;\">\n",
    "      Методы и атрибуты определяются для каждого конкретного объекта или класса объектов\n",
    "  </div>\n",
    "</div>\n",
    "      \n",
    " "
   ]
  },
  {
   "cell_type": "markdown",
   "metadata": {
    "id": "BplokeQkv8aq"
   },
   "source": [
    "## Объекты библиотеки datetime:\n",
    "\n",
    "- Дата и время  —  **datetime**\n",
    "- Дата  —  **date**\n",
    "- Временной отрезок  —  **timedelta**\n"
   ]
  },
  {
   "cell_type": "code",
   "execution_count": 2,
   "metadata": {
    "id": "V-8LjK0yv8aq"
   },
   "outputs": [
    {
     "name": "stdout",
     "output_type": "stream",
     "text": [
      "Help on class datetime in module datetime:\n",
      "\n",
      "class datetime(date)\n",
      " |  datetime(year, month, day[, hour[, minute[, second[, microsecond[,tzinfo]]]]])\n",
      " |  \n",
      " |  The year, month and day arguments are required. tzinfo may be None, or an\n",
      " |  instance of a tzinfo subclass. The remaining arguments may be ints.\n",
      " |  \n",
      " |  Method resolution order:\n",
      " |      datetime\n",
      " |      date\n",
      " |      builtins.object\n",
      " |  \n",
      " |  Methods defined here:\n",
      " |  \n",
      " |  __add__(self, value, /)\n",
      " |      Return self+value.\n",
      " |  \n",
      " |  __eq__(self, value, /)\n",
      " |      Return self==value.\n",
      " |  \n",
      " |  __ge__(self, value, /)\n",
      " |      Return self>=value.\n",
      " |  \n",
      " |  __getattribute__(self, name, /)\n",
      " |      Return getattr(self, name).\n",
      " |  \n",
      " |  __gt__(self, value, /)\n",
      " |      Return self>value.\n",
      " |  \n",
      " |  __hash__(self, /)\n",
      " |      Return hash(self).\n",
      " |  \n",
      " |  __le__(self, value, /)\n",
      " |      Return self<=value.\n",
      " |  \n",
      " |  __lt__(self, value, /)\n",
      " |      Return self<value.\n",
      " |  \n",
      " |  __ne__(self, value, /)\n",
      " |      Return self!=value.\n",
      " |  \n",
      " |  __radd__(self, value, /)\n",
      " |      Return value+self.\n",
      " |  \n",
      " |  __reduce__(...)\n",
      " |      __reduce__() -> (cls, state)\n",
      " |  \n",
      " |  __reduce_ex__(...)\n",
      " |      __reduce_ex__(proto) -> (cls, state)\n",
      " |  \n",
      " |  __repr__(self, /)\n",
      " |      Return repr(self).\n",
      " |  \n",
      " |  __rsub__(self, value, /)\n",
      " |      Return value-self.\n",
      " |  \n",
      " |  __str__(self, /)\n",
      " |      Return str(self).\n",
      " |  \n",
      " |  __sub__(self, value, /)\n",
      " |      Return self-value.\n",
      " |  \n",
      " |  astimezone(...)\n",
      " |      tz -> convert to local time in new timezone tz\n",
      " |  \n",
      " |  ctime(...)\n",
      " |      Return ctime() style string.\n",
      " |  \n",
      " |  date(...)\n",
      " |      Return date object with same year, month and day.\n",
      " |  \n",
      " |  dst(...)\n",
      " |      Return self.tzinfo.dst(self).\n",
      " |  \n",
      " |  isoformat(...)\n",
      " |      [sep] -> string in ISO 8601 format, YYYY-MM-DDT[HH[:MM[:SS[.mmm[uuu]]]]][+HH:MM].\n",
      " |      sep is used to separate the year from the time, and defaults to 'T'.\n",
      " |      The optional argument timespec specifies the number of additional terms\n",
      " |      of the time to include. Valid options are 'auto', 'hours', 'minutes',\n",
      " |      'seconds', 'milliseconds' and 'microseconds'.\n",
      " |  \n",
      " |  replace(...)\n",
      " |      Return datetime with new specified fields.\n",
      " |  \n",
      " |  time(...)\n",
      " |      Return time object with same time but with tzinfo=None.\n",
      " |  \n",
      " |  timestamp(...)\n",
      " |      Return POSIX timestamp as float.\n",
      " |  \n",
      " |  timetuple(...)\n",
      " |      Return time tuple, compatible with time.localtime().\n",
      " |  \n",
      " |  timetz(...)\n",
      " |      Return time object with same time and tzinfo.\n",
      " |  \n",
      " |  tzname(...)\n",
      " |      Return self.tzinfo.tzname(self).\n",
      " |  \n",
      " |  utcoffset(...)\n",
      " |      Return self.tzinfo.utcoffset(self).\n",
      " |  \n",
      " |  utctimetuple(...)\n",
      " |      Return UTC time tuple, compatible with time.localtime().\n",
      " |  \n",
      " |  ----------------------------------------------------------------------\n",
      " |  Class methods defined here:\n",
      " |  \n",
      " |  combine(...) from builtins.type\n",
      " |      date, time -> datetime with same date and time fields\n",
      " |  \n",
      " |  fromisoformat(...) from builtins.type\n",
      " |      string -> datetime from datetime.isoformat() output\n",
      " |  \n",
      " |  fromtimestamp(...) from builtins.type\n",
      " |      timestamp[, tz] -> tz's local time from POSIX timestamp.\n",
      " |  \n",
      " |  now(tz=None) from builtins.type\n",
      " |      Returns new datetime object representing current time local to tz.\n",
      " |      \n",
      " |        tz\n",
      " |          Timezone object.\n",
      " |      \n",
      " |      If no tz is specified, uses local timezone.\n",
      " |  \n",
      " |  strptime(...) from builtins.type\n",
      " |      string, format -> new datetime parsed from a string (like time.strptime()).\n",
      " |  \n",
      " |  utcfromtimestamp(...) from builtins.type\n",
      " |      Construct a naive UTC datetime from a POSIX timestamp.\n",
      " |  \n",
      " |  utcnow(...) from builtins.type\n",
      " |      Return a new datetime representing UTC day and time.\n",
      " |  \n",
      " |  ----------------------------------------------------------------------\n",
      " |  Static methods defined here:\n",
      " |  \n",
      " |  __new__(*args, **kwargs) from builtins.type\n",
      " |      Create and return a new object.  See help(type) for accurate signature.\n",
      " |  \n",
      " |  ----------------------------------------------------------------------\n",
      " |  Data descriptors defined here:\n",
      " |  \n",
      " |  fold\n",
      " |  \n",
      " |  hour\n",
      " |  \n",
      " |  microsecond\n",
      " |  \n",
      " |  minute\n",
      " |  \n",
      " |  second\n",
      " |  \n",
      " |  tzinfo\n",
      " |  \n",
      " |  ----------------------------------------------------------------------\n",
      " |  Data and other attributes defined here:\n",
      " |  \n",
      " |  max = datetime.datetime(9999, 12, 31, 23, 59, 59, 999999)\n",
      " |  \n",
      " |  min = datetime.datetime(1, 1, 1, 0, 0)\n",
      " |  \n",
      " |  resolution = datetime.timedelta(microseconds=1)\n",
      " |  \n",
      " |  ----------------------------------------------------------------------\n",
      " |  Methods inherited from date:\n",
      " |  \n",
      " |  __format__(...)\n",
      " |      Formats self with strftime.\n",
      " |  \n",
      " |  isocalendar(...)\n",
      " |      Return a named tuple containing ISO year, week number, and weekday.\n",
      " |  \n",
      " |  isoweekday(...)\n",
      " |      Return the day of the week represented by the date.\n",
      " |      Monday == 1 ... Sunday == 7\n",
      " |  \n",
      " |  strftime(...)\n",
      " |      format -> strftime() style string.\n",
      " |  \n",
      " |  toordinal(...)\n",
      " |      Return proleptic Gregorian ordinal.  January 1 of year 1 is day 1.\n",
      " |  \n",
      " |  weekday(...)\n",
      " |      Return the day of the week represented by the date.\n",
      " |      Monday == 0 ... Sunday == 6\n",
      " |  \n",
      " |  ----------------------------------------------------------------------\n",
      " |  Class methods inherited from date:\n",
      " |  \n",
      " |  fromisocalendar(...) from builtins.type\n",
      " |      int, int, int -> Construct a date from the ISO year, week number and weekday.\n",
      " |      \n",
      " |      This is the inverse of the date.isocalendar() function\n",
      " |  \n",
      " |  fromordinal(...) from builtins.type\n",
      " |      int -> date corresponding to a proleptic Gregorian ordinal.\n",
      " |  \n",
      " |  today(...) from builtins.type\n",
      " |      Current date or datetime:  same as self.__class__.fromtimestamp(time.time()).\n",
      " |  \n",
      " |  ----------------------------------------------------------------------\n",
      " |  Data descriptors inherited from date:\n",
      " |  \n",
      " |  day\n",
      " |  \n",
      " |  month\n",
      " |  \n",
      " |  year\n",
      "\n"
     ]
    }
   ],
   "source": [
    "help(datetime.datetime) # посмотрим подсказку по объекту datetime"
   ]
  },
  {
   "cell_type": "markdown",
   "metadata": {
    "id": "ag-2OvBXv8ar"
   },
   "source": [
    "### `datetime.now()` \n",
    "\n",
    "Получение текущей даты и времени"
   ]
  },
  {
   "cell_type": "code",
   "execution_count": 3,
   "metadata": {
    "id": "0BE50Sjhv8ar"
   },
   "outputs": [
    {
     "data": {
      "text/plain": [
       "datetime.datetime(2022, 3, 7, 21, 23, 39, 670922)"
      ]
     },
     "execution_count": 3,
     "metadata": {},
     "output_type": "execute_result"
    }
   ],
   "source": [
    "now = datetime.datetime.now()\n",
    "now"
   ]
  },
  {
   "cell_type": "code",
   "execution_count": 4,
   "metadata": {
    "id": "ocxpLj3Fv8ar"
   },
   "outputs": [
    {
     "name": "stdout",
     "output_type": "stream",
     "text": [
      "2022-03-07 21:23:39.670922\n"
     ]
    }
   ],
   "source": [
    "print(now) # выведет в более привычном формате"
   ]
  },
  {
   "cell_type": "markdown",
   "metadata": {
    "id": "Fzk23eadv8ar"
   },
   "source": [
    "### `date.today()`\n",
    "\n",
    "Получение текущей даты"
   ]
  },
  {
   "cell_type": "code",
   "execution_count": 5,
   "metadata": {
    "id": "mW14GoEav8ar",
    "scrolled": true
   },
   "outputs": [
    {
     "name": "stdout",
     "output_type": "stream",
     "text": [
      "2022-03-07\n"
     ]
    },
    {
     "data": {
      "text/plain": [
       "datetime.date(2022, 3, 7)"
      ]
     },
     "execution_count": 5,
     "metadata": {},
     "output_type": "execute_result"
    }
   ],
   "source": [
    "day = datetime.date.today()\n",
    "print(day)\n",
    "day"
   ]
  },
  {
   "cell_type": "markdown",
   "metadata": {
    "id": "7IQIn2R-v8ar"
   },
   "source": [
    "### Упростим конструкцию, импортировав сразу нужные объекты"
   ]
  },
  {
   "cell_type": "code",
   "execution_count": null,
   "metadata": {
    "id": "L0GdF4dJv8as"
   },
   "outputs": [],
   "source": [
    "from datetime import date\n",
    "from datetime import datetime"
   ]
  },
  {
   "cell_type": "code",
   "execution_count": 6,
   "metadata": {
    "id": "FRRU6OlUv8as"
   },
   "outputs": [
    {
     "name": "stdout",
     "output_type": "stream",
     "text": [
      "2022-03-07 21:24:56.790741\n",
      "2022-03-07\n"
     ]
    }
   ],
   "source": [
    "# и даже так, в одну строку, через запятую\n",
    "\n",
    "from datetime import datetime, date\n",
    "print(datetime.now())\n",
    "print(date.today())"
   ]
  },
  {
   "cell_type": "markdown",
   "metadata": {
    "id": "RQiUJO4Uv8as"
   },
   "source": [
    "### Задача\n",
    "\n",
    "Чтобы мониторить скорость обработки заявок, мы хотим отслеживать заявки, которые были сделаны больше недели назад, но не перешли в статус \"обработано\".\n",
    "\n",
    "Здесь нам пригодятся еще несколько методов объекта `datetime ` библиотеки  `datetime `"
   ]
  },
  {
   "cell_type": "markdown",
   "metadata": {
    "id": "Jimt8-CBv8as"
   },
   "source": [
    "### `datetime.strptime()`"
   ]
  },
  {
   "cell_type": "markdown",
   "metadata": {
    "id": "I_mYB3lHv8as"
   },
   "source": [
    "Нужен, когда мы получаем дату в строковом формате, а хотим работать с ней как с датой.\n",
    "\n",
    "Мы передаем методу два аргумента \n",
    "\n",
    "1. строку, которую хотим перевести в формат `datetime`\n",
    "2. описание этой строки, и что в ней лежит в формате\n",
    "\n",
    "    - `%d` - день месяца с 1 по 31\n",
    "    \n",
    "    - `%m` - месяц с 1 по 12\n",
    "    \n",
    "    - `%Y` - год в формате 1998\n",
    "    \n",
    "    - `%H` - час в формате 0-24\n",
    "    \n",
    "    - `%M` - минуты\n",
    "    \n",
    "    - `%S` - секунды\n",
    "    \n",
    "    \n",
    "Положим в переменную строку, в которой будет дата заявки, с которой мы работаем"
   ]
  },
  {
   "cell_type": "code",
   "execution_count": 7,
   "metadata": {
    "id": "kOdswy7Yv8as"
   },
   "outputs": [
    {
     "data": {
      "text/plain": [
       "str"
      ]
     },
     "execution_count": 7,
     "metadata": {},
     "output_type": "execute_result"
    }
   ],
   "source": [
    "request_date = \"01/02/2021 13:00\"\n",
    "type(request_date)"
   ]
  },
  {
   "cell_type": "markdown",
   "metadata": {
    "id": "O7ohnvsXv8at"
   },
   "source": [
    "Приведем строку к формату datetime"
   ]
  },
  {
   "cell_type": "code",
   "execution_count": 8,
   "metadata": {
    "id": "hiUi0l-6v8at"
   },
   "outputs": [
    {
     "name": "stdout",
     "output_type": "stream",
     "text": [
      "2021-02-01 13:00:00\n",
      "<class 'datetime.datetime'>\n"
     ]
    }
   ],
   "source": [
    "request_date = datetime.strptime(request_date,\"%d/%m/%Y %H:%M\") \n",
    "print(request_date)\n",
    "print(type(request_date))"
   ]
  },
  {
   "cell_type": "markdown",
   "metadata": {
    "id": "zI1v04UMv8at"
   },
   "source": [
    "**Теперь у нас есть дата в виде \"даты\", а не в виде строчки**"
   ]
  },
  {
   "cell_type": "markdown",
   "metadata": {
    "id": "7jAXxHH0v8at"
   },
   "source": [
    "Посмотрим, сколько времени прошло между текущим моментом и завкой"
   ]
  },
  {
   "cell_type": "code",
   "execution_count": 9,
   "metadata": {
    "id": "XLnep8BDv8at"
   },
   "outputs": [
    {
     "name": "stdout",
     "output_type": "stream",
     "text": [
      "399 days, 8:23:39.670922\n"
     ]
    }
   ],
   "source": [
    "delta = now - request_date # арифметические операторы и здесь работают\n",
    "print(delta)"
   ]
  },
  {
   "cell_type": "markdown",
   "metadata": {
    "id": "s-PWisEbv8at"
   },
   "source": [
    "Но если мы захотим выяснить, больше недели прошло с какого-то момента или нет, столкнемся с нетривиальной задачей"
   ]
  },
  {
   "cell_type": "code",
   "execution_count": 10,
   "metadata": {
    "id": "6hG0FcQQv8at"
   },
   "outputs": [
    {
     "ename": "TypeError",
     "evalue": "'>=' not supported between instances of 'datetime.timedelta' and 'int'",
     "output_type": "error",
     "traceback": [
      "\u001b[1;31m---------------------------------------------------------------------------\u001b[0m",
      "\u001b[1;31mTypeError\u001b[0m                                 Traceback (most recent call last)",
      "\u001b[1;32m~\\AppData\\Local\\Temp/ipykernel_6536/394184748.py\u001b[0m in \u001b[0;36m<module>\u001b[1;34m\u001b[0m\n\u001b[1;32m----> 1\u001b[1;33m \u001b[0mdelta\u001b[0m \u001b[1;33m>=\u001b[0m \u001b[1;36m7\u001b[0m \u001b[1;31m# нельзя сравнивать с int\u001b[0m\u001b[1;33m\u001b[0m\u001b[1;33m\u001b[0m\u001b[0m\n\u001b[0m",
      "\u001b[1;31mTypeError\u001b[0m: '>=' not supported between instances of 'datetime.timedelta' and 'int'"
     ]
    }
   ],
   "source": [
    "delta >= 7 # нельзя сравнивать с int"
   ]
  },
  {
   "cell_type": "code",
   "execution_count": 11,
   "metadata": {
    "id": "kvuJtai2v8au"
   },
   "outputs": [
    {
     "data": {
      "text/plain": [
       "datetime.timedelta"
      ]
     },
     "execution_count": 11,
     "metadata": {},
     "output_type": "execute_result"
    }
   ],
   "source": [
    "type(delta) # посмотрим, что лежит в переменной"
   ]
  },
  {
   "cell_type": "markdown",
   "metadata": {
    "id": "X6YH7WPvv8au"
   },
   "source": [
    "### `timedelta`\n",
    "\n",
    "Временной отрезок\n",
    "\n",
    "Может исчисляться во всех логичных единицах измерениях времени:\n",
    " - часы (hours)\n",
    " - минуты (minutes)\n",
    " - месяцы (months)\n",
    " - недели (weeks)\n",
    " -  и т.д."
   ]
  },
  {
   "cell_type": "code",
   "execution_count": 12,
   "metadata": {
    "id": "ZqP6mfGXv8au"
   },
   "outputs": [],
   "source": [
    "from datetime import timedelta\n",
    "\n",
    "one_day = timedelta(hours = 24) \n",
    "november = timedelta(days = 31)\n",
    "one_year = timedelta(days = 365)\n",
    "one_python_course = timedelta(weeks = 10, hours = 2)"
   ]
  },
  {
   "cell_type": "markdown",
   "metadata": {
    "id": "E0nXeFiwv8au"
   },
   "source": [
    "**Сравним между собой две переменные `timedelta`**\n",
    "\n",
    "Заведем переменную, в которой сохраним временной отрезок недели"
   ]
  },
  {
   "cell_type": "code",
   "execution_count": 13,
   "metadata": {
    "id": "bA5rtKVBv8au"
   },
   "outputs": [],
   "source": [
    "days_in_week = timedelta(days = 7) "
   ]
  },
  {
   "cell_type": "code",
   "execution_count": 14,
   "metadata": {
    "id": "sn3wDX4Nv8au"
   },
   "outputs": [
    {
     "data": {
      "text/plain": [
       "True"
      ]
     },
     "execution_count": 14,
     "metadata": {},
     "output_type": "execute_result"
    }
   ],
   "source": [
    "delta >= days_in_week"
   ]
  },
  {
   "cell_type": "markdown",
   "metadata": {
    "id": "Wwngop5gv8au"
   },
   "source": [
    "### Задача\n",
    "\n",
    "Напишем функцию, которая возвращает заявки, пришедщие сегодня"
   ]
  },
  {
   "cell_type": "code",
   "execution_count": 15,
   "metadata": {
    "id": "B1ucjHZrv8av"
   },
   "outputs": [],
   "source": [
    "from orders_data import orders as order_info #загрузим данные о заявках"
   ]
  },
  {
   "cell_type": "code",
   "execution_count": 16,
   "metadata": {
    "id": "ESeIr1plv8av"
   },
   "outputs": [
    {
     "data": {
      "text/plain": [
       "{10356819: '2020-11-05 21:58',\n",
       " 3674939: '2021-01-26 15:07',\n",
       " 1787720: '2021-02-05 10:57',\n",
       " 11229532: '2021-02-06 10:23',\n",
       " 2350148: '2021-01-16 14:18',\n",
       " 992494: '2021-01-25 11:58',\n",
       " 803992: '2021-02-06 13:41',\n",
       " 201599: '2021-02-16 20:47',\n",
       " 515427: '2021-01-12 12:03',\n",
       " 2408205: '2021-01-22 15:19',\n",
       " 11521180: '2021-02-02 17:51',\n",
       " 10515977: '2021-02-04 14:06',\n",
       " 90364: '2021-01-22 12:10',\n",
       " 11572234: '2021-01-07 05:44',\n",
       " 913476: '2020-04-03 09:10'}"
      ]
     },
     "execution_count": 16,
     "metadata": {},
     "output_type": "execute_result"
    }
   ],
   "source": [
    "order_info # посмотрим, в каком формате нам приходят данные"
   ]
  },
  {
   "cell_type": "markdown",
   "metadata": {
    "id": "pzht6yNMv8av"
   },
   "source": [
    "В этой задаче нам пригодится не только переводить дату в формат  `datetime`, но и наоборот возвращать в формат строки, удобной для отчетности\n",
    "\n",
    "###  `.strftime()`\n",
    "\n",
    "Если мы хотим задать удобный нам формат времени и даты, есть метод .strftime, который форматирует даты в нужном формате в строку, это пригодится для формирования автоматических отчетов, например.\n",
    "\n",
    "   - `%d` - день месяца с 1 по 31\n",
    "   - `%m` - месяц с 1 по 12\n",
    "   - `%Y` - год в формате 1998\n",
    "   - `%H` - час в формате 0-24\n",
    "   - `%M` - минуты\n",
    "   - `%S` - секунды"
   ]
  },
  {
   "cell_type": "markdown",
   "metadata": {
    "id": "bCJQjCgLv8av"
   },
   "source": [
    "Форматов времени очень много, все их мы добавили в шпаргалку к занятию.\n",
    "\n",
    "Например, можно вывести дату вот так."
   ]
  },
  {
   "cell_type": "code",
   "execution_count": 17,
   "metadata": {
    "id": "NnMaPlRJv8av"
   },
   "outputs": [
    {
     "data": {
      "text/plain": [
       "'Monday,  7. March 22. 09:23PM'"
      ]
     },
     "execution_count": 17,
     "metadata": {},
     "output_type": "execute_result"
    }
   ],
   "source": [
    "now.strftime(\"%A, %e. %B %y. %I:%M%p\")"
   ]
  },
  {
   "cell_type": "markdown",
   "metadata": {
    "id": "ruzo7iWIv8av"
   },
   "source": [
    "Мы готовы писать функцию, которая достанет все сегодняшние заявки"
   ]
  },
  {
   "cell_type": "code",
   "execution_count": 18,
   "metadata": {
    "id": "WNtbQidXv8av"
   },
   "outputs": [],
   "source": [
    "def today_order(order_dict):\n",
    "    new_dict = dict()                               # словарь, который будем возвращать\n",
    "    now = datetime.now()                            # переменная с текущей датой now\n",
    "    now_in_str = datetime.strftime(now, '%d.%m.%Y') # строка с датой для репортинга\n",
    "   \n",
    "    for key,value in order_dict.items():            # проверяем все заявки на дату заявки\n",
    "        if datetime.strptime(value,'%Y-%m-%d %H:%M').date() == now.date():\n",
    "            new_dict[key] = value\n",
    "    \n",
    "    return 'Заявки за {0}\\n {1}'.format(now_in_str, new_dict) # возвращаем форматированную строку"
   ]
  },
  {
   "cell_type": "code",
   "execution_count": 19,
   "metadata": {
    "id": "e18f5XMJv8aw"
   },
   "outputs": [
    {
     "name": "stdout",
     "output_type": "stream",
     "text": [
      "Заявки за 07.03.2022\n",
      " {}\n"
     ]
    }
   ],
   "source": [
    "print(today_order(order_info))# печатаем результат функции"
   ]
  },
  {
   "cell_type": "markdown",
   "metadata": {
    "id": "q91DmfB9v8aw"
   },
   "source": [
    "Отлично, все получилось!"
   ]
  },
  {
   "cell_type": "markdown",
   "metadata": {
    "id": "ex-9hvbLv8aw"
   },
   "source": [
    "<body>\n",
    "  <div\n",
    "    style=\"\n",
    "      padding-top: 298px;\n",
    "      padding-bottom: 298px;\n",
    "      background-color: black;\n",
    "      border-radius: 24px;\n",
    "    \"\n",
    "  >\n",
    "    <div style=\"text-align: center\">\n",
    "      <div\n",
    "        style=\"\n",
    "          font-size: 72px;\n",
    "          line-height: 80px;\n",
    "          font-family: Arial;\n",
    "          color: white;\n",
    "        \"\n",
    "      >\n",
    "        Спасибо за внимание\n",
    "      </div>\n",
    "    </div>\n",
    "  </div>\n",
    "</body>\n"
   ]
  }
 ],
 "metadata": {
  "colab": {
   "name": "Python_1.3_lesson.ipynb",
   "provenance": []
  },
  "kernelspec": {
   "display_name": "Python 3 (ipykernel)",
   "language": "python",
   "name": "python3"
  },
  "language_info": {
   "codemirror_mode": {
    "name": "ipython",
    "version": 3
   },
   "file_extension": ".py",
   "mimetype": "text/x-python",
   "name": "python",
   "nbconvert_exporter": "python",
   "pygments_lexer": "ipython3",
   "version": "3.9.7"
  }
 },
 "nbformat": 4,
 "nbformat_minor": 1
}
