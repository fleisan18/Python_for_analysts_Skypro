{
 "cells": [
  {
   "cell_type": "markdown",
   "metadata": {
    "id": "-3oXj82JoVk_"
   },
   "source": [
    "# Домашнее задание\n"
   ]
  },
  {
   "cell_type": "markdown",
   "metadata": {
    "id": "faV0k4Y6oVlC"
   },
   "source": [
    "# 🎈🍾 🎉\n",
    "\n",
    "\n",
    "\n",
    "\n",
    "\n",
    "Вы работаете в крупном онлайн-магазине, который реализует товары «всё для праздников». Вам необходимо провести ABC-анализ и выявить наиболее важные товары на основе объемов продаж и популярности. Эта информация составит план закупок на весь следующий год. "
   ]
  },
  {
   "cell_type": "markdown",
   "metadata": {
    "id": "qJTohQeUoVlC"
   },
   "source": [
    "**ABC-анализ** позволяет определить наиболее важные ресурсы компании на основе объемов продаж и прибыли.\n",
    "\n",
    "В основе ABC-анализа лежит __«Принцип Парето»: 20% ресурсов приносят 80% прибыли__. Именно этот вид анализа позволяет выделить те самые  группы товаров, ресурсов, клиентов, поставщиков и т. п., которые и приносят компании основную прибыль."
   ]
  },
  {
   "cell_type": "markdown",
   "metadata": {
    "id": "D4BBB3rsoVlC"
   },
   "source": [
    "__Задача анализа разделить товары на группы по принципу:__\n",
    "\n",
    "- А — наиболее ценные, 20% — ассортимента (номенклатура); 80% — продаж\n",
    "- В — промежуточные, 30% — ассортимента; 15% — продаж\n",
    "- С — наименее ценные, 50% — ассортимента; 5% — продаж"
   ]
  },
  {
   "cell_type": "markdown",
   "metadata": {
    "id": "IPcD8O9IoVlD"
   },
   "source": [
    "## Задание 1"
   ]
  },
  {
   "cell_type": "markdown",
   "metadata": {
    "id": "RnTNO05JoVlF"
   },
   "source": [
    "Сохраните все данные из таблицы `products` из PostgreSQL в дата-фрейм `products` и подготовьте данные к анализу.\n",
    "\n",
    "1. Подгрузите данные для подключения\n",
    "2. Подключите нужную библиотеку для работы с PostgreSQL\n",
    "3. Создайте соединение с БД\n",
    "4. Создайте запрос и выгрузите все данные из таблицы `products`\n",
    "5. Положите данные в дата-фрейм `products`\n",
    "6. Приведите данные к удобному типу: числа к числовому типу, идентификаторы — к текстовому\n"
   ]
  },
  {
   "cell_type": "code",
   "execution_count": 1,
   "metadata": {
    "id": "d5azEwAaoVlF"
   },
   "outputs": [],
   "source": [
    "from postgresql_secret import pg_secret"
   ]
  },
  {
   "cell_type": "code",
   "execution_count": 5,
   "metadata": {},
   "outputs": [
    {
     "ename": "ModuleNotFoundError",
     "evalue": "No module named 'psycopg2'",
     "output_type": "error",
     "traceback": [
      "\u001b[1;31m---------------------------------------------------------------------------\u001b[0m",
      "\u001b[1;31mModuleNotFoundError\u001b[0m                       Traceback (most recent call last)",
      "\u001b[1;32m~\\AppData\\Local\\Temp/ipykernel_5400/2540486483.py\u001b[0m in \u001b[0;36m<module>\u001b[1;34m\u001b[0m\n\u001b[1;32m----> 1\u001b[1;33m \u001b[1;32mimport\u001b[0m \u001b[0mpsycopg2\u001b[0m\u001b[1;33m\u001b[0m\u001b[1;33m\u001b[0m\u001b[0m\n\u001b[0m",
      "\u001b[1;31mModuleNotFoundError\u001b[0m: No module named 'psycopg2'"
     ]
    }
   ],
   "source": [
    "import psycopg2"
   ]
  },
  {
   "cell_type": "code",
   "execution_count": 7,
   "metadata": {
    "id": "B_ubls_coVlG"
   },
   "outputs": [
    {
     "ename": "OperationalError",
     "evalue": "connection to server at \"178.154.254.133\", port 5432 failed: Connection timed out (0x0000274C/10060)\n\tIs the server running on that host and accepting TCP/IP connections?\n",
     "output_type": "error",
     "traceback": [
      "\u001b[1;31m---------------------------------------------------------------------------\u001b[0m",
      "\u001b[1;31mOperationalError\u001b[0m                          Traceback (most recent call last)",
      "\u001b[1;32m~\\AppData\\Local\\Temp/ipykernel_5400/1217273078.py\u001b[0m in \u001b[0;36m<module>\u001b[1;34m\u001b[0m\n\u001b[0;32m      1\u001b[0m \u001b[1;32mimport\u001b[0m \u001b[0mpsycopg2\u001b[0m\u001b[1;33m\u001b[0m\u001b[1;33m\u001b[0m\u001b[0m\n\u001b[0;32m      2\u001b[0m \u001b[1;33m\u001b[0m\u001b[0m\n\u001b[1;32m----> 3\u001b[1;33m connection = psycopg2.connect(\n\u001b[0m\u001b[0;32m      4\u001b[0m                              \u001b[0mdatabase\u001b[0m\u001b[1;33m=\u001b[0m\u001b[0mpg_secret\u001b[0m\u001b[1;33m[\u001b[0m\u001b[1;34m'db_name'\u001b[0m\u001b[1;33m]\u001b[0m\u001b[1;33m,\u001b[0m\u001b[1;33m\u001b[0m\u001b[1;33m\u001b[0m\u001b[0m\n\u001b[0;32m      5\u001b[0m                              \u001b[0muser\u001b[0m\u001b[1;33m=\u001b[0m\u001b[0mpg_secret\u001b[0m\u001b[1;33m[\u001b[0m\u001b[1;34m'db_user'\u001b[0m\u001b[1;33m]\u001b[0m\u001b[1;33m,\u001b[0m\u001b[1;33m\u001b[0m\u001b[1;33m\u001b[0m\u001b[0m\n",
      "\u001b[1;32m~\\anaconda3\\lib\\site-packages\\psycopg2\\__init__.py\u001b[0m in \u001b[0;36mconnect\u001b[1;34m(dsn, connection_factory, cursor_factory, **kwargs)\u001b[0m\n\u001b[0;32m    120\u001b[0m \u001b[1;33m\u001b[0m\u001b[0m\n\u001b[0;32m    121\u001b[0m     \u001b[0mdsn\u001b[0m \u001b[1;33m=\u001b[0m \u001b[0m_ext\u001b[0m\u001b[1;33m.\u001b[0m\u001b[0mmake_dsn\u001b[0m\u001b[1;33m(\u001b[0m\u001b[0mdsn\u001b[0m\u001b[1;33m,\u001b[0m \u001b[1;33m**\u001b[0m\u001b[0mkwargs\u001b[0m\u001b[1;33m)\u001b[0m\u001b[1;33m\u001b[0m\u001b[1;33m\u001b[0m\u001b[0m\n\u001b[1;32m--> 122\u001b[1;33m     \u001b[0mconn\u001b[0m \u001b[1;33m=\u001b[0m \u001b[0m_connect\u001b[0m\u001b[1;33m(\u001b[0m\u001b[0mdsn\u001b[0m\u001b[1;33m,\u001b[0m \u001b[0mconnection_factory\u001b[0m\u001b[1;33m=\u001b[0m\u001b[0mconnection_factory\u001b[0m\u001b[1;33m,\u001b[0m \u001b[1;33m**\u001b[0m\u001b[0mkwasync\u001b[0m\u001b[1;33m)\u001b[0m\u001b[1;33m\u001b[0m\u001b[1;33m\u001b[0m\u001b[0m\n\u001b[0m\u001b[0;32m    123\u001b[0m     \u001b[1;32mif\u001b[0m \u001b[0mcursor_factory\u001b[0m \u001b[1;32mis\u001b[0m \u001b[1;32mnot\u001b[0m \u001b[1;32mNone\u001b[0m\u001b[1;33m:\u001b[0m\u001b[1;33m\u001b[0m\u001b[1;33m\u001b[0m\u001b[0m\n\u001b[0;32m    124\u001b[0m         \u001b[0mconn\u001b[0m\u001b[1;33m.\u001b[0m\u001b[0mcursor_factory\u001b[0m \u001b[1;33m=\u001b[0m \u001b[0mcursor_factory\u001b[0m\u001b[1;33m\u001b[0m\u001b[1;33m\u001b[0m\u001b[0m\n",
      "\u001b[1;31mOperationalError\u001b[0m: connection to server at \"178.154.254.133\", port 5432 failed: Connection timed out (0x0000274C/10060)\n\tIs the server running on that host and accepting TCP/IP connections?\n"
     ]
    }
   ],
   "source": [
    "import psycopg2\n",
    "\n",
    "connection = psycopg2.connect(\n",
    "                             database=pg_secret['db_name'],\n",
    "                             user=pg_secret['db_user'],\n",
    "                             password=pg_secret['db_password'],\n",
    "                             host=pg_secret['db_host'],\n",
    "                             port=pg_secret['db_port'],\n",
    "                             )# создай соединение\n",
    "\n",
    "cursor = connection.cursor() # заведи курсор, чтобы делать запросы в базу"
   ]
  },
  {
   "cell_type": "code",
   "execution_count": null,
   "metadata": {
    "id": "t-Tq4rzjoVlG"
   },
   "outputs": [],
   "source": [
    "import pandas as pd\n",
    "\n",
    "query = # напиши запрос, твоих знаний SQL точно хватит\n",
    "\n",
    "\n",
    "columns = []\n",
    "\n",
    "\n",
    "products =\n"
   ]
  },
  {
   "cell_type": "markdown",
   "metadata": {
    "id": "TPii4OlroVlG"
   },
   "source": [
    "## Задание 2\n",
    "\n",
    "__Посчитайте, какой доход принес каждый продукт и сколько единиц каждого продукта было продано__\n",
    "\n",
    "1. Посчитай общую сумму оплат для каждой строки счета\n",
    "2. Получи общий доход и количество единиц по товарам\n",
    "3. Объедини сгруппированные данные в один датафрейм со столбцами: `description`, `stock_code`, `quantity`, `total`"
   ]
  },
  {
   "cell_type": "code",
   "execution_count": null,
   "metadata": {
    "id": "HF8pL2VuoVlG"
   },
   "outputs": [],
   "source": [
    "products['total'] = "
   ]
  },
  {
   "cell_type": "code",
   "execution_count": null,
   "metadata": {
    "id": "0ZvRsuDeoVlH"
   },
   "outputs": [],
   "source": [
    "# посчитай общих доход по каждому товару"
   ]
  },
  {
   "cell_type": "code",
   "execution_count": null,
   "metadata": {
    "id": "pEkoPL_NoVlH"
   },
   "outputs": [],
   "source": [
    "# посчитай общее количество проданных единиц по каждому товару"
   ]
  },
  {
   "cell_type": "code",
   "execution_count": null,
   "metadata": {
    "id": "XZz8YxEJoVlH"
   },
   "outputs": [],
   "source": [
    "# объедини общие данные в одну таблицу"
   ]
  },
  {
   "cell_type": "markdown",
   "metadata": {
    "id": "sNrdX2bXoVlH"
   },
   "source": [
    "## Задание 3\n",
    "\n",
    "__Найди нарастающий итог по процентам__\n",
    "\n",
    "1. Отсортируй датафрейм по доходу в нисходящем порядке \n",
    "2. Найди процент дохода каждого товара в общем доходе \n",
    "3. Сделай нарастающий итог (running total) по процентам каждого товара, для этого найди в интернете и примени метод для расчета кумулятивной суммы в `pandas`. \n",
    "\n",
    "\n",
    "Нарастающий итог — это представление данных, в котором мы видим динамику нарастания или убывания суммы от начала отсчета до конца. Получаем мы эту кумулятивную сумму, прибавлением поочередно каждого следующего элемента к сумме предыдущих.  \n",
    "\n"
   ]
  },
  {
   "cell_type": "code",
   "execution_count": null,
   "metadata": {
    "id": "WdZrwaMzoVlH"
   },
   "outputs": [],
   "source": [
    "# отсортируй дата-фрейм (большие вверху, маленькие внизу)"
   ]
  },
  {
   "cell_type": "code",
   "execution_count": null,
   "metadata": {
    "id": "1d9E9cC9oVlI"
   },
   "outputs": [],
   "source": [
    "# найди процент дохода для каждого товара \n",
    "\n",
    "#(искомая часть / целое число) * 100"
   ]
  },
  {
   "cell_type": "code",
   "execution_count": null,
   "metadata": {
    "id": "tKDduqtmoVlI"
   },
   "outputs": [],
   "source": [
    "# используй метод pandas для кумулятивной суммы"
   ]
  },
  {
   "cell_type": "markdown",
   "metadata": {
    "id": "kM4OXMDXoVlI"
   },
   "source": [
    "## Задание 4\n",
    "\n",
    "__Пометь товары метками `'A'`, `'B'`, `'C'` в зависимости от нарастающего итога__\n",
    "\n",
    "1. Напиши функцию, которая будет помечать товары с нарастающим итогом ниже или равно 80% как группу `'A'`, от 80%-95% — как `'B'` и остальные как `'C'`"
   ]
  },
  {
   "cell_type": "code",
   "execution_count": null,
   "metadata": {
    "id": "3i9wyQQpoVlI"
   },
   "outputs": [],
   "source": [
    "def revenue(x):\n",
    "    # допиши функцию\n",
    "\n",
    "# создай новый столбец revenue с помощью функции"
   ]
  },
  {
   "cell_type": "markdown",
   "metadata": {
    "id": "numdHWgvoVlI"
   },
   "source": [
    "## Задание 5\n",
    "\n",
    "__Найди нарастающий итог по количеству товарных единиц и пометь товары метками `'A'`, `'B'`, `'C'`, отмечая тем самым популярность товара__\n",
    "\n",
    "1. Отсортируй предыдущий датафрейм с данными о доходе теперь по количеству товаров\n",
    "2. Найди процент каждого товара в общем количестве\n",
    "3. Найди нарастающий итог по количеству\n",
    "4. Напиши функцию с теми же параметрами, что и у дохода\n",
    "5. Отметь группу"
   ]
  },
  {
   "cell_type": "code",
   "execution_count": null,
   "metadata": {
    "id": "9XIzKrqUoVlJ"
   },
   "outputs": [],
   "source": [
    "# проведи те же операции, что в двух предыдущих заданиях, для оценки популярности товаров"
   ]
  },
  {
   "cell_type": "code",
   "execution_count": null,
   "metadata": {
    "id": "hqZWts1-oVlJ"
   },
   "outputs": [],
   "source": [
    "def quantity(x):\n",
    "   # допиши функцию\n",
    "\n",
    "# создай новый столбец popularity с помощью функции"
   ]
  },
  {
   "cell_type": "code",
   "execution_count": null,
   "metadata": {
    "id": "BKV4oPrGoVlJ"
   },
   "outputs": [],
   "source": [
    "prod.head()"
   ]
  },
  {
   "cell_type": "markdown",
   "metadata": {
    "id": "GpdRHaB1oVlJ"
   },
   "source": [
    "## Задание 6\n",
    "\n",
    "__Объедини группы и проанализируй__\n",
    "\n",
    "1. Создай серию `group` с объединенным столбцом отметок популярности и доходности товаров\n",
    "2. Посчитай количество вхождений каждой сгруппированной пары\n",
    "3. Какие группы непопулярны и приносят мало дохода?\n",
    "4. На каких группах товаров нужно сфокусироваться при составлении плана закупок?"
   ]
  },
  {
   "cell_type": "code",
   "execution_count": null,
   "metadata": {
    "id": "iN0Qnm0ZoVlJ"
   },
   "outputs": [],
   "source": [
    "# напиши здесь код и комментарии"
   ]
  },
  {
   "cell_type": "markdown",
   "metadata": {
    "id": "9Iiu8wnDoVlK"
   },
   "source": [
    "## Задание 7\n",
    "\n",
    "__Выгрузи данные по товарам с метокой по ABC-анализу__\n",
    "\n",
    "1. Объедини по `stock_code` в одной таблице `ABC-код`, описание товара и `ID `\n",
    "\n",
    "2. Выгрузи таблицу в `csv` для отправки в отдел закупок"
   ]
  },
  {
   "cell_type": "markdown",
   "metadata": {
    "id": "4eOCqjttoVlK"
   },
   "source": [
    "# 🎉🎉🎉 Поздравляем, ты великолепен! "
   ]
  }
 ],
 "metadata": {
  "colab": {
   "collapsed_sections": [],
   "name": "Skills_Python_5.1_homework.ipynb",
   "provenance": []
  },
  "kernelspec": {
   "display_name": "Python 3 (ipykernel)",
   "language": "python",
   "name": "python3"
  },
  "language_info": {
   "codemirror_mode": {
    "name": "ipython",
    "version": 3
   },
   "file_extension": ".py",
   "mimetype": "text/x-python",
   "name": "python",
   "nbconvert_exporter": "python",
   "pygments_lexer": "ipython3",
   "version": "3.9.7"
  }
 },
 "nbformat": 4,
 "nbformat_minor": 1
}
