{
 "cells": [
  {
   "cell_type": "markdown",
   "metadata": {
    "id": "-of9NtRS6Mge"
   },
   "source": [
    "<div\n",
    "  style=\"\n",
    "    padding: 36px 20px 63px 20px;\n",
    "    background-color: #009ee4;\n",
    "    border-radius: 0 0 200px 0;\n",
    "  \"\n",
    ">\n",
    "  <img\n",
    "    style=\"width: 188px; height: 40px; margin: 0\"\n",
    "    src=\"data:image/png;base64,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\"\n",
    "  />\n",
    "\n",
    "  <div\n",
    "    style=\"\n",
    "      color: white;\n",
    "      margin-top: 52px;\n",
    "      font-size: 56px;\n",
    "      line-height: 64px;\n",
    "      font-family: Arial;\n",
    "    \"\n",
    "  >\n",
    "Библиотека Prophet для прогнозирования временных рядов\n",
    "  </div>\n",
    "</div>\n"
   ]
  },
  {
   "cell_type": "markdown",
   "metadata": {
    "id": "fkUkQCeX6Mgl"
   },
   "source": [
    "## Machine Learning"
   ]
  },
  {
   "cell_type": "markdown",
   "metadata": {
    "id": "Zbq6PUSj6Mgl"
   },
   "source": [
    "Или __«машинное обучение»__ — множество методов для разработки алгоритмов, которые решают задачу на основании поиска закономерностей в данных.  \n",
    "  \n",
    "В компаниях очень много данных, и логично, что бизнес хочет их использовать. \n",
    "  \n",
    "__Наиболее частая задача — прогнозирование различных показателей:__\n",
    "- количество пользователей\n",
    "- выручка\n",
    "- вероятность того, что пользователь совершит какое-то действие (например, сделает покупку или, наоборот, перестанет пользоваться продуктом)\n",
    "- и т. д.\n",
    "  \n",
    "Очень популярен __анализ временных рядов__. Временные ряды — это последовательность значений в определенный момент времени или за определенный промежуток времени. __Например:__\n",
    "- количество покупок по дням\n",
    "- выручка по дням/неделям/месяцам\n",
    "- и т. д."
   ]
  },
  {
   "cell_type": "markdown",
   "metadata": {
    "id": "ZYI6LojT6Mgm"
   },
   "source": [
    "# Задача"
   ]
  },
  {
   "cell_type": "markdown",
   "metadata": {
    "id": "4p-mxOvc6Mgm"
   },
   "source": [
    "Сеть из трех продуктовых магазинов хочет спрогнозировать общий объем выручки сети на январь 2021 года. В качестве данных для построения моделей компания предоставляет данные о выручке за период `2020.05.01 - 2020.12.31`. Прогноз должен быть по дням."
   ]
  },
  {
   "cell_type": "markdown",
   "metadata": {
    "id": "-XgFD1WW6Mgm"
   },
   "source": [
    "### Как это сделать?\n",
    "\n",
    "1. Исследуем данные, которые нам предоставили\n",
    "2. Построим стратегию расчета прогнозной модели\n",
    "3. Сделаем машин лернинг\n",
    "\n",
    "### Подготовим нужные библиотеки"
   ]
  },
  {
   "cell_type": "code",
   "execution_count": null,
   "metadata": {
    "id": "OaGB4pIp6Mgn"
   },
   "outputs": [],
   "source": [
    "import numpy as np\n",
    "import pandas as pd\n",
    "import matplotlib.pyplot as plt\n",
    "import seaborn as sns\n",
    "import warnings # это библиотека для управления warning'ами — то есть различными предупреждениями\n",
    "                # ниже мы с помощью нее игнорим лишние предупреждения\n",
    "                # мы можем это убрать, но где-то всплывали ворнинги, и чтобы они не раздражали и не вызывали вопросов, мы их отключим\n",
    "\n",
    "warnings.filterwarnings('ignore')"
   ]
  },
  {
   "cell_type": "markdown",
   "metadata": {
    "id": "FuhWAuBP6Mgm"
   },
   "source": [
    "### Графический анализ данных"
   ]
  },
  {
   "cell_type": "markdown",
   "metadata": {
    "id": "GFbjPZtJ6Mgn"
   },
   "source": [
    "Для начала посмотрим на данные — какие есть поля, объем данных и т. д."
   ]
  },
  {
   "cell_type": "code",
   "execution_count": null,
   "metadata": {
    "colab": {
     "base_uri": "https://localhost:8080/",
     "height": 379
    },
    "executionInfo": {
     "elapsed": 1667,
     "status": "error",
     "timestamp": 1612458084810,
     "user": {
      "displayName": "Настя Дорожкина",
      "photoUrl": "https://lh3.googleusercontent.com/a-/AOh14Gin5NXAhfC9yZx4Oh9wa8al3ZeC0gPLDIGrIoPj=s64",
      "userId": "09735892989798859718"
     },
     "user_tz": -180
    },
    "id": "HZfKAb1B6Mgn",
    "outputId": "df7ddade-7ffe-4c14-9eae-6ad82c30f3cd"
   },
   "outputs": [],
   "source": [
    "data_revenue = pd.read_csv('revenue_01.05.2020_31.12.2020.csv') # подключимся к данным"
   ]
  },
  {
   "cell_type": "code",
   "execution_count": null,
   "metadata": {
    "colab": {
     "base_uri": "https://localhost:8080/",
     "height": 200
    },
    "executionInfo": {
     "elapsed": 1398,
     "status": "error",
     "timestamp": 1612458085875,
     "user": {
      "displayName": "Настя Дорожкина",
      "photoUrl": "https://lh3.googleusercontent.com/a-/AOh14Gin5NXAhfC9yZx4Oh9wa8al3ZeC0gPLDIGrIoPj=s64",
      "userId": "09735892989798859718"
     },
     "user_tz": -180
    },
    "id": "GsuIwOWo6Mgn",
    "outputId": "19f628d0-43cf-4fe6-b19d-0b6ef6133d56"
   },
   "outputs": [],
   "source": [
    "data_revenue.head()"
   ]
  },
  {
   "cell_type": "code",
   "execution_count": null,
   "metadata": {
    "id": "eMazgPdW6Mgn"
   },
   "outputs": [],
   "source": [
    "data_revenue.shape"
   ]
  },
  {
   "cell_type": "markdown",
   "metadata": {
    "id": "p2XFIULY6Mgo"
   },
   "source": [
    "В наших данных есть общая информация о выручке в каждом из трех филиалов за каждый день с 1 мая 2020 по 31 декабря 2020."
   ]
  },
  {
   "cell_type": "markdown",
   "metadata": {
    "id": "tuVXUqLC6Mgo"
   },
   "source": [
    "Наша задача — спрогнозировать общую выручку по всем трем филиалам, поэтому посмотрим на общие данные.\n",
    "\n",
    "Возьмем гистограмму, которая отдаст частотность разных показателей выручки. В сам график передадим сгруппированный датасет по датам и выручке, чтобы каждый день встречался единожды и мы считали сумму по трем филиалам."
   ]
  },
  {
   "cell_type": "code",
   "execution_count": null,
   "metadata": {
    "id": "TVXDfzb_6Mgo"
   },
   "outputs": [],
   "source": [
    "# суммарная выручка по всем филиалам\n",
    "\n",
    "plt.figure(figsize=(10, 5))\n",
    "plt.title('Распределение общей выручки') \n",
    "plt.xlabel('Выручка') \n",
    "plt.ylabel('Количество дней') \n",
    "plt.grid() \n",
    "\n",
    "plt.hist(data_revenue.groupby('date')['revenue'].sum(), bins=50) \n",
    "\n",
    "plt.show()\n"
   ]
  },
  {
   "cell_type": "markdown",
   "metadata": {
    "id": "KK4NM8RZ6Mgo"
   },
   "source": [
    "Видим, что в общей выручке явно есть смесь. Попробуем построить более детаельную гистограмму выручки без группирования по дню. \n",
    "\n",
    "Теперь за каждый день у нас будет 3 показателя за 1, 2 и 3 филиал."
   ]
  },
  {
   "cell_type": "code",
   "execution_count": null,
   "metadata": {
    "id": "yqw_R3_w6Mgo",
    "scrolled": true
   },
   "outputs": [],
   "source": [
    "plt.figure(figsize=(10, 5)) \n",
    "plt.title('Распределение общей выручки') \n",
    "plt.xlabel('Выручка') \n",
    "plt.ylabel('Количество дней') \n",
    "plt.grid() \n",
    "\n",
    "plt.hist(data_revenue['revenue'], bins=150) # можем увеличить втрое количество бинов, чтобы визуализация была точнее\n",
    "\n",
    "plt.show()"
   ]
  },
  {
   "cell_type": "markdown",
   "metadata": {
    "id": "h3e4vKC06Mgp"
   },
   "source": [
    "Очевидная смесь в данных. Посмотрим, решается ли это разделением на филиалы. Для этого построим гистограммы отдельно по филиалам \n",
    "\n",
    "с помощью метода `.unique` возьмем список уникальных филиалов и пройдем по нему циклом:"
   ]
  },
  {
   "cell_type": "code",
   "execution_count": null,
   "metadata": {
    "id": "CqNEdqDW6Mgp"
   },
   "outputs": [],
   "source": [
    "plt.figure(figsize=(10, 5)) \n",
    "\n",
    "filial = pd.unique(data_revenue['filial']) # сделаем серию со списком филиалов\n",
    "\n",
    "for f in filial: # фильтр по филиалу\n",
    "    sns.distplot(data_revenue.loc[data_revenue['filial'] == f]['revenue'], label = f);\n",
    "    \n",
    "plt.legend();"
   ]
  },
  {
   "cell_type": "markdown",
   "metadata": {
    "id": "yZd2k1iU6Mgp"
   },
   "source": [
    "Как видим, во многом смесь объясняет разделение на филиалы, но не до конца.  \n",
    "Посмотрим, как выглядят данные в виде временных рядов (в сумме и в разделении по филиалам)\n",
    "\n",
    "### Отрисуем временной ряд\n",
    "\n",
    "Используем объект `dates` из библиотеки `matplotlib`, чтобы управлять детальности отсечек по дате на оси графика.\n",
    "\n",
    "В настройках графика мы укажем с помощью объекта `.MonthLocator()`, что хотим отображать даты по месяцам, а не по дням. \n",
    "\n",
    "- запишем в переменную `locator` месячную настройку подписей\n",
    "\n",
    "- с помощью метода `.gca()` сообщим о намерении обратиться к конкретной оси `axis`, в нашем случае ось Х\n",
    "\n",
    "- применим к оси метод `set_major_locator()` с месячной настройкой, которая лежит в переменной \n"
   ]
  },
  {
   "cell_type": "code",
   "execution_count": null,
   "metadata": {
    "id": "gqH_mu-h6Mgp"
   },
   "outputs": [],
   "source": [
    "import matplotlib.dates as mdates #импортируем для локаторов\n",
    "\n",
    "# суммарная выручка\n",
    "plt.figure(figsize = (15, 7))\n",
    "\n",
    "plt.title('Общая динамика выручки') \n",
    "plt.xlabel('Дата') \n",
    "plt.ylabel('Выручка') \n",
    "plt.grid()\n",
    "locator = mdates.MonthLocator() # передадим, что хотим подписи помесячно\n",
    "X = plt.gca().xaxis # обращаемся к оси х\n",
    "X.set_major_locator(locator) # передадим в ось параметры локатора\n",
    "sns.lineplot(x = data_revenue.groupby('date')['revenue'].sum().index, # .index, чтобы взять дату по оси x\n",
    "             y = data_revenue.groupby('date')['revenue'].sum()\n",
    "            )\n",
    "plt.show()"
   ]
  },
  {
   "cell_type": "markdown",
   "metadata": {},
   "source": [
    "И теперь проделаем то же самое для всех филиалов, используя цикл."
   ]
  },
  {
   "cell_type": "code",
   "execution_count": null,
   "metadata": {
    "id": "LvpKkJrp6Mgp"
   },
   "outputs": [],
   "source": [
    "# выручка по филиалам\n",
    "plt.figure(figsize = (15, 7))\n",
    "\n",
    "plt.title('Динамика выручки по филиалам') \n",
    "plt.xlabel('Дата') \n",
    "plt.ylabel('Выручка') \n",
    "plt.grid()\n",
    "for f in pd.unique(data_revenue['filial']):\n",
    "    sns.lineplot( \n",
    "                 x = data_revenue.loc[data_revenue['filial'] == f]['date'], \n",
    "                 y = data_revenue.loc[data_revenue['filial'] == f]['revenue'], \n",
    "                 label = f);\n",
    "    \n",
    "locator = mdates.MonthLocator()\n",
    "X = plt.gca().xaxis\n",
    "X.set_major_locator(locator)"
   ]
  },
  {
   "cell_type": "markdown",
   "metadata": {
    "id": "f0N6bTqh6Mgq"
   },
   "source": [
    "На основании графического анализа данных можно сделать следующие выводы и предположения:\n",
    "- в данных есть смесь, вызванная тем, что разные филиалы в среднем имеют разную выручку\n",
    "- в данных можно увидеть тренды (возрастающий тренд для филиалов 1 и 2 и убывающий тренд для филиала 3)\n",
    "- в данных есть смесь, вызванная скорее сезонными явлениями (на это указывает циклический характер временных рядов)\n",
    "\n",
    "Таким образом в качестве потенциальных гипотез, которые помогут улучшить качество прогнозной модели, стоит учесть:\n",
    "- разделение по филиалам\n",
    "- выделение линейного тренда\n",
    "- добавление учета сезонности"
   ]
  },
  {
   "cell_type": "markdown",
   "metadata": {
    "id": "JYEtfmhQ6Mgq"
   },
   "source": [
    "# Построение прогнозной модели"
   ]
  },
  {
   "cell_type": "markdown",
   "metadata": {
    "id": "cr1Dvj-q6Mgq"
   },
   "source": [
    "## Prophet "
   ]
  },
  {
   "cell_type": "markdown",
   "metadata": {
    "id": "t1LJvnAg6Mgq"
   },
   "source": [
    "Prophet — очень популярная библиотека от компании Facebook для анализа и прогнозирования временных рядов. \n",
    "\n",
    "- просто настраиваются прогнозные модели\n",
    "- можно полностью довериться алгоритму и использовать его как «черный ящик»\n",
    "- можно очень детально настроить множество параметров, которые доступны в алгоритме  \n",
    "\n",
    "__Модель__ — это алгоритм или набор алгоритмов, которые строятся на основании данных и с помощью которого/которых мы сможем прогнозировать.\n",
    "\n",
    "__Посмотрим [документацию](https://facebook.github.io/prophet/docs/quick_start.html)__\n",
    "\n",
    "\n",
    "Для построения модели нам нужно привести данные к стандартному виду, и нам понадобятся данные обучающей выборки."
   ]
  },
  {
   "cell_type": "markdown",
   "metadata": {
    "id": "a4Zd3wOz6Mgq"
   },
   "source": [
    "## Обучающая/контрольная выборки \n",
    "\n",
    "В машинном обучении есть понятия «обучение с учителем» и «обучение без учителя». То есть имеются ли у нас ответы и подсказки, чтобы проверить, хорошо ли обучилась модель.\n",
    "\n",
    "Мы можем обучить нашу модель на данных с мая по ноябрь, а на декабрьских проверить, хорошо ли наша модель предсказывает. Разделим данные на обучающую и контрольную группы. "
   ]
  },
  {
   "cell_type": "markdown",
   "metadata": {
    "id": "8JFT0yS76Mgq"
   },
   "source": [
    "<div style=\"display: flex; width: 100%; font-family: Arial\">\n",
    "<div style=\"width: 100%; margin-left: 0px\">\n",
    "  <div style=\"font-size: 20px; line-height: 30px\">Обучающие данные</div>\n",
    "\n",
    "  <div\n",
    "    style=\"\n",
    "      font-size: 14px;\n",
    "      line-height: 20px;\n",
    "      color: rgba(0, 0, 0, 0.48);\n",
    "      margin-top: 16px;\n",
    "    \"\n",
    "  >\n",
    "    Основа для обучения модели. \n",
    "      <br/>\n",
    "      Они выступают неким эталоном динамики и поведения данных.  \n",
    "  </div>\n",
    "</div>\n",
    "\n",
    "<div style=\"width: 100%; margin-left: 24px\">\n",
    "  <div style=\"font-size: 20px; line-height: 30px\">Контрольные данные</div>\n",
    "\n",
    "  <div\n",
    "    style=\"\n",
    "      font-size: 14px;\n",
    "      line-height: 20px;\n",
    "      color: rgba(0, 0, 0, 0.48);\n",
    "      margin-top: 16px;\n",
    "    \"\n",
    "  >\n",
    "    Нужны для проверки, как хорошо обучилась модель и на сколько точно она может предсказывать будущее. \n",
    "  </div>\n",
    "</div>\n",
    "\n",
    "<div style=\"width: 100%; margin-left: 24px\">\n",
    "  <div style=\"font-size: 20px; line-height: 30px\">Переобучение модели</div>\n",
    "\n",
    "  <div\n",
    "    style=\"\n",
    "      font-size: 14px;\n",
    "      line-height: 20px;\n",
    "      color: rgba(0, 0, 0, 0.48);\n",
    "      margin-top: 16px;\n",
    "    \"\n",
    "  >\n",
    "    Ситуация, когда модель дает качество в обучении, но низкое на контроле, взяв единичные особенности обучающей выборки как общее поведение данных.\n",
    "   \n",
    "  </div>\n",
    "</div>\n",
    "</div>\n"
   ]
  },
  {
   "cell_type": "markdown",
   "metadata": {
    "id": "sVtCEi9Y6Mgr"
   },
   "source": [
    "<img style='float:left' src=\"https://raw.githubusercontent.com/foobar167/articles/master/Machine_Learning/Brochure/data/Ris2.6-Nedoobucheniye-optimum-i-pereobucheniye-v-regressii.png\" width=\"700\"/>"
   ]
  },
  {
   "cell_type": "markdown",
   "metadata": {
    "id": "4loMfV4w6Mgr"
   },
   "source": [
    "В нашем случае, как и договорились, разделим данные на обучение и контроль следующим образом:\n",
    "- данные с мая по ноябрь — обучение\n",
    "- данные за декабрь — контроль"
   ]
  },
  {
   "cell_type": "code",
   "execution_count": null,
   "metadata": {
    "id": "c6Kkb7lV6Mgs"
   },
   "outputs": [],
   "source": [
    "train = data_revenue.loc[data_revenue['date'] < '2020-12-01']\n",
    "test = data_revenue.loc[data_revenue['date'] >= '2020-12-01']\n",
    "\n",
    "train.shape, test.shape"
   ]
  },
  {
   "cell_type": "markdown",
   "metadata": {
    "id": "ClugVXG46Mgs"
   },
   "source": [
    "### Попробуем построить первую модель для общей выручки\n",
    "\n",
    "Для начала сгруппируем данные каждой выборки по дате с суммой выручки. Индекс сбросим, чтобы работать только с колонками.\n"
   ]
  },
  {
   "cell_type": "code",
   "execution_count": null,
   "metadata": {
    "id": "2oWiIQ326Mgs"
   },
   "outputs": [],
   "source": [
    "train_0 = train.groupby(['date'])['revenue'].sum().reset_index() # сгруппировали данные обучающей выборки\n",
    "test_0 = test.groupby(['date'])['revenue'].sum().reset_index() # сгруппировали данные контрольной выборки"
   ]
  },
  {
   "cell_type": "code",
   "execution_count": null,
   "metadata": {
    "id": "uSYm9HTZ6Mgs"
   },
   "outputs": [],
   "source": [
    "train_0.head()"
   ]
  },
  {
   "cell_type": "markdown",
   "metadata": {
    "id": "gyahag9Y6Mgs"
   },
   "source": [
    "Установим и импортируем `Prophet()`. Несколько дополнительных способой установки можно найти в отдельном ноутбуке. "
   ]
  },
  {
   "cell_type": "code",
   "execution_count": null,
   "metadata": {},
   "outputs": [],
   "source": [
    "!pip install pystan\n",
    "!pip install fbprophet"
   ]
  },
  {
   "cell_type": "code",
   "execution_count": null,
   "metadata": {
    "id": "YXMzwF-m6Mgt"
   },
   "outputs": [],
   "source": [
    "from fbprophet import Prophet"
   ]
  },
  {
   "cell_type": "markdown",
   "metadata": {
    "id": "smTpEpDv6Mgt"
   },
   "source": [
    "Сначала попробуем построить прогнозную модель без указания каких бы то ни было параметров — пусть алгоритм действует на свое усмотрение.\n",
    "\n",
    "__Параметры__ — это настройки модели. Обученная модель фиксирует ряд настроек, и мы на этапе обучения можем подсказать ей, как настраиваться или оставить настройки  «по умолчанию» . \n",
    "\n",
    "Чтобы создать модель, мы используем \n",
    "1. объект `Prophet()` из библиотеки\n",
    "\n",
    "2. метод `.fit()` для подгонки модели\n",
    "3. правильно подготовленные данные\n",
    "\n",
    "\n",
    "Создадим `model`, присвоив ей объект `Prophet()`"
   ]
  },
  {
   "cell_type": "code",
   "execution_count": null,
   "metadata": {
    "id": "wpl-FGYa6Mgt"
   },
   "outputs": [],
   "source": [
    "model = Prophet()\n",
    "model"
   ]
  },
  {
   "cell_type": "markdown",
   "metadata": {
    "id": "oi2XHqQ36Mgt"
   },
   "source": [
    "`.fit()` — метод подгонки модели под заданные данные и параметры модели\n",
    "\n",
    "Нужно, чтобы в метод `.fit()` подавался датафрейм с нужными полями. Заглянем еще раз в [документацию.](https://facebook.github.io/prophet/docs/quick_start.html)\n",
    "- `ds` — временная гранула, в нашем случае день\n",
    "\n",
    "- `y` — значения, которые будем предсказывать, в нашем случае выручка"
   ]
  },
  {
   "cell_type": "code",
   "execution_count": null,
   "metadata": {
    "id": "-CLvNOqs6Mgt"
   },
   "outputs": [],
   "source": [
    "train_0.head()"
   ]
  },
  {
   "cell_type": "markdown",
   "metadata": {},
   "source": [
    "Переименуем столбцы в обучающем и тестовом датасетах, чтобы они подходили для использования методов Prophet"
   ]
  },
  {
   "cell_type": "code",
   "execution_count": null,
   "metadata": {
    "id": "wq4ITXTL6Mgu"
   },
   "outputs": [],
   "source": [
    "train_0.columns = ['ds', 'y'] # переименовали столбцы\n",
    "\n",
    "test_0.columns = ['ds', 'y']"
   ]
  },
  {
   "cell_type": "code",
   "execution_count": null,
   "metadata": {
    "id": "Os5z5pfF6Mgu"
   },
   "outputs": [],
   "source": [
    "model.fit(train_0) # подогнали модель под наши данные"
   ]
  },
  {
   "cell_type": "markdown",
   "metadata": {
    "id": "bmpEWMRy6Mgu"
   },
   "source": [
    "Как видим, алгоритм сам нам подсказывает, что он проигнорировал, выбирая параметры  \n",
    "\n",
    "1. `INFO:fbprophet:Disabling yearly seasonality. Run prophet with yearly_seasonality=True to override this.`\n",
    "\n",
    "    - годовую сезонность (*для годовой сезонности нам нужно иметь данные минимум за два года, чтобы суметь использовать ее в модели*)\n",
    "\n",
    "\n",
    "2. `INFO:fbprophet:Disabling daily seasonality. Run prophet with daily_seasonality=True to override this.`\n",
    "\n",
    "    - дневную сезонность (*дневная сезонность может использоваться в случае, если данные собираются по часам/минутам, в нашем случае данные представлены по дням*).\n",
    "\n",
    "\n",
    "Зато он обнаружил недельную сезонность и использовал его при настройке модели.\n"
   ]
  },
  {
   "cell_type": "markdown",
   "metadata": {
    "id": "Ayl1j1Ur6Mgu"
   },
   "source": [
    "## Качество модели\n",
    "\n",
    "Посмотрим на качество получившейся модели. Для этого нам необходимо задать горизонт прогнозирования (в нашем случае это месяц) и создать дата-фрейм с датами из «будущего», для которого модель потом будет строить прогноз.\n",
    "\n",
    "`make_future_dataframe()` — метод профета, который создает дата-фрейм с временным периодом будущего. В аргумент ему мы передаем `periods` и задаем количество элементов, на которые хотим получить прогноз. \n",
    "\n",
    "Так как наши данные имеют дневную гранулярность, прогноз мы также получим по дням от последней даты на количество дней, указанное в скобках."
   ]
  },
  {
   "cell_type": "code",
   "execution_count": null,
   "metadata": {
    "id": "GkC2u-t46Mgu"
   },
   "outputs": [],
   "source": [
    "future = model.make_future_dataframe(periods=31) # говорим профету сделать дата-фрейм на 31 день\n",
    "future.tail(31) # выводим 31 строку с конца"
   ]
  },
  {
   "cell_type": "markdown",
   "metadata": {
    "id": "KKlioCSv6Mgu"
   },
   "source": [
    "Теперь можем построить прогноз методом __`.predict`__.\n",
    "\n",
    "Применим его к нашей модели и запишем в отдельную переменную.\n",
    "\n",
    "доверительный интервал по умолчанию 95%, это популярный стандарт, который вполне нас устраивает"
   ]
  },
  {
   "cell_type": "code",
   "execution_count": null,
   "metadata": {
    "id": "jBAjf_2a6Mgv"
   },
   "outputs": [],
   "source": [
    "forecast = model.predict(future)\n",
    "forecast.head() # возвращает много колонок"
   ]
  },
  {
   "cell_type": "markdown",
   "metadata": {},
   "source": [
    "Основные поля в прогнозе следующие:\n",
    "- `ds` — дата прогноза\n",
    "\n",
    "- `yhat` — спрогнозированное значение\n",
    "\n",
    "- `yhat_lower` — нижняя граница доверительного интервала для прогноза\n",
    "- `yhat_upper` — верхняя граница доверительного интервала для прогноза\n"
   ]
  },
  {
   "cell_type": "code",
   "execution_count": null,
   "metadata": {
    "id": "aFlieNv76Mgv"
   },
   "outputs": [],
   "source": [
    "forecast[['ds', 'yhat', 'yhat_lower', 'yhat_upper']].tail() # оставим только нужные"
   ]
  },
  {
   "cell_type": "markdown",
   "metadata": {
    "id": "e40EZqqZ6Mgv"
   },
   "source": [
    "Также с помощью метода `.plot()` прогноз можно построить на графике и посмотреть визуально его адекватность.\n",
    "\n",
    "Черные точки — наши данные."
   ]
  },
  {
   "cell_type": "code",
   "execution_count": null,
   "metadata": {
    "id": "KLzfZg3y6Mgv"
   },
   "outputs": [],
   "source": [
    "model.plot(forecast);"
   ]
  },
  {
   "cell_type": "markdown",
   "metadata": {
    "id": "dXneCaZk6Mgv"
   },
   "source": [
    "Кроме того, Prophet позволяет также наглядно разложить ряд на основные компоненты — тренд и сезонность:\n",
    "\n",
    "`plot_components()` — возвращает несколько графиков, среди которых тренд и столько сезонностей, сколько он найдет."
   ]
  },
  {
   "cell_type": "markdown",
   "metadata": {
    "id": "gUvd4a4P6Mgv"
   },
   "source": [
    "Точка с запятой в конце строки позволяет не выводить лишнего. Обычно такая проблема возникает с графиками — выводится лишняя информация или даже дублирующиеся графики.\n",
    "\n",
    "`Suppress output\n",
    "Put a ‘;’ at the end of a line to suppress the printing of output. This is useful when doing calculations which generate long output you are not interested in seeing. It also keeps the object out of the output cache, so if you’re working with large temporary objects, they’ll be released from memory sooner.`"
   ]
  },
  {
   "cell_type": "code",
   "execution_count": null,
   "metadata": {
    "id": "F-oX0xg86Mgv"
   },
   "outputs": [],
   "source": [
    "model.plot_components(forecast);"
   ]
  },
  {
   "cell_type": "markdown",
   "metadata": {
    "id": "r-5ZwgUn6Mgw"
   },
   "source": [
    "Видим, что тренд у общей выручки убывающий и у нас есть четкая недельная сезонность:\n",
    "- наибольшее количество покупок люди совершают в субботу\n",
    "- чуть меньше в воскресенье\n",
    "- среди будних дней больше всего покупок в понедельник и вторник"
   ]
  },
  {
   "cell_type": "markdown",
   "metadata": {
    "id": "MOBjmJDF6Mgw"
   },
   "source": [
    "## Ошибка прогноза\n",
    "\n",
    "Давайте посмотрим, какая получилась ошибка прогноза. По модели мы строим прогноз на тестовый период, затем сравниваем его с контрольными данными и считаем отклонение.\n",
    "\n",
    "### Как посчитать отклонение?\n",
    "\n",
    "Ошибку прогноза мы посчитаем с помощью функции `mean absolute error()` — среднее значение модулей отклонений прогноза от факта — из библиотеки `scikit-learn`:\n",
    "\n",
    "В аргументы он принимает серию предсказанных значений и серию с контрольными значениями.  \n",
    "\n",
    "Что под капотом у функции: из факта вычитаем прогноз, берем от этого модуль (положительное значение) и считаем среднее значение по всем модулям. \n"
   ]
  },
  {
   "cell_type": "code",
   "execution_count": null,
   "metadata": {
    "id": "MJJrvWpc6Mgw"
   },
   "outputs": [],
   "source": [
    "from sklearn.metrics import mean_absolute_error\n",
    "\n",
    "mean_absolute_error(forecast['yhat'].tail(31), test_0['y']) "
   ]
  },
  {
   "cell_type": "markdown",
   "metadata": {
    "id": "ptT5EGZf6Mgx"
   },
   "source": [
    "Сходу не понять, сильное ли отклонение мы получили. Посмотрим в %.\n",
    "\n",
    "Для того чтобы посчитать `отклонение в процентах`, необходимо `модули отклонений прогноза от факта` разделить на `факт`, от полученных значений посчитать среднее арифметическое и умножить на 100.\n",
    "\n",
    "`np.mean()` — функция библиотеки NumPy считает среднее арифметическое\n",
    "\n",
    "`np.abs()` — функция библиотеки NumPy, которая вернет модули"
   ]
  },
  {
   "cell_type": "code",
   "execution_count": null,
   "metadata": {
    "id": "2ytvd1WR6Mgx"
   },
   "outputs": [],
   "source": [
    "modul_dif = np.abs(forecast.tail(31).reset_index()['yhat'] - test_0['y']) # положим модули отклонений от прогноза в отдельную переменную\n",
    "\n",
    "dif = np.mean(modul_dif/test_0['y']) # считаем среднее арифметическое отклонение \n",
    "\n",
    "dif_percent = dif*100 # получаем процент\n",
    "\n",
    "dif_percent"
   ]
  },
  {
   "cell_type": "markdown",
   "metadata": {},
   "source": [
    "Или все то же самое можно записать в одну строку"
   ]
  },
  {
   "cell_type": "code",
   "execution_count": null,
   "metadata": {},
   "outputs": [],
   "source": [
    "np.mean(np.abs(forecast.tail(31).reset_index()['yhat'] - test_0['y'])/test_0['y'])*100"
   ]
  },
  {
   "cell_type": "markdown",
   "metadata": {
    "id": "t-nVI95-6Mgx"
   },
   "source": [
    "Попробуем теперь сделать такой же прогноз, но отдельно по филиалам и сравним результаты.  \n",
    "Для начала подготовим данные отдельно по филиалам, сначала данные для обучения:\n",
    "\n",
    "1. отфильтруем для каждого филиала нужные строки\n",
    "2. переименуем столбцы для работы с `Prophet`\n",
    "\n",
    "Мы переименовывали столбцы, меняя значения атрибута `columns`, теперь используем метод `rename()` — с ним вы тоже будете часто сталкиваться в чужом коде. Параметр `axis = 1` указывает, что переименовываем колонки."
   ]
  },
  {
   "cell_type": "code",
   "execution_count": null,
   "metadata": {
    "id": "p6A-ZjcI6Mgx"
   },
   "outputs": [],
   "source": [
    "train_1 = train.loc[train['filial'] == 1,['date','revenue']].rename({'date':'ds','revenue':'y'},axis=1) \n",
    "train_2 = train.loc[train['filial'] == 2,['date','revenue']].rename({'date':'ds','revenue':'y'},axis=1)\n",
    "train_3 = train.loc[train['filial'] == 3,['date','revenue']].rename({'date':'ds','revenue':'y'},axis=1)"
   ]
  },
  {
   "cell_type": "markdown",
   "metadata": {
    "id": "xZeH2eHG6Mgx"
   },
   "source": [
    "И то же самое проделаем для подготовки данных, чтобы проверить качества модели, только возьмем исходный тестовый датасет. В нем данные за декабрь. "
   ]
  },
  {
   "cell_type": "code",
   "execution_count": null,
   "metadata": {
    "id": "yKag0itN6Mgx"
   },
   "outputs": [],
   "source": [
    "test_1 = test.loc[test['filial'] == 1,['date','revenue']].rename({'date':'ds','revenue':'y'},axis=1)\n",
    "test_2 = test.loc[test['filial'] == 2,['date','revenue']].rename({'date':'ds','revenue':'y'},axis=1)\n",
    "test_3 = test.loc[test['filial'] == 3,['date','revenue']].rename({'date':'ds','revenue':'y'},axis=1)"
   ]
  },
  {
   "cell_type": "markdown",
   "metadata": {
    "id": "F9qWtxaV6Mgx"
   },
   "source": [
    "Теперь строим три модели по разным данным. Для каждой модели заведем переменную, так как нам нужны три разные модели.\n",
    "\n",
    "1. Заведем 3 разные модели для 3 филиалов с помощью объекта `Prophet()`.\n",
    "2. Передадим для каждой модели обучающий датасет в метод `fit()`, чтобы подогнать модель под наши данные."
   ]
  },
  {
   "cell_type": "code",
   "execution_count": null,
   "metadata": {
    "id": "2iVifHHK6Mgy"
   },
   "outputs": [],
   "source": [
    "m_1 = Prophet() # модель первого филиала\n",
    "m_1.fit(train_1) # подгоняем модель под наши данные\n",
    "\n",
    "# аналогичный код для двух других филиалов\n",
    "\n",
    "m_2 = Prophet()\n",
    "m_2.fit(train_2)\n",
    "\n",
    "m_3 = Prophet()\n",
    "m_3.fit(train_3)"
   ]
  },
  {
   "cell_type": "markdown",
   "metadata": {
    "id": "7tXvpO8H6Mgy"
   },
   "source": [
    "Теперь нам предстоит построить прогноз на тот же период для трех моделей.\n",
    "\n",
    "Применим к каждой модели метод `predict()`, передав ему датасет с «будущими» датами.\n",
    "\n"
   ]
  },
  {
   "cell_type": "code",
   "execution_count": null,
   "metadata": {
    "id": "OdW47Eav6Mgz"
   },
   "outputs": [],
   "source": [
    "forecast_1 = m_1.predict(future) # датасет с прогнозом для первого филиала\n",
    "forecast_2 = m_2.predict(future) # датасет с прогнозом для второго филиала\n",
    "forecast_3 = m_3.predict(future) # датасет с прогнозом для третьего филиала"
   ]
  },
  {
   "cell_type": "markdown",
   "metadata": {},
   "source": [
    "Быстро визуализируем получившиеся данные"
   ]
  },
  {
   "cell_type": "code",
   "execution_count": null,
   "metadata": {
    "id": "pIheg3oX6Mgz"
   },
   "outputs": [],
   "source": [
    "m_1.plot(forecast_1); "
   ]
  },
  {
   "cell_type": "code",
   "execution_count": null,
   "metadata": {
    "id": "HBnSNw1r6Mgz"
   },
   "outputs": [],
   "source": [
    "m_2.plot(forecast_2);"
   ]
  },
  {
   "cell_type": "code",
   "execution_count": null,
   "metadata": {
    "id": "GvKkkHCK6Mgz"
   },
   "outputs": [],
   "source": [
    "m_3.plot(forecast_3);"
   ]
  },
  {
   "cell_type": "markdown",
   "metadata": {},
   "source": [
    "На графиках видно, что модель отдает слишком грубое предсказание. Попробуем скорректировать его с помощью более тонких настроек."
   ]
  },
  {
   "cell_type": "markdown",
   "metadata": {
    "id": "Kq9rBmNb6Mgz"
   },
   "source": [
    "__Для начала посмотрим на ошибки отдельно для каждого филиала.__\n",
    "\n",
    "Для этого для каждого филиала передадим в функцию `mean_absolute_error()` серию предсказанных значений и серию контрольных значений"
   ]
  },
  {
   "cell_type": "code",
   "execution_count": null,
   "metadata": {
    "id": "DW-hMXaG6Mgz"
   },
   "outputs": [],
   "source": [
    "error_forecast_1 = mean_absolute_error(forecast_1['yhat'].tail(31), test_1['y'])\n",
    "error_forecast_2 = mean_absolute_error(forecast_2['yhat'].tail(31), test_2['y'])\n",
    "error_forecast_3 = mean_absolute_error(forecast_3['yhat'].tail(31), test_3['y'])\n",
    "\n",
    "error_forecast_1, error_forecast_2, error_forecast_3"
   ]
  },
  {
   "cell_type": "markdown",
   "metadata": {},
   "source": [
    "__Найдем процент ошибки для каждого филиала.__\n",
    "\n",
    "Передадим в функцию `np.abs()` разницу между предсказанными данными и данными из тестовой выборки. Не забудем про `.reset_index()`.\n",
    "\n",
    "Передадим в функцию `np.mean()` деление модулей разниц, которые получили только что, на данные тестовой выборки и умножим на 100, чтобы получить `%`."
   ]
  },
  {
   "cell_type": "code",
   "execution_count": null,
   "metadata": {
    "id": "AloAmsd16Mg0"
   },
   "outputs": [],
   "source": [
    "modul_dif_1 = np.abs(forecast_1.tail(31).reset_index()['yhat'] - test_1.reset_index()['y'])\n",
    "dif_percent_1 = np.mean(modul_dif_1/test_1.reset_index()['y'])*100\n",
    "\n",
    "modul_dif_2 = np.abs(forecast_2.tail(31).reset_index()['yhat'] - test_2.reset_index()['y'])\n",
    "dif_percent_2 = np.mean(modul_dif_2/test_2.reset_index()['y'])*100\n",
    "\n",
    "modul_dif_3 = np.abs(forecast_3.tail(31).reset_index()['yhat'] - test_3.reset_index()['y'])\n",
    "dif_percent_3 = np.mean(modul_dif_3/test_3.reset_index()['y'])*100\n",
    "\n",
    "dif_percent_1, dif_percent_2, dif_percent_3"
   ]
  },
  {
   "cell_type": "markdown",
   "metadata": {
    "id": "6Zw5MdTx6Mg0"
   },
   "source": [
    "В разных филиалах очень разный процент ошибки, давайте попробуем улучшить прогноз для первого и третьего филиалов."
   ]
  },
  {
   "cell_type": "markdown",
   "metadata": {
    "id": "oMzvHVOI6Mg0"
   },
   "source": [
    "## Настройка параметров модели\n",
    "\n",
    "Мы запускали модель без параметров, давайте посмотрим, какие параметры модели можно задать. Рассмотрим основные:\n",
    "- __`growth`__ — тренд \n",
    "    - `linear` — линейный, то есть данные растут или убывают равномерно\n",
    "    \n",
    "    - `logistic` — логистический сложносочиненный микс динамики данных\n",
    "    \n",
    "    \n",
    "- __`holidays`__ — дата-фрейм с описанием праздников/выходных дней, чтобы они учитывались при построении прогноза\n",
    "\n",
    "\n",
    "- __`seasonality`__ — сезонность\n",
    "\n",
    "    - `weekly_seasonality` — недельная сезонность \n",
    "\n",
    "    - `daily_seasonality` — дневная сезонность \n",
    "\n",
    "    - `yearly_seasonality` — годовая сезонность \n",
    "    \n",
    "\n",
    "- __`seasonality_mode`__ \n",
    "    - `multiplicative` — мультипликативная \n",
    "    - `additive` — аддитивная\n",
    "    \n",
    "Аддитивную сезонность имеет смысл использовать, если амплитуда колебаний сезонности из года в год не меняется. Если амплитуда колебаний сезонности из года в год меняется (т. е. размах уменьшается или увеличивается), то используем мультипликативную сезонность.\n",
    "\n",
    "Вытащим тренд и обозначим, что у нас мультипликативная сезонность"
   ]
  },
  {
   "cell_type": "code",
   "execution_count": null,
   "metadata": {
    "id": "VtY5VrBk6Mg0"
   },
   "outputs": [],
   "source": [
    "m_1 = Prophet(growth = 'linear', weekly_seasonality = True, seasonality_mode='multiplicative')\n",
    "m_1.fit(train_1)\n",
    "\n",
    "m_2 = Prophet(growth = 'linear', weekly_seasonality = True, seasonality_mode='multiplicative')\n",
    "m_2.fit(train_2)\n",
    "\n",
    "m_3 = Prophet(growth = 'linear', weekly_seasonality = True, seasonality_mode='multiplicative')\n",
    "m_3.fit(train_3)"
   ]
  },
  {
   "cell_type": "code",
   "execution_count": null,
   "metadata": {
    "id": "UdrfCozL6Mg0"
   },
   "outputs": [],
   "source": [
    "forecast_1 = m_1.predict(future)\n",
    "forecast_2 = m_2.predict(future)\n",
    "forecast_3 = m_3.predict(future)"
   ]
  },
  {
   "cell_type": "markdown",
   "metadata": {
    "id": "Haqv5iqi6Mg0"
   },
   "source": [
    "__Сравним ошибки__\n",
    "\n",
    "В модели без параметров ошибки были: \n",
    "- 6270.750421944441\n",
    "- 1627.752566953797\n",
    "- 13210.181303922529"
   ]
  },
  {
   "cell_type": "code",
   "execution_count": null,
   "metadata": {
    "id": "pXpVx_vE6Mg0"
   },
   "outputs": [],
   "source": [
    "error_forecast_1 = mean_absolute_error(forecast_1['yhat'].tail(31), test_1['y'])\n",
    "error_forecast_2 = mean_absolute_error(forecast_2['yhat'].tail(31), test_2['y'])\n",
    "error_forecast_3 = mean_absolute_error(forecast_3['yhat'].tail(31), test_3['y'])\n",
    "\n",
    "error_forecast_1, error_forecast_2, error_forecast_3"
   ]
  },
  {
   "cell_type": "markdown",
   "metadata": {
    "id": "pViSocQ96Mg0"
   },
   "source": [
    "__И посчитаем в процентах, так гораздо надежнее__ \n",
    "\n",
    "Напомню, что было:\n",
    "- 6.7900069525078095\n",
    "- 1.7779055372059944\n",
    "- 26.902829147537332"
   ]
  },
  {
   "cell_type": "code",
   "execution_count": null,
   "metadata": {
    "id": "dcljiijN6Mg1"
   },
   "outputs": [],
   "source": [
    "modul_dif_1 = np.abs(forecast_1.tail(31).reset_index()['yhat'] - test_1.reset_index()['y'])\n",
    "dif_percent_1 = np.mean(modul_dif_1/test_1.reset_index()['y'])*100\n",
    "\n",
    "modul_dif_2 = np.abs(forecast_2.tail(31).reset_index()['yhat'] - test_2.reset_index()['y'])\n",
    "dif_percent_2 = np.mean(modul_dif_2/test_2.reset_index()['y'])*100\n",
    "\n",
    "modul_dif_3 = np.abs(forecast_3.tail(31).reset_index()['yhat'] - test_3.reset_index()['y'])\n",
    "dif_percent_3 = np.mean(modul_dif_3/test_3.reset_index()['y'])*100\n",
    "\n",
    "dif_percent_1, dif_percent_2, dif_percent_3"
   ]
  },
  {
   "cell_type": "code",
   "execution_count": null,
   "metadata": {
    "id": "TrjWccoH6Mg1"
   },
   "outputs": [],
   "source": [
    "# хотя, датасайнтисты запишут скорее так:\n",
    "\n",
    "np.mean(np.abs(forecast_1.tail(31).reset_index()['yhat'] - test_1.reset_index()['y'])/test_1.reset_index()['y'])*100, \\\n",
    "np.mean(np.abs(forecast_2.tail(31).reset_index()['yhat'] - test_2.reset_index()['y'])/test_2.reset_index()['y'])*100, \\\n",
    "np.mean(np.abs(forecast_3.tail(31).reset_index()['yhat'] - test_3.reset_index()['y'])/test_3.reset_index()['y'])*100"
   ]
  },
  {
   "cell_type": "markdown",
   "metadata": {
    "id": "Q9dlR2Z16Mg1"
   },
   "source": [
    "Теперь даже если мы сложим наши ожидаемые ошибки по трем филиалам, увидим, что общий прогноз стал гораздо точнее."
   ]
  },
  {
   "cell_type": "code",
   "execution_count": null,
   "metadata": {
    "id": "VSfTm3aA6Mg1"
   },
   "outputs": [],
   "source": [
    "f1 = forecast_1.tail(31).reset_index()['yhat']\n",
    "f2 = forecast_2.tail(31).reset_index()['yhat']\n",
    "f3 = forecast_3.tail(31).reset_index()['yhat']\n",
    "\n",
    "total_forecast = f1 + f2 + f3\n",
    "\n",
    "mean_absolute_error(total_forecast, test_0['y'])"
   ]
  },
  {
   "cell_type": "markdown",
   "metadata": {
    "id": "vk8bMldz6Mg1"
   },
   "source": [
    "Теперь, когда модель выбрана, надо перестроить модель по всему набору данных и сделать прогноз на январь:"
   ]
  },
  {
   "cell_type": "code",
   "execution_count": null,
   "metadata": {
    "id": "kaCLiD1N6Mg1"
   },
   "outputs": [],
   "source": [
    "# готовим данные с мая по декабрь\n",
    "\n",
    "data_revenue_1 = data_revenue.loc[data_revenue['filial'] == 1].drop('filial', axis=1).rename({'date':'ds','revenue':'y'},axis=1)\n",
    "data_revenue_2 = data_revenue.loc[data_revenue['filial'] == 2].drop('filial', axis=1).rename({'date':'ds','revenue':'y'},axis=1)\n",
    "data_revenue_3 = data_revenue.loc[data_revenue['filial'] == 3,['date','revenue']].rename({'date':'ds','revenue':'y'},axis=1)\n",
    "\n",
    "# обучаем модель\n",
    "\n",
    "m_1 = Prophet(growth = 'linear', weekly_seasonality = True, seasonality_mode='multiplicative')\n",
    "m_1.fit(data_revenue_1)\n",
    "\n",
    "m_2 = Prophet(growth = 'linear', weekly_seasonality = True, seasonality_mode='multiplicative')\n",
    "m_2.fit(data_revenue_2)\n",
    "\n",
    "m_3 = Prophet(growth = 'linear', weekly_seasonality = True, seasonality_mode='multiplicative')\n",
    "m_3.fit(data_revenue_3)\n",
    "\n",
    "# создаем дата-фрейм на январь\n",
    "\n",
    "future = m_1.make_future_dataframe(periods=31) # говорим профету сделать дата-фрейм на 31 день\n",
    "\n",
    "# наполняем январь данными для каждого филиала\n",
    "\n",
    "forecast_1 = m_1.predict(future)\n",
    "forecast_2 = m_2.predict(future)\n",
    "forecast_3 = m_3.predict(future)\n",
    "\n"
   ]
  },
  {
   "cell_type": "markdown",
   "metadata": {
    "id": "GpjwI_QF6Mg1"
   },
   "source": [
    "\n",
    "Теперь мы хотим объединить данные по филиалам. Тут нам мог бы пригодиться `merge()`, но вспомним, что мы можем объединять только 2 таблицы, то есть придется делать две операции объединения. А если в таблице одинаковые колонки, то мы можем просто сложить дата-фреймы.\n",
    "\n",
    "Чтобы воспользоваться этой суперспособностью дата-фреймов, нам нужно, чтобы дата оказалась в индексе, ведь даты в `pandas` не складываются."
   ]
  },
  {
   "cell_type": "code",
   "execution_count": null,
   "metadata": {
    "id": "oITwdA6C6Mg2"
   },
   "outputs": [],
   "source": [
    "# складываем выручку на каждый день по всем 3 филиалам\n",
    "\n",
    "f1 = forecast_1.tail(31)[['ds','yhat']].set_index('ds')\n",
    "f2 = forecast_2.tail(31)[['ds','yhat']].set_index('ds')\n",
    "f3 = forecast_3.tail(31)[['ds','yhat']].set_index('ds')\n",
    "\n",
    "total_forecast = (f1 + f2 + f3)"
   ]
  },
  {
   "cell_type": "code",
   "execution_count": null,
   "metadata": {
    "id": "w3uDzB-H6Mg2"
   },
   "outputs": [],
   "source": [
    "total_forecast.head()"
   ]
  },
  {
   "cell_type": "markdown",
   "metadata": {
    "id": "D68E742X6Mg2"
   },
   "source": [
    "Возьмем только нужные столбцы и переименуем их для заказчика."
   ]
  },
  {
   "cell_type": "code",
   "execution_count": null,
   "metadata": {
    "id": "WRjlcJI96Mg2"
   },
   "outputs": [],
   "source": [
    "total_forecast.reset_index(inplace=True)\n",
    "total_forecast[['ds', 'yhat']]\n",
    "total_forecast.columns = ['date', 'revenue']"
   ]
  },
  {
   "cell_type": "markdown",
   "metadata": {
    "id": "6o69eGd36Mg2"
   },
   "source": [
    "Выгрузим данные в таблицу."
   ]
  },
  {
   "cell_type": "code",
   "execution_count": null,
   "metadata": {
    "id": "E0Nq0TC06Mg2"
   },
   "outputs": [],
   "source": [
    "total_forecast.head()"
   ]
  },
  {
   "cell_type": "code",
   "execution_count": null,
   "metadata": {
    "id": "M6OMS5PM6Mg2"
   },
   "outputs": [],
   "source": [
    "total_forecast.to_csv('forecast_jan2021.csv')"
   ]
  },
  {
   "cell_type": "markdown",
   "metadata": {
    "id": "INcjwxkR6Mg2"
   },
   "source": [
    "<body>\n",
    "  <div\n",
    "    style=\"\n",
    "      padding-top: 298px;\n",
    "      padding-bottom: 298px;\n",
    "      background-color: black;\n",
    "      border-radius: 24px;\n",
    "    \"\n",
    "  >\n",
    "    <div style=\"text-align: center\">\n",
    "      <div\n",
    "        style=\"\n",
    "          font-size: 72px;\n",
    "          line-height: 80px;\n",
    "          font-family: Arial;\n",
    "          color: white;\n",
    "        \"\n",
    "      >\n",
    "        Спасибо за внимание\n",
    "      </div>\n",
    "    </div>\n",
    "  </div>\n",
    "</body>\n"
   ]
  }
 ],
 "metadata": {
  "colab": {
   "name": "Skills_Python_6.1_lesson.ipynb",
   "provenance": []
  },
  "kernelspec": {
   "display_name": "Python 3 (ipykernel)",
   "language": "python",
   "name": "python3"
  },
  "language_info": {
   "codemirror_mode": {
    "name": "ipython",
    "version": 3
   },
   "file_extension": ".py",
   "mimetype": "text/x-python",
   "name": "python",
   "nbconvert_exporter": "python",
   "pygments_lexer": "ipython3",
   "version": "3.9.7"
  },
  "varInspector": {
   "cols": {
    "lenName": 16,
    "lenType": 16,
    "lenVar": 40
   },
   "kernels_config": {
    "python": {
     "delete_cmd_postfix": "",
     "delete_cmd_prefix": "del ",
     "library": "var_list.py",
     "varRefreshCmd": "print(var_dic_list())"
    },
    "r": {
     "delete_cmd_postfix": ") ",
     "delete_cmd_prefix": "rm(",
     "library": "var_list.r",
     "varRefreshCmd": "cat(var_dic_list()) "
    }
   },
   "types_to_exclude": [
    "module",
    "function",
    "builtin_function_or_method",
    "instance",
    "_Feature"
   ],
   "window_display": false
  }
 },
 "nbformat": 4,
 "nbformat_minor": 1
}
