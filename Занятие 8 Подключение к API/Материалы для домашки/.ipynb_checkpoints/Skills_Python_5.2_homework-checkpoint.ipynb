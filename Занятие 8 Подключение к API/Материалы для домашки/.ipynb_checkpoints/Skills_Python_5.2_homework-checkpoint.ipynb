{
 "cells": [
  {
   "cell_type": "markdown",
   "metadata": {
    "id": "u3_UGulyvY6S"
   },
   "source": [
    "# Домашнее задание 5.2\n"
   ]
  },
  {
   "cell_type": "markdown",
   "metadata": {
    "id": "PG6szIKjvY6a"
   },
   "source": [
    "# ✏️ 🗒️ 📝\n",
    "\n",
    "Сегодня тебе нужно выполнить задачу от руководительницы отдела контент-маркетинга новой онлайн-школы английского языка. Она хочет составить ТЗ копирайтеру на написание постов, но для этого ей нужно знать, какие типы постов популярны. За завтраком вы с ней обсуждали твое последнее занятие с курса Python, где мы парсили страницы сообществ ВК, и у вас появилась идея – проанализировать самые успешные посты известной онлайн-школы Skyeng  в [сообществе Skyeng в ВК](https://vk.com/skyeng).\n",
    "\n",
    "Теперь перед тобой стоит задача – выгрузить маркетологам для анализа 50 самых популярных постов за все время существования сообщества. Метрику популярности будем считать как сумму лайков, репостов и комментариев к каждому посту. Если останется время, для дополнительного анализа выгрузи все комментарии к этим постам в отдельный файл."
   ]
  },
  {
   "cell_type": "markdown",
   "metadata": {
    "id": "l-EvtbaEvY6b"
   },
   "source": [
    "## Задание 1\n",
    "\n",
    "Получи собственный `access_token` в ВК. Важно пройти этот путь самостоятельно, можешь использовать документацию API ВК или рекомендации из ноутбука занятия.  Токен присылай вместе с файлом ноутбука в файле с именем `my_own_token.py`. Обещаем не делать ничего противозаконного.\n",
    "\n",
    "*Если тебе некомфортно, можешь не присылать токен нам. Однако получить его все же обязательно – это необходимо для полноценного освоения темы урока, а также для выполнения заданий ниже.*"
   ]
  },
  {
   "cell_type": "code",
   "execution_count": 1,
   "metadata": {
    "id": "IgGgVJobvY6b"
   },
   "outputs": [
    {
     "ename": "ModuleNotFoundError",
     "evalue": "No module named 'my_own_token'",
     "output_type": "error",
     "traceback": [
      "\u001b[1;31m---------------------------------------------------------------------------\u001b[0m",
      "\u001b[1;31mModuleNotFoundError\u001b[0m                       Traceback (most recent call last)",
      "\u001b[1;32m~\\AppData\\Local\\Temp/ipykernel_2952/1513504146.py\u001b[0m in \u001b[0;36m<module>\u001b[1;34m\u001b[0m\n\u001b[0;32m      1\u001b[0m \u001b[1;31m# читаем токен из файла my_own_token.py, куда мы сохранили access_token\u001b[0m\u001b[1;33m\u001b[0m\u001b[1;33m\u001b[0m\u001b[0m\n\u001b[1;32m----> 2\u001b[1;33m \u001b[1;32mfrom\u001b[0m \u001b[0mmy_own_token\u001b[0m \u001b[1;32mimport\u001b[0m \u001b[0mmy_own_token\u001b[0m \u001b[1;32mas\u001b[0m \u001b[0mtoken\u001b[0m\u001b[1;33m\u001b[0m\u001b[1;33m\u001b[0m\u001b[0m\n\u001b[0m",
      "\u001b[1;31mModuleNotFoundError\u001b[0m: No module named 'my_own_token'"
     ]
    }
   ],
   "source": [
    "# читаем токен из файла my_own_token.py, куда мы сохранили access_token\n",
    "from my_own_token import my_own_token as token"
   ]
  },
  {
   "cell_type": "markdown",
   "metadata": {
    "id": "f7B-VcUrvY6c"
   },
   "source": [
    "## Задание 2\n",
    "\n",
    "__Сформируй запрос, который получает 100 записей со стены сообщества__\n",
    "\n",
    "1. Найди в документации метод, который отдает все записи со стены сообщества Skyeng: https://vk.com/skyeng\n",
    "2. Создай переменую для URL \n",
    "3. Создай переменную с параметрами\n",
    "4. Создай переменную запроса\n",
    "5. Создай переменную, в которой будут данные ответа в формате словаря"
   ]
  },
  {
   "cell_type": "code",
   "execution_count": null,
   "metadata": {
    "id": "h4v1HQ4jvY6d"
   },
   "outputs": [],
   "source": [
    "import requests \n",
    "import pandas as pd"
   ]
  },
  {
   "cell_type": "code",
   "execution_count": null,
   "metadata": {
    "id": "gZ05PV6rvY6e"
   },
   "outputs": [],
   "source": [
    "url = \n",
    "\n",
    "params = {\n",
    "    \n",
    "        }\n",
    "req = \n",
    "res = \n",
    "\n",
    "print('Кол-во записей:', len(pd.DataFrame(res['response'])))"
   ]
  },
  {
   "cell_type": "markdown",
   "metadata": {
    "id": "5f5tFSVKvY6f"
   },
   "source": [
    "## Задание 3\n",
    "\n",
    "Выгрузи в переменную `posts` в формате датафрейма __все записи__ сообщества Skyeng: https://vk.com/skyeng, \n",
    "\n",
    "1. Используй цикл `While`\n",
    "2. Для выгрузки __всех записей__ тебе поможет параметр `offset`. \n",
    "3. Записей больше 7000! Не забудь про ограничение \"не больше 3 запросов в секунду\" от API VK, здесь тебе поможет библиотека `time`"
   ]
  },
  {
   "cell_type": "code",
   "execution_count": null,
   "metadata": {
    "id": "i-MgwwBCvY6f"
   },
   "outputs": [],
   "source": [
    "# напиши здесь код"
   ]
  },
  {
   "cell_type": "code",
   "execution_count": null,
   "metadata": {
    "id": "TbakvigHvY6g"
   },
   "outputs": [],
   "source": [
    "print('Кол-во записей:', len(posts))"
   ]
  },
  {
   "cell_type": "code",
   "execution_count": null,
   "metadata": {
    "id": "yt4uK2mgvY6g"
   },
   "outputs": [],
   "source": [
    "posts.head()"
   ]
  },
  {
   "cell_type": "markdown",
   "metadata": {
    "id": "Wn_EUtE8vY6g"
   },
   "source": [
    "## Задание 4\n",
    "\n",
    "Выгрузи 50 самых популярных постов. Метрикой популярности мы считаем сумму лайков, репостов и комментариев.\n",
    "\n",
    "1. Создай столбцы с числовыми значениями для лайков, репостов и комментариев и забери из словаря только значение по ключу `count` \n",
    "2. Создай отдельный столбец, где будет сумма пользовательских активностей для каждого поста\n",
    "3. Отсортируй дата-фрейм по столбцу с суммой пользовательских активностей\n",
    "4. Выбери 50 самых популярных постов\n",
    "\n",
    "Если задание кажется легким, реализуй тот же код с `lambda` функцией."
   ]
  },
  {
   "cell_type": "code",
   "execution_count": null,
   "metadata": {
    "id": "_eSlcTRwvY6h"
   },
   "outputs": [],
   "source": [
    "# вытащи из словарей столбцов comments, likes, reposts только нужные значения\n",
    "\n",
    "# заполни даными с прошлого шага новые столбцы\n",
    "posts['comments_count'] = \n",
    "posts['likes_count'] = \n",
    "posts['reposts_count'] = "
   ]
  },
  {
   "cell_type": "code",
   "execution_count": null,
   "metadata": {
    "id": "poDHkC7PvY6h"
   },
   "outputs": [],
   "source": [
    "# заполни данными столбец с суммой по всем активностям\n",
    "\n",
    "posts['activity'] = "
   ]
  },
  {
   "cell_type": "markdown",
   "metadata": {
    "id": "Reje4a0qvY6h"
   },
   "source": [
    "## Задание 5\n",
    "\n",
    "__Почисти данные, сохрани результат в файл для отправки копирайтерам__\n",
    "\n",
    "1. Отфильтруй в датафрейме только нужные столбцы:\n",
    "    - дата поста\n",
    "    - текст поста\n",
    "    - количество комментариев\n",
    "    - количество лайков\n",
    "    - количество репостов\n",
    "    - общее количество пользовательских активностей\n",
    "\n",
    "2. Выгрузи датафрейм в .csv файл\n"
   ]
  },
  {
   "cell_type": "code",
   "execution_count": null,
   "metadata": {
    "id": "JqTc4UWlvY6i"
   },
   "outputs": [],
   "source": [
    "# напиши здесь код"
   ]
  },
  {
   "cell_type": "markdown",
   "metadata": {
    "id": "6Sc9AeWvvY6j"
   },
   "source": [
    "## EXTRA\n",
    "\n",
    "__К 50 самым популярным постам выгрузи все комментарии, чтобы оценить, как пользователи восприняли посты__\n",
    "\n",
    "1. Создай цикл, который проходит по всем `post ID`\n",
    "2. В каждом цикле собери все комментарии к посту, используя `offset`\n",
    "3. В каждом цикле достань лайки в отдельный столбец\n",
    "4. Собери все комментарии в одном датафрейме\n",
    "\n",
    "\n",
    "\n",
    "*Обрати внимание, что для работы с постами нужны __дополнительные параметры в токене__*"
   ]
  },
  {
   "cell_type": "markdown",
   "metadata": {
    "id": "XFDIC0_ZvY6j"
   },
   "source": [
    "# 🎉🎉🎉 Поздравляем, ты великолепен! "
   ]
  }
 ],
 "metadata": {
  "colab": {
   "name": "Skills_Python_5.2_homework.ipynb",
   "provenance": []
  },
  "kernelspec": {
   "display_name": "Python 3 (ipykernel)",
   "language": "python",
   "name": "python3"
  },
  "language_info": {
   "codemirror_mode": {
    "name": "ipython",
    "version": 3
   },
   "file_extension": ".py",
   "mimetype": "text/x-python",
   "name": "python",
   "nbconvert_exporter": "python",
   "pygments_lexer": "ipython3",
   "version": "3.9.7"
  }
 },
 "nbformat": 4,
 "nbformat_minor": 1
}
