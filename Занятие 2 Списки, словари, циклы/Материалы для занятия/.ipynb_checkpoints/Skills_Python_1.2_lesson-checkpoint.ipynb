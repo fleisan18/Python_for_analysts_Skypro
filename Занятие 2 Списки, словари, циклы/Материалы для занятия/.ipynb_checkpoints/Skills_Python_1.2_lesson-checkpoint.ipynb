{
 "cells": [
  {
   "cell_type": "markdown",
   "metadata": {
    "id": "w5SSgRJe0iKZ"
   },
   "source": [
    "<div\n",
    "  style=\"\n",
    "    padding: 36px 20px 63px 20px;\n",
    "    background-color: #009ee4;\n",
    "    border-radius: 0 0 200px 0;\n",
    "  \"\n",
    ">\n",
    "  <img\n",
    "    style=\"width: 188px; height: 40px; margin: 0\"\n",
    "    src=\"data:image/png;base64,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\"\n",
    "  />\n",
    "\n",
    "  <div\n",
    "    style=\"\n",
    "      color: white;\n",
    "      margin-top: 52px;\n",
    "      font-size: 56px;\n",
    "      line-height: 64px;\n",
    "      font-family: Arial;\n",
    "    \"\n",
    "  >\n",
    "    Списки, словари, циклы<br> и условные конструкции\n",
    "  </div>\n",
    "</div>\n"
   ]
  },
  {
   "cell_type": "markdown",
   "metadata": {
    "id": "t4rf7Frc0iKf"
   },
   "source": [
    "Все типы данных, с которыми мы работали на первом занятии, содержали в себе всего лишь по одному значению.\n",
    "\n",
    "«Война и Мир» — это один элемент, записанный в строковую переменную.\n",
    "\n",
    "Сегодня мы познакомимся с типами данных, в которых содержатся целые коллекции данных."
   ]
  },
  {
   "cell_type": "markdown",
   "metadata": {
    "id": "t7d63hO20iKf"
   },
   "source": [
    "## Список или  list\n",
    "\n",
    "Список — это упорядоченная коллекция элементов произвольных типов."
   ]
  },
  {
   "cell_type": "code",
   "execution_count": null,
   "metadata": {
    "id": "7vefJhUt0iKg"
   },
   "outputs": [],
   "source": [
    "# как выглядят списки\n",
    "            \n",
    "skills_team = ['Михаил', 'Шагане', 'Дмитрий' , 'Мария'] "
   ]
  },
  {
   "cell_type": "markdown",
   "metadata": {
    "id": "nPpOkUkn0iKg"
   },
   "source": [
    "Список — это коллекция элементов **произвольных типов**."
   ]
  },
  {
   "cell_type": "code",
   "execution_count": null,
   "metadata": {
    "id": "uv5ShxtB0iKg"
   },
   "outputs": [],
   "source": [
    "teacher_name = 'Михаил'\n",
    "lessons = 10\n",
    "city = \"Spb\"\n",
    "is_on_vacation = False\n",
    "\n",
    "# все эти данные мы можем хранить в одной переменной\n",
    "\n",
    "teacher_1 = ['Михаил', 13, \"Spb\", False]\n",
    "teacher_1 # выводим значение последней переменной в коде без функции print()"
   ]
  },
  {
   "cell_type": "markdown",
   "metadata": {
    "id": "_2X7rHw40iKh"
   },
   "source": [
    "Элементом списка может быть все, что угодно:\n",
    "\n",
    "- строка\n",
    "- число\n",
    "- логическое значение\n",
    "- переменная\n",
    "- другой список или любой другой объект\n"
   ]
  },
  {
   "cell_type": "code",
   "execution_count": null,
   "metadata": {
    "id": "ONh2TXDL0iKh"
   },
   "outputs": [],
   "source": [
    "nested_list = [teacher_1, skills_team, 12, True]\n",
    "nested_list"
   ]
  },
  {
   "cell_type": "markdown",
   "metadata": {
    "id": "MwUfPKVV0iKh"
   },
   "source": [
    "## Что можно делать со списками?\n"
   ]
  },
  {
   "cell_type": "markdown",
   "metadata": {
    "id": "0T6jUe6j0iKh"
   },
   "source": [
    "### 1. Обращаться к элементам по индексу и забирать срезы\n",
    "\n",
    "Список — **упорядоченная коллекция**, это означает, что у каждого элемента списка есть свой индекс, и мы можем напрямую к нему обратиться.\n",
    "\n",
    "Синтаксис знакомый: такой же, как в работе со строками.\n"
   ]
  },
  {
   "cell_type": "code",
   "execution_count": null,
   "metadata": {
    "id": "X1TgSZQz0iKi"
   },
   "outputs": [],
   "source": [
    "teacher_1[0] # достаем первый элемент списка"
   ]
  },
  {
   "cell_type": "code",
   "execution_count": null,
   "metadata": {
    "id": "_N3pNOuK0iKi"
   },
   "outputs": [],
   "source": [
    "teacher_1[0:2] # достаем элемнты с нулевого по второй"
   ]
  },
  {
   "cell_type": "code",
   "execution_count": null,
   "metadata": {
    "id": "AsmwGWnK0iKi"
   },
   "outputs": [],
   "source": [
    "teacher_1[-1]# достанем последний элемент списка"
   ]
  },
  {
   "cell_type": "markdown",
   "metadata": {
    "id": "LGJLqAIK0iKi"
   },
   "source": [
    "Список — **изменяемый тип данных**. А значит, мы можем заменить, удалить или добавить элемент в список, не переопределяя переменную."
   ]
  },
  {
   "cell_type": "code",
   "execution_count": null,
   "metadata": {
    "id": "2DeulboL0iKi"
   },
   "outputs": [],
   "source": [
    "teacher_1[2] = 'Msk' # вызываем один элемент списка, и переопределяем только его\n",
    "teacher_1"
   ]
  },
  {
   "cell_type": "markdown",
   "metadata": {
    "id": "4eH6Y2nB0iKi"
   },
   "source": [
    "<body>\n",
    "  <div style=\"padding: 24px; background-color: #ff7775; border-radius: 24px\">\n",
    "    <img\n",
    "      style=\"width: 56px; height: 56px; float: left\"\n",
    "      src=\"data:image/png;base64,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\"\n",
    "    />\n",
    "    <div\n",
    "      style=\"\n",
    "        font-size: 18px;\n",
    "        line-height: 26px;\n",
    "        font-family: Arial;\n",
    "        color: white;\n",
    "        margin-left: 84px;\n",
    "      \"\n",
    "    >\n",
    "      Со строкой то же самое сделать не получится. Даже если мы попробуем заменить лишь один элемент строки, один символ.\n",
    "    </div>\n",
    "  </div>\n",
    "</body>"
   ]
  },
  {
   "cell_type": "code",
   "execution_count": null,
   "metadata": {
    "id": "MpPESB1k0iKj"
   },
   "outputs": [],
   "source": [
    "string_skills_team = 'Михаил, Шагане, Мария, Дмитрий'\n",
    "string_skills_team[0]"
   ]
  },
  {
   "cell_type": "code",
   "execution_count": null,
   "metadata": {
    "id": "H6hJdHpn0iKj",
    "scrolled": true
   },
   "outputs": [],
   "source": [
    "string_skills_team[0] = 'Б'"
   ]
  },
  {
   "cell_type": "markdown",
   "metadata": {
    "id": "c0sdCQPA0iKj"
   },
   "source": [
    "### 2. Добавлять новые элементы в список"
   ]
  },
  {
   "cell_type": "code",
   "execution_count": null,
   "metadata": {
    "id": "qtHYdXxv0iKj"
   },
   "outputs": [],
   "source": [
    "print('Длина списка \"skills_team\" составляет ', len(skills_team),' элемента') # используем функцию len() для списка\n",
    "skills_team[4] # обратиться к элементу, которого не существует, невозможно"
   ]
  },
  {
   "cell_type": "code",
   "execution_count": null,
   "metadata": {
    "id": "RoWhIcBM0iKk"
   },
   "outputs": [],
   "source": [
    "skills_team[4] = 'Анастасия' # так тоже не получится, так как мы обращаемся к тому, чего нет"
   ]
  },
  {
   "cell_type": "markdown",
   "metadata": {
    "id": "Y_acZd1r0iKk"
   },
   "source": [
    "### `.append(x)`\n",
    "Добавляет элемент `x` в конец списка.\n",
    "\n"
   ]
  },
  {
   "cell_type": "code",
   "execution_count": null,
   "metadata": {
    "id": "zV6XrKQ70iKk"
   },
   "outputs": [],
   "source": [
    "skills_team.append('Анастасия') # метод добавления в список. Если выполнить этот код несколько раз, появится несколько новых одинаковых элементов\n",
    "skills_team"
   ]
  },
  {
   "cell_type": "markdown",
   "metadata": {
    "id": "BTnCrkis0iKk"
   },
   "source": [
    "  \n",
    " ### `.insert(index, x)`\n",
    " Добавляет элемент х в конкретное место списка, по индексу\n",
    "\n"
   ]
  },
  {
   "cell_type": "code",
   "execution_count": null,
   "metadata": {
    "id": "s55yrXjV0iKk"
   },
   "outputs": [],
   "source": [
    "skills_team.insert(0, 'Глеб') # добавили Глеба в начало списка\n",
    "skills_team"
   ]
  },
  {
   "cell_type": "markdown",
   "metadata": {
    "id": "KyN1WOGb0iKq"
   },
   "source": [
    "### 3. Удалять элементы из списка"
   ]
  },
  {
   "cell_type": "markdown",
   "metadata": {
    "id": "n7Yd6OKO0iKw"
   },
   "source": [
    "### `.remove (x)`\n",
    "\n",
    "Удаляет первый элемент, значение которого равно `x`."
   ]
  },
  {
   "cell_type": "code",
   "execution_count": null,
   "metadata": {
    "id": "UWNMoB9z0iKw"
   },
   "outputs": [],
   "source": [
    "skills_team.remove('Михаил') # удалим первого Михаила, который встретится в нашем списке\n",
    "skills_team"
   ]
  },
  {
   "cell_type": "code",
   "execution_count": null,
   "metadata": {
    "id": "Dt8-IXra0iKw"
   },
   "outputs": [],
   "source": [
    "skills_team.append('Михаил')# вернем Михаила в команду с помощью одного из методов"
   ]
  },
  {
   "cell_type": "markdown",
   "metadata": {
    "id": "Jtv5WNKq0iKw"
   },
   "source": [
    "### `.pop ([i])`\n",
    "\n",
    "\n",
    "- удаляет i-тый элемент по индексу и возвращает его, позволяя сделать с ним что-то еще\n",
    "\n",
    "- если индекс не задан, по умолчанию удаляет последний элемент\n",
    "\n",
    "- квадратные скобки в выражении говорят о том, что это не обязательный элемент, и можно использовать значение по умолчанию"
   ]
  },
  {
   "cell_type": "markdown",
   "metadata": {},
   "source": [
    "Представим, что у нас есть дежурные учителя, и назначаются они поочередно из списка.\n",
    "\n",
    "Удаляем из списка третьего учителя, и дальше можем отдельно взаимодействовать с ним: начислить премию, послать напоминание и т.д."
   ]
  },
  {
   "cell_type": "code",
   "execution_count": null,
   "metadata": {
    "id": "sCHBXBBp0iKx"
   },
   "outputs": [],
   "source": [
    "duty_teacher = skills_team.pop(2)"
   ]
  },
  {
   "cell_type": "code",
   "execution_count": null,
   "metadata": {
    "id": "rSQklnWx0iKx"
   },
   "outputs": [],
   "source": [
    "print(duty_teacher)\n",
    "print(skills_team)"
   ]
  },
  {
   "cell_type": "markdown",
   "metadata": {
    "id": "C_ZzGGpq0iKx"
   },
   "source": [
    "__Полезно__: работая данными из Excel мы часто при обращении к столбцам получаем имя столбца в первом элементе, он перестает быть заголовком, как хотелось бы. Методом `.pop()` можно достать название столбца, а затем записать его в свою таблицу, в качестве заголовка. \n",
    "\n",
    "И мы правда так делаем."
   ]
  },
  {
   "cell_type": "markdown",
   "metadata": {
    "id": "v3eoxa6y0iKx"
   },
   "source": [
    "<center><img src=\"https://sun9-48.userapi.com/impf/mDc2Bfrd_lqUOw8l7BXanzPloEt1oYxP0exq5A/tgX4LwzR8qQ.jpg?size=1838x516&quality=96&proxy=1&sign=bd2e3efeb115ea8cca0688256624449b\" width=\"1000\"/> "
   ]
  },
  {
   "cell_type": "markdown",
   "metadata": {
    "id": "10LSuRm40iKx"
   },
   "source": [
    "### `.count(x) `\n",
    "\n",
    "Показывает, сколько раз элемент x входит в список."
   ]
  },
  {
   "cell_type": "code",
   "execution_count": null,
   "metadata": {
    "id": "pZpoXxiw0iKx"
   },
   "outputs": [],
   "source": [
    "to_find = 'Анастасия'\n",
    "skills_team.count(to_find)"
   ]
  },
  {
   "cell_type": "markdown",
   "metadata": {
    "id": "pIb57MYf0iKx"
   },
   "source": [
    "**Про другие методы работы со списком можете почитать [тут](https://pythonworld.ru/tipy-dannyx-v-python/spiski-list-funkcii-i-metody-spiskov.html)**"
   ]
  },
  {
   "cell_type": "markdown",
   "metadata": {
    "id": "-I6t-CyS0iKy"
   },
   "source": [
    "## Циклы\n",
    "\n",
    "Чтобы по очереди работать с элементами списка в Python, удобнее всего использовать циклы. Есть два вида циклов: \n",
    "   \n",
    "   1. Цикл `while` — задает условие выхода из цикла.\n",
    "    \n",
    "   2. Цикл `for in` — поочередно обрабатывает элементы списка."
   ]
  },
  {
   "cell_type": "markdown",
   "metadata": {
    "id": "8QR3oZzR0iKy"
   },
   "source": [
    "## Цикл while\n",
    "\n",
    "**Используется в случаях, когда мы хотим повторять какой-то блок кода из раза в раз до тех пор, пока не будет выполнено какое-то условие**\n",
    "\n",
    "1. Если нам нужно делать что-то постоянно, до того, как мы руками это что-то не выключим.\n",
    "2. Если нужно повторить какое-то действие определенное количество раз, например попытаться выполнить вход."
   ]
  },
  {
   "cell_type": "code",
   "execution_count": null,
   "metadata": {},
   "outputs": [],
   "source": [
    "skills_team = ['Михаил', 'Шагане', 'Дмитрий' , 'Мария']"
   ]
  },
  {
   "cell_type": "code",
   "execution_count": null,
   "metadata": {
    "id": "x4HItg2e0iKy"
   },
   "outputs": [],
   "source": [
    "while len(skills_team) > 0:\n",
    "    print(skills_team.pop(), 'удален из списка')"
   ]
  },
  {
   "cell_type": "code",
   "execution_count": null,
   "metadata": {
    "id": "6GpfYHA10iKy"
   },
   "outputs": [],
   "source": [
    "print(skills_team)"
   ]
  },
  {
   "cell_type": "markdown",
   "metadata": {
    "id": "TntDdqLx0iKy"
   },
   "source": [
    "Пример использования в Skyeng — пагинация — разделение массива данных на страницы."
   ]
  },
  {
   "cell_type": "markdown",
   "metadata": {
    "id": "cMACft6J0iKy"
   },
   "source": [
    "<center><img style='float:left' src=\"https://sun9-24.userapi.com/impf/PRUvN_0LmTF-czYuwbsKVDwD4dVgXYeNGycfnw/CNf1RCxXHm8.jpg?size=1454x418&quality=96&proxy=1&sign=41e9ca2ac66eb52cc5d363755f0eb890\" width=\"800\"/> \n",
    "\n"
   ]
  },
  {
   "cell_type": "markdown",
   "metadata": {
    "id": "eOQoU7-X0iKy"
   },
   "source": [
    "    \n",
    "## Цикл for in\n",
    "\n",
    "### Задача\n",
    "\n",
    "Допустим, у нас есть список цен, и мы ходим обновить его с учетом наценки в 5%."
   ]
  },
  {
   "cell_type": "code",
   "execution_count": null,
   "metadata": {
    "id": "Ea5Bmcpf0iKy"
   },
   "outputs": [],
   "source": [
    "# создадим новый список\n",
    "\n",
    "prices = [59, 79, 999, 1399, 9999, 10679] #текущие цены\n",
    "tax = 1.05 #наценка в 5%"
   ]
  },
  {
   "cell_type": "code",
   "execution_count": null,
   "metadata": {
    "id": "uk0pCwUg0iKz"
   },
   "outputs": [],
   "source": [
    "for i in prices:\n",
    "    i *= tax #добавляем наценку к каждому элементу\n",
    "    print(i)"
   ]
  },
  {
   "cell_type": "code",
   "execution_count": null,
   "metadata": {
    "id": "FwXrK-P10iKz"
   },
   "outputs": [],
   "source": [
    "for i in prices:\n",
    "    i *= tax \n",
    "print(i) # отступ имеет значение"
   ]
  },
  {
   "cell_type": "code",
   "execution_count": null,
   "metadata": {
    "id": "mnohVP2H0iKz"
   },
   "outputs": [],
   "source": [
    "for price in prices: # то же что двумя ячейками выше\n",
    "    price *= tax\n",
    "    print(price)"
   ]
  },
  {
   "cell_type": "markdown",
   "metadata": {
    "id": "a2L4cVsb0iKz"
   },
   "source": [
    "Разберем код выше. \n",
    "   1. мы определили, как будет называться каждый элемент списка, и запустили перебор элементов\n",
    "   2. мы переписали значение переменной, в которой лежит значение элемента\n",
    "   3. мы вывели значение на экран\n",
    "    \n",
    "! При этом мы нигде не прописывали то, что хотим изменить значения с списке. Поэтому, логично, что список остался неизменным."
   ]
  },
  {
   "cell_type": "code",
   "execution_count": null,
   "metadata": {
    "id": "qj2S7crV0iKz"
   },
   "outputs": [],
   "source": [
    "prices"
   ]
  },
  {
   "cell_type": "markdown",
   "metadata": {
    "id": "QR3iezCJ0iKz"
   },
   "source": [
    "## Базовый синтаксис цикла for"
   ]
  },
  {
   "cell_type": "code",
   "execution_count": null,
   "metadata": {},
   "outputs": [],
   "source": [
    "skills_team = ['Михаил', 'Шагане', 'Дмитрий' , 'Мария']"
   ]
  },
  {
   "cell_type": "code",
   "execution_count": null,
   "metadata": {
    "id": "t3tAg1b90iKz"
   },
   "outputs": [],
   "source": [
    "for i in skills_team:\n",
    "    print('Привет,', i)"
   ]
  },
  {
   "cell_type": "code",
   "execution_count": null,
   "metadata": {
    "id": "uKh26pzy0iK0"
   },
   "outputs": [],
   "source": [
    "skills_team"
   ]
  },
  {
   "cell_type": "markdown",
   "metadata": {
    "id": "zQ3kjC2_0iK0"
   },
   "source": [
    "# Условные конструкции\n",
    "\n",
    "Для решения большинства задач нужно не только итерировать списки, но и изменять данные по условию. \n",
    "\n",
    "### Задача\n",
    "\n",
    "Представим, что мы хотим проанализировать, насколько холодно в Москве зимой. Мы хотим задать температурные окна\n",
    "\n",
    "- температура меньше - 20 — очень холодно\n",
    "- температура между - 20 и + 5 — холодно\n",
    "- все остальное — нормально"
   ]
  },
  {
   "cell_type": "code",
   "execution_count": null,
   "metadata": {
    "id": "HNub8y4L0iK0"
   },
   "outputs": [],
   "source": [
    "temperature = 0\n",
    "if temperature < -20: #базовый синтаксис. Тоже 4 пробела, :\n",
    "    print('Очень холодно')\n",
    "elif -20 <= temperature <= 5:\n",
    "    print('Холодно')\n",
    "else:\n",
    "    print('Нормально')"
   ]
  },
  {
   "cell_type": "code",
   "execution_count": null,
   "metadata": {
    "id": "rSlu6Fbg0iK0"
   },
   "outputs": [],
   "source": [
    "if temperature < -20: #при этом, в отличие от SQL\n",
    "    print('Очень холодно')\n",
    "print('Код продолжает работать, даже если условие не выполнено, и не заданы инструкции else')"
   ]
  },
  {
   "cell_type": "markdown",
   "metadata": {
    "id": "x2GIxLpo0iK0"
   },
   "source": [
    "<img style='float:left' src=\"https://res.cloudinary.com/djcwxgbfz/image/upload/v1606750955/skills/If_elif.png\" width=\"700\"/> "
   ]
  },
  {
   "cell_type": "markdown",
   "metadata": {
    "id": "h9KsC9n40iK0"
   },
   "source": [
    "### Задача\n",
    "\n",
    "У нас есть список с 100 000 оплат с разной суммой, которые мы получили в прошлом.\n",
    "\n",
    "Руководитель хочет проверить, **сколько выручки мы бы потеряли, если бы делали кэшбек 5% на все оплаты больше 8000 рублей.**"
   ]
  },
  {
   "cell_type": "code",
   "execution_count": null,
   "metadata": {
    "id": "yRNlrWUe0iK1"
   },
   "outputs": [],
   "source": [
    "from payments_module import payments_list as payments #подключаемся к данным"
   ]
  },
  {
   "cell_type": "markdown",
   "metadata": {},
   "source": [
    "Посмотрим, много ли у нас оплат свыше 8000."
   ]
  },
  {
   "cell_type": "code",
   "execution_count": null,
   "metadata": {
    "id": "Kr2eS1n70iK1"
   },
   "outputs": [],
   "source": [
    "for i in payments:\n",
    "    if i >= 8000: \n",
    "        print(i)\n",
    "        \n",
    "#неудобно"
   ]
  },
  {
   "cell_type": "markdown",
   "metadata": {},
   "source": [
    "Заведем счетчик, чтобы посмотреть, много ли у нас оплат свыше 8000."
   ]
  },
  {
   "cell_type": "code",
   "execution_count": null,
   "metadata": {
    "id": "ZAscdIZw0iK1"
   },
   "outputs": [],
   "source": [
    "for i in payments:\n",
    "    counter = 0\n",
    "    if i >= 8000:\n",
    "        counter += 1\n",
    "print(counter)\n",
    "\n",
    "#что-то не так"
   ]
  },
  {
   "cell_type": "markdown",
   "metadata": {},
   "source": [
    "Вынесем нашу переменную со счетчиком наружу."
   ]
  },
  {
   "cell_type": "code",
   "execution_count": null,
   "metadata": {
    "id": "jBahr0Fl0iK1"
   },
   "outputs": [],
   "source": [
    "counter = 0 \n",
    "for i in payments:\n",
    "    if i >= 8000:\n",
    "        counter += 1\n",
    "print(counter)\n",
    "        "
   ]
  },
  {
   "cell_type": "markdown",
   "metadata": {},
   "source": [
    "Интересно посчитать, сколько мы заработали всего на оплатах больше 8000."
   ]
  },
  {
   "cell_type": "code",
   "execution_count": null,
   "metadata": {
    "id": "8qYwn2sy0iK1"
   },
   "outputs": [],
   "source": [
    "rev_more_8000 = 0\n",
    "for i in payments:\n",
    "    if i >= 8000:\n",
    "        rev_more_8000 += i \n",
    "        \n",
    "rev_more_8000"
   ]
  },
  {
   "cell_type": "markdown",
   "metadata": {},
   "source": [
    "Посчитаем, сколько мы заработали всего."
   ]
  },
  {
   "cell_type": "code",
   "execution_count": null,
   "metadata": {
    "id": "XKSevlV00iK1"
   },
   "outputs": [],
   "source": [
    "was = 0\n",
    "for i in payments:\n",
    "    was += i     \n",
    "was\n"
   ]
  },
  {
   "cell_type": "markdown",
   "metadata": {},
   "source": [
    "Посчитаем, сколько мы заработали бы, если бы вернули кешбек на покупки > 8000."
   ]
  },
  {
   "cell_type": "code",
   "execution_count": null,
   "metadata": {
    "id": "tdFzc4FQ0iK1"
   },
   "outputs": [],
   "source": [
    "could_be = 0\n",
    "for i in payments:\n",
    "    if i >= 8000:\n",
    "        could_be += i*0.95 \n",
    "    else:\n",
    "        could_be += i\n",
    "    \n",
    "could_be"
   ]
  },
  {
   "cell_type": "markdown",
   "metadata": {},
   "source": [
    "Посчитаем разницу между `was` и `could_be`."
   ]
  },
  {
   "cell_type": "code",
   "execution_count": null,
   "metadata": {
    "id": "Glqb7H1u0iK1"
   },
   "outputs": [],
   "source": [
    "print(1-(could_be/was))"
   ]
  },
  {
   "cell_type": "markdown",
   "metadata": {
    "id": "l7B1t3mh0iK2"
   },
   "source": [
    "### Задача\n",
    "\n",
    "Нам прислали в одном списке по товарам данные о цене и валюте, в которой указана цена (доллары или рубли).\n",
    "Необходимо преобразовать все к рублям и подготовить список с ценами в рублях к дальнейшей загрузке на сайт."
   ]
  },
  {
   "cell_type": "code",
   "execution_count": null,
   "metadata": {
    "id": "n8sCOrmQ0iK2"
   },
   "outputs": [],
   "source": [
    "from prices_module import prices_in_list as prices # подключаемся к данным\n",
    "\n",
    "usd_rate = 76.65"
   ]
  },
  {
   "cell_type": "markdown",
   "metadata": {},
   "source": [
    "Смотрим, с чем мы имеем дело."
   ]
  },
  {
   "cell_type": "code",
   "execution_count": null,
   "metadata": {
    "id": "p_2m6Bd-0iK3"
   },
   "outputs": [],
   "source": [
    "print(type(prices)) "
   ]
  },
  {
   "cell_type": "markdown",
   "metadata": {},
   "source": [
    "Cмотрим, что лежит в первом элементе."
   ]
  },
  {
   "cell_type": "code",
   "execution_count": null,
   "metadata": {
    "id": "omyz0jLv0iK3"
   },
   "outputs": [],
   "source": [
    "print(prices[0], ' ', type(prices[0])) "
   ]
  },
  {
   "cell_type": "markdown",
   "metadata": {},
   "source": [
    "Cмотрим, что лежит в первом элементе первого элемента."
   ]
  },
  {
   "cell_type": "code",
   "execution_count": null,
   "metadata": {
    "id": "3-iwO67W0iK3"
   },
   "outputs": [],
   "source": [
    "print(prices[0][0], type(prices[0][0])) "
   ]
  },
  {
   "cell_type": "markdown",
   "metadata": {},
   "source": [
    "Cмотрим, что лежит во втором элементе первого элемента."
   ]
  },
  {
   "cell_type": "code",
   "execution_count": null,
   "metadata": {
    "id": "ZerAofMY0iK3"
   },
   "outputs": [],
   "source": [
    "print(prices[0][1], type(prices[0][1])) "
   ]
  },
  {
   "cell_type": "markdown",
   "metadata": {},
   "source": [
    "Теперь можем написать цикл преобразований."
   ]
  },
  {
   "cell_type": "code",
   "execution_count": null,
   "metadata": {
    "id": "U6k8hAxZ0iK3"
   },
   "outputs": [],
   "source": [
    "new_prices = [] #создаем новый список, наполняем его данными, и потом переписываем список prices\n",
    "for i in prices:\n",
    "    if i[1] != 'RUR':\n",
    "        rur_prices = (i[0]*usd_rate)\n",
    "        new_prices.append(rur_prices)\n",
    "    else:\n",
    "        new_prices.append(i[0])\n",
    "prices = new_prices\n",
    "sum(prices)"
   ]
  },
  {
   "cell_type": "markdown",
   "metadata": {},
   "source": [
    "Получилось неудобное для чтения число. В Python есть удобная функция round(), которая округляет числа. В аргументы передаем число и количество знаков после запятой. "
   ]
  },
  {
   "cell_type": "code",
   "execution_count": null,
   "metadata": {},
   "outputs": [],
   "source": [
    "round(sum(prices), 1) # округлим результат"
   ]
  },
  {
   "cell_type": "markdown",
   "metadata": {
    "id": "_t2fU4JQ0iK2"
   },
   "source": [
    "### `.split()`\n",
    "\n",
    "И еще один полезный метод.\n",
    "\n",
    "В домашнем задании вам было нужно искать в строке слово, содержащее в себе символ `@`. Вы уже поняли, что решений у задачи очень много. \n",
    "\n",
    "В Python есть специальный метод, который разбивает строку по заданному разделителю, превращая его в список с возможностью итерирования. \n",
    "\n",
    "Теперь мы сможем попробовать решить эту задачу с помощью циклов и условных конструкций."
   ]
  },
  {
   "cell_type": "code",
   "execution_count": null,
   "metadata": {
    "id": "04Wf4XxM0iK2"
   },
   "outputs": [],
   "source": [
    "comment =  'клиент misha@exam.com готов к оплате'\n",
    "list_comment = comment.split(' ') # методом split() разбиваем строку\n",
    "print(list_comment)\n",
    "\n",
    "mail = ''                         # создаем переменную mail, в которую мы запишем ответ\n",
    "for word in list_comment:         # пробегаем по всем элементам word нашего списка\n",
    "    if word.find('@') > 0:        # если в элементе находится символ @\n",
    "        mail = word               # то записываем этот элемент в  переменную mail\n",
    "\n",
    "print(mail) "
   ]
  },
  {
   "cell_type": "markdown",
   "metadata": {
    "id": "yWmDLML60iK4"
   },
   "source": [
    "# Еще два итерируемых типа данных"
   ]
  },
  {
   "cell_type": "markdown",
   "metadata": {
    "id": "aG4sljG50iK4"
   },
   "source": [
    "## Кортежи / tuple\n",
    "\n",
    "\"неизменяемый список\""
   ]
  },
  {
   "cell_type": "code",
   "execution_count": null,
   "metadata": {
    "id": "IouNZ0nN0iK4"
   },
   "outputs": [],
   "source": [
    "my_tuple = (1,2,True) # базовый синтексис\n",
    "my_tuple[1]"
   ]
  },
  {
   "cell_type": "code",
   "execution_count": null,
   "metadata": {
    "id": "FVsPleUA0iK4"
   },
   "outputs": [],
   "source": [
    "my_tuple[1] = 4"
   ]
  },
  {
   "cell_type": "markdown",
   "metadata": {},
   "source": [
    "Вы будете сталкиваться с кортежами не очень часто, например, некоторые функции возвращают результат в формате кортежей. \n",
    "\n",
    "Теперь такие данные не введут вас в тупик.\n",
    "\n",
    "Кстати! Вот что будет, если неверно поставить разделитель во `float`:"
   ]
  },
  {
   "cell_type": "code",
   "execution_count": null,
   "metadata": {
    "id": "iJLNQncu0iK4"
   },
   "outputs": [],
   "source": [
    "some_data = 3\n",
    "some_wrong_data = 5,1\n",
    "\n",
    "result_of_operating = some_data * some_wrong_data\n",
    "\n",
    "print(type(result_of_operating), result_of_operating)"
   ]
  },
  {
   "cell_type": "markdown",
   "metadata": {
    "id": "J7zA9sJE0iK4"
   },
   "source": [
    "## Множества / set\n",
    "\n",
    "Неупорядоченные списки, содержащие лишь уникальные значения."
   ]
  },
  {
   "cell_type": "code",
   "execution_count": null,
   "metadata": {
    "id": "vQQwIhdv0iK4"
   },
   "outputs": [],
   "source": [
    "my_set = {1,3,4,4,4,4}\n",
    "print(type(my_set), my_set)"
   ]
  },
  {
   "cell_type": "markdown",
   "metadata": {},
   "source": [
    "Множества суперудобны для анализа списков.\n",
    "\n",
    "Например, если мы хотим получить список уникальных значений в списке, просто приобразуем его к типу `set`:"
   ]
  },
  {
   "cell_type": "code",
   "execution_count": null,
   "metadata": {
    "id": "ygVG80fB0iK5"
   },
   "outputs": [],
   "source": [
    "set(payments)"
   ]
  },
  {
   "cell_type": "markdown",
   "metadata": {
    "id": "5gDYczsu0iK5"
   },
   "source": [
    "Важное свойство множеств — они не упорядочены. Соответственно, в них невозможно обращение по индексу.\n"
   ]
  },
  {
   "cell_type": "markdown",
   "metadata": {
    "id": "wntsc20Q0iK5"
   },
   "source": [
    "## Словарь / dict\n",
    "\n",
    "Коллекция данных, которая позволяет хранить пары «ключ — значение». \n",
    "\n",
    "1. Ключ — любой тип неизменяемых данных: числа, строки, кортежи, булин\n",
    "\n",
    "2. Значение — вообще любой тип данных, в том числе другой словарь"
   ]
  },
  {
   "cell_type": "markdown",
   "metadata": {},
   "source": [
    "Cоздадим словарь, где ключами являются строки, а значениями — функции приведения к типу данных.\n"
   ]
  },
  {
   "cell_type": "code",
   "execution_count": null,
   "metadata": {
    "id": "BkcugDTR0iK5"
   },
   "outputs": [],
   "source": [
    "type_functions_dict = {'строка': str,\n",
    "                  'целое': int,\n",
    "                  'дробное': float,\n",
    "                  'логическое':bool,\n",
    "                  'список':list,\n",
    "                  'кортеж':tuple,\n",
    "                  'множество':set,\n",
    "                   }"
   ]
  },
  {
   "cell_type": "markdown",
   "metadata": {
    "id": "bq8P5gxH0iK5"
   },
   "source": [
    "### Что можно делать со словарями"
   ]
  },
  {
   "cell_type": "markdown",
   "metadata": {
    "id": "pMZ-LOti0iK5"
   },
   "source": [
    "### 1. Получать значение по ключу"
   ]
  },
  {
   "cell_type": "code",
   "execution_count": null,
   "metadata": {
    "id": "SjQG9W3F0iK5"
   },
   "outputs": [],
   "source": [
    "type_functions_dict['целое']"
   ]
  },
  {
   "cell_type": "markdown",
   "metadata": {
    "id": "t3OL1D3c0iK5"
   },
   "source": [
    "### 2. Использовать значения словаря\n",
    "\n",
    "Определим переменную, сделаем ее строкой и приведем к целому числу, воспользовавшись нашим словариком.\n",
    "\n",
    "Обращение к значению словаря осуществляется через `[]`"
   ]
  },
  {
   "cell_type": "code",
   "execution_count": null,
   "metadata": {
    "id": "ZhF3gikD0iK5"
   },
   "outputs": [],
   "source": [
    "some_var = '4' \n",
    "type(type_functions_dict['целое'](some_var)) "
   ]
  },
  {
   "cell_type": "markdown",
   "metadata": {
    "id": "bwBtjZdM0iK6"
   },
   "source": [
    "У нас в Skyeng мы используем словари, например, для создания таблиц в базах данных. Нам нужно как-то записывать названия стобцов и типы данных для этих столцов, чтобы передавать эту информацию в БД. Словари тут подходят идеально."
   ]
  },
  {
   "cell_type": "markdown",
   "metadata": {
    "id": "v8cZVyOs0iK6"
   },
   "source": [
    "<center><img src=\"https://sun9-28.userapi.com/yJa2bR_SdGwyBmjrvC7GB0hKIMKHOpfGpjLY0Q/YC4SjNJBGaM.jpg\" width=\"340\"/> "
   ]
  },
  {
   "cell_type": "markdown",
   "metadata": {
    "id": "e-6sTyPz0iK6"
   },
   "source": [
    "### 3. Добавлять новые значения и изменять текущие"
   ]
  },
  {
   "cell_type": "markdown",
   "metadata": {},
   "source": [
    "Добавим новый ключ `'словарь'` и значение — функция приведения к типу словарь `dict`."
   ]
  },
  {
   "cell_type": "code",
   "execution_count": null,
   "metadata": {
    "id": "cw-fpX720iK6"
   },
   "outputs": [],
   "source": [
    "type_functions_dict['словарь'] = dict \n",
    "print(type_functions_dict['словарь'])"
   ]
  },
  {
   "cell_type": "markdown",
   "metadata": {},
   "source": [
    "Обновление значений в словаре осуществляется также как добавление новых."
   ]
  },
  {
   "cell_type": "code",
   "execution_count": null,
   "metadata": {
    "id": "zx9emrEK0iK6"
   },
   "outputs": [],
   "source": [
    "type_functions_dict['словарь'] = 'Нечто'\n",
    "type_functions_dict"
   ]
  },
  {
   "cell_type": "code",
   "execution_count": null,
   "metadata": {
    "id": "5uMxWqbC0iK6"
   },
   "outputs": [],
   "source": [
    "type_functions_dict['словарь'] = dict \n",
    "# приведем словарь обратно в порядок и снова назначим ключу 'словарь'  значение dict"
   ]
  },
  {
   "cell_type": "markdown",
   "metadata": {
    "id": "GtX7qwyP0iK6"
   },
   "source": [
    "### 4. Базовые методы работы со словарем\n",
    "\n",
    "Подоробнее про методы работы со словарем можно почитать [`тут.`](https://pythonworld.ru/tipy-dannyx-v-python/slovari-dict-funkcii-i-metody-slovarej.html) \n",
    "\n",
    "А вот 4 самых полезных для нас с вами:\n",
    "\n",
    "\n",
    " - `.get(key,[default])` — возвращает значение ключа\n",
    "\n",
    " - `.items()` — возвращает пары (ключ, значение)\n",
    "\n",
    " - `.keys()` — возвращает ключи в словаре\n",
    "\n",
    " - `.values()` — возвращает значения в словаре"
   ]
  },
  {
   "cell_type": "markdown",
   "metadata": {
    "id": "-HxCOOyV0iK6"
   },
   "source": [
    "###  `.get() ` лучше чем просто обращение к ключу через  `[] `\n",
    "\n",
    "Возвращает значение ключа, но если его нет, возвращает не ошибку, а то, что мы занесем в `default` (по умолчанию `None`)."
   ]
  },
  {
   "cell_type": "code",
   "execution_count": null,
   "metadata": {
    "id": "vqaYsYX_0iK7"
   },
   "outputs": [],
   "source": [
    "print(type_functions_dict.get('целое', 'такого нет'))\n",
    "print(type_functions_dict['целое'])"
   ]
  },
  {
   "cell_type": "code",
   "execution_count": null,
   "metadata": {
    "id": "oLjauyUk0iK7"
   },
   "outputs": [],
   "source": [
    "print(type_functions_dict.get('функция', 'такого нет'))\n",
    "print(type_functions_dict['функция'])"
   ]
  },
  {
   "cell_type": "markdown",
   "metadata": {
    "id": "HUr9KSb60iK7"
   },
   "source": [
    "###  `.items() `\n",
    "\n",
    "Возвращает пары (ключ, значение)."
   ]
  },
  {
   "cell_type": "code",
   "execution_count": null,
   "metadata": {
    "id": "7AAiptDg0iK7"
   },
   "outputs": [],
   "source": [
    "type_functions_dict.items() "
   ]
  },
  {
   "cell_type": "markdown",
   "metadata": {
    "id": "f8BYfnKP0iK7"
   },
   "source": [
    "Данные CRM часто можно выгружать в формате словаря. \n",
    "\n",
    "Давайте посмотрим, как это выглядит."
   ]
  },
  {
   "cell_type": "code",
   "execution_count": null,
   "metadata": {
    "id": "1W6AeJxs0iK7"
   },
   "outputs": [],
   "source": [
    "crm_info =  {\n",
    "('id:',86609):'клиент example@example.com готов к оплате',\n",
    "('id:',12588):'учение настроен позвитивно, positive_one@positiv.ru',\n",
    "('id:',19085):'only_mail@positiv.ru',\n",
    "('id:',42956):'от учебы отказался. negative@somemail.ru',\n",
    "('id:',38821):'our own app testing test@test.ru',\n",
    "('id:',47860):'повторная заявка от пользователя itsmeagail@spam.com',\n",
    "('id:',92172):''\n",
    "}"
   ]
  },
  {
   "cell_type": "code",
   "execution_count": null,
   "metadata": {
    "id": "SoOIFC950iK7"
   },
   "outputs": [],
   "source": [
    "crm_info.items() # посмотрим на словарь"
   ]
  },
  {
   "cell_type": "markdown",
   "metadata": {
    "id": "7KHeXtnl0iK8"
   },
   "source": [
    "\n",
    "### `.keys()`\n",
    "\n",
    "Возвращает ключи в словаре."
   ]
  },
  {
   "cell_type": "code",
   "execution_count": null,
   "metadata": {
    "id": "M070oZ2H0iK8"
   },
   "outputs": [],
   "source": [
    "crm_info.keys() # в ключах лежат кортежи"
   ]
  },
  {
   "cell_type": "markdown",
   "metadata": {
    "id": "r0s2xMKq0iK8"
   },
   "source": [
    "###  ` .values() ` \n",
    "Возвращает значения в словаре."
   ]
  },
  {
   "cell_type": "code",
   "execution_count": null,
   "metadata": {
    "id": "s8-2ixRB0iK8"
   },
   "outputs": [],
   "source": [
    "for i in crm_info.values(): # посмотрим на значения. Через итерирование смотреть гораздо удобнее\n",
    "    print(type(i), i)"
   ]
  },
  {
   "cell_type": "markdown",
   "metadata": {
    "id": "bL5CzWUk0iK8"
   },
   "source": [
    "### Задача\n",
    "\n",
    "Давайте вместе соберем из имеющихся у нас данных новый, чистый словарь.\n",
    "\n",
    "1. Вместо кортежей, в качестве ключей положим просто идентификаторы пользователей\n",
    "2. В качестве значений положим только почту"
   ]
  },
  {
   "cell_type": "markdown",
   "metadata": {
    "id": "WdPeXBX00iK8"
   },
   "source": [
    "**Шаг 1. Вместо кортежей, в качестве ключей положим просто идентификаторы пользователей.**"
   ]
  },
  {
   "cell_type": "code",
   "execution_count": null,
   "metadata": {
    "id": "nHGJLjvG0iK8"
   },
   "outputs": [],
   "source": [
    "new_crm = dict()                         # создадим новый словарь, переберем значения из нашего словаря\n",
    "for client, comment in crm_info.items(): # проитерируем наш словарь\n",
    "    client = client[1]                   # переопределеим ключи. Нам нужен только второй элемент кортежа\n",
    "    new_crm[client] = comment\n"
   ]
  },
  {
   "cell_type": "code",
   "execution_count": null,
   "metadata": {
    "id": "wxiYiOfb0iK8"
   },
   "outputs": [],
   "source": [
    "new_crm #посмотрим что получилось"
   ]
  },
  {
   "cell_type": "markdown",
   "metadata": {
    "id": "tINNAham0iK9"
   },
   "source": [
    "**Шаг 2. В качестве значений положим только почту.**\n",
    "\n",
    "Сегодня мы уже доставали почты из списка, давайте вспомним, как мы это делали с использованием метода split()\n"
   ]
  },
  {
   "cell_type": "code",
   "execution_count": null,
   "metadata": {
    "id": "k4DcxBeT0iK9"
   },
   "outputs": [],
   "source": [
    "for client, comment in new_crm.items(): \n",
    "    comment = comment.split(' ')\n",
    "    for element in comment: \n",
    "        if element.find('@') > 0:\n",
    "            new_crm[client] = element"
   ]
  },
  {
   "cell_type": "code",
   "execution_count": null,
   "metadata": {
    "id": "KYzmhyl60iK9"
   },
   "outputs": [],
   "source": [
    "new_crm"
   ]
  },
  {
   "cell_type": "markdown",
   "metadata": {
    "id": "rJ3nSTjm0iK9"
   },
   "source": [
    "## Словари как мини-база данных\n",
    "\n",
    "То, что в значениях словарей могут лежать любые типы данных, позволяет использовать их в качестве баз данных.\n",
    "\n",
    "\n",
    "### Задача\n",
    "\n",
    "Соберем словарь, в котором **ключом будет идентификатор пользователя**, а **значением — другой словарь с двумя значениями**:\n",
    "\n",
    "- mail: почта\n",
    "- comment: текст комментария"
   ]
  },
  {
   "cell_type": "code",
   "execution_count": null,
   "metadata": {
    "id": "CRjSNte40iK9"
   },
   "outputs": [],
   "source": [
    "mini_db_crm = dict()                     # создадим новый словарь, переберем значения из нашего словаря\n",
    "\n",
    "for client, comment in crm_info.items(): # проитерируем наш словарь\n",
    "    client = client[1]                   # переопределеим ключи, нам нужен только второй элемент кортежа\n",
    "    comment_dict = dict()\n",
    "    mail = ''\n",
    "    for i in comment.split(' '):\n",
    "        if i.find('@') > 0:\n",
    "            mail = i\n",
    "    \n",
    "    comment_dict['mail'] = mail\n",
    "    comment_dict['comment'] = comment\n",
    "    mini_db_crm[client] = comment_dict   # положим в новый словарь пары id:список слов "
   ]
  },
  {
   "cell_type": "code",
   "execution_count": null,
   "metadata": {
    "id": "34q7nEq70iK9"
   },
   "outputs": [],
   "source": [
    "mini_db_crm"
   ]
  },
  {
   "cell_type": "markdown",
   "metadata": {},
   "source": [
    "Достанем все, что мы знаем про пользователя 86609."
   ]
  },
  {
   "cell_type": "code",
   "execution_count": null,
   "metadata": {
    "id": "w4u8p21D0iK9"
   },
   "outputs": [],
   "source": [
    "mini_db_crm[86609] # в значении записан словарь"
   ]
  },
  {
   "cell_type": "markdown",
   "metadata": {},
   "source": [
    "А теперь достанем почту пользователя 86609."
   ]
  },
  {
   "cell_type": "code",
   "execution_count": null,
   "metadata": {
    "id": "Gky7_Meu0iK-"
   },
   "outputs": [],
   "source": [
    "mini_db_crm[86609]['mail']"
   ]
  },
  {
   "cell_type": "markdown",
   "metadata": {},
   "source": [
    "Достанем все почты."
   ]
  },
  {
   "cell_type": "code",
   "execution_count": null,
   "metadata": {
    "id": "ziJt8ezc0iK-"
   },
   "outputs": [],
   "source": [
    "for dic in mini_db_crm.values():\n",
    "    print(dic['mail'])"
   ]
  },
  {
   "cell_type": "markdown",
   "metadata": {
    "id": "aZcA1b1l0iK-"
   },
   "source": [
    "### Задача\n",
    "\n",
    "В модуле `queries` лежит 1000 поисковых запросов в google, через которые пользователи попадали на страницу skyeng.\n",
    "\n",
    "Давайте разберем код, который рассчитывает, сколько слов обычно встречается в запросе, через который пользователи попадают к нам на страницу."
   ]
  },
  {
   "cell_type": "code",
   "execution_count": null,
   "metadata": {
    "id": "rm7Zfzj_0iK-"
   },
   "outputs": [],
   "source": [
    "from queries import queries\n",
    "\n",
    "print(len(queries))\n",
    "print(queries[0:10])"
   ]
  },
  {
   "cell_type": "code",
   "execution_count": null,
   "metadata": {
    "id": "fOmhTHEg0iK-"
   },
   "outputs": [],
   "source": [
    "result = dict()                    # создаем пустой словарь, куда будем записывать результат\n",
    "for q in queries:                  # пробегаемся по всем запросам\n",
    "    words_count = len(q.split())   # созадем переменную, куда записываем число слов в запросе\n",
    "    \n",
    "    if words_count not in result:  # если такого числа слов нет в нашем словре, то ...\n",
    "        result[words_count] = 1    # добавляем в словарь пару \"Число слов\":1 (встретилось 1 раз)\n",
    "    else:                          # если же такое число слов уже есть в нашем словаре, то ...\n",
    "        result[words_count] += 1   # добавляем 1 к нашему счетчику"
   ]
  },
  {
   "cell_type": "markdown",
   "metadata": {},
   "source": [
    "Получили словарь `{количество слов в запросе : сколько запросов такой длины}`\n",
    "\n",
    "Чтобы вывод был понятным и удобным, мы будем использовать метод `format` "
   ]
  },
  {
   "cell_type": "code",
   "execution_count": null,
   "metadata": {},
   "outputs": [],
   "source": [
    "for key, values in result.items():\n",
    "    print(f' Поисковых запросов, содержащих {key} словa: {values}')"
   ]
  },
  {
   "cell_type": "markdown",
   "metadata": {
    "id": "rXoK3W1Y0iK_"
   },
   "source": [
    "<body>\n",
    "  <div\n",
    "    style=\"\n",
    "      padding-top: 298px;\n",
    "      padding-bottom: 298px;\n",
    "      background-color: black;\n",
    "      border-radius: 24px;\n",
    "    \"\n",
    "  >\n",
    "    <div style=\"text-align: center\">\n",
    "      <div\n",
    "        style=\"\n",
    "          font-size: 72px;\n",
    "          line-height: 80px;\n",
    "          font-family: Arial;\n",
    "          color: white;\n",
    "        \"\n",
    "      >\n",
    "        Спасибо за внимание\n",
    "      </div>\n",
    "    </div>\n",
    "  </div>\n",
    "</body>\n"
   ]
  }
 ],
 "metadata": {
  "colab": {
   "name": "Skills_Python_1.2_lesson.ipynb",
   "provenance": []
  },
  "kernelspec": {
   "display_name": "Python 3 (ipykernel)",
   "language": "python",
   "name": "python3"
  },
  "language_info": {
   "codemirror_mode": {
    "name": "ipython",
    "version": 3
   },
   "file_extension": ".py",
   "mimetype": "text/x-python",
   "name": "python",
   "nbconvert_exporter": "python",
   "pygments_lexer": "ipython3",
   "version": "3.9.7"
  }
 },
 "nbformat": 4,
 "nbformat_minor": 4
}
