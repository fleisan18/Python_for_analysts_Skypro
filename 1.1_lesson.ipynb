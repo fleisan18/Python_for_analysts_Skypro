{
 "cells": [
  {
   "cell_type": "code",
   "execution_count": 1,
   "id": "4dfe4af9",
   "metadata": {},
   "outputs": [
    {
     "data": {
      "text/plain": [
       "'Hello world'"
      ]
     },
     "execution_count": 1,
     "metadata": {},
     "output_type": "execute_result"
    }
   ],
   "source": [
    "'Hello world'"
   ]
  },
  {
   "cell_type": "code",
   "execution_count": 2,
   "id": "8bcf8629",
   "metadata": {},
   "outputs": [],
   "source": [
    "multyline = '''\n",
    ",kf ,kf\n",
    ",kf ,kf\n",
    "'''\n",
    "multyline"
   ]
  },
  {
   "cell_type": "code",
   "execution_count": 16,
   "id": "d89dfee1",
   "metadata": {},
   "outputs": [],
   "source": [
    "s = 'Блаблаблабла.'"
   ]
  },
  {
   "cell_type": "code",
   "execution_count": 14,
   "id": "e4106645",
   "metadata": {},
   "outputs": [],
   "source": [
    "s = s.upper()"
   ]
  },
  {
   "cell_type": "code",
   "execution_count": 8,
   "id": "1eb4f635",
   "metadata": {},
   "outputs": [
    {
     "data": {
      "text/plain": [
       "'блаблаблабла'"
      ]
     },
     "execution_count": 8,
     "metadata": {},
     "output_type": "execute_result"
    }
   ],
   "source": [
    "s.lower()"
   ]
  },
  {
   "cell_type": "code",
   "execution_count": 15,
   "id": "a88b5223",
   "metadata": {},
   "outputs": [
    {
     "data": {
      "text/plain": [
       "False"
      ]
     },
     "execution_count": 15,
     "metadata": {},
     "output_type": "execute_result"
    }
   ],
   "source": [
    "s.islower()"
   ]
  },
  {
   "cell_type": "code",
   "execution_count": 19,
   "id": "1be14d1b",
   "metadata": {},
   "outputs": [
    {
     "data": {
      "text/plain": [
       "12"
      ]
     },
     "execution_count": 19,
     "metadata": {},
     "output_type": "execute_result"
    }
   ],
   "source": [
    "dot_index = s.find('.', 0)\n",
    "dot_index"
   ]
  },
  {
   "cell_type": "code",
   "execution_count": 23,
   "id": "a56eaf45",
   "metadata": {},
   "outputs": [
    {
     "ename": "ModuleNotFoundError",
     "evalue": "No module named 'war_and_peace_module'",
     "output_type": "error",
     "traceback": [
      "\u001b[1;31m---------------------------------------------------------------------------\u001b[0m",
      "\u001b[1;31mModuleNotFoundError\u001b[0m                       Traceback (most recent call last)",
      "\u001b[1;32m~\\AppData\\Local\\Temp/ipykernel_628/1707014604.py\u001b[0m in \u001b[0;36m<module>\u001b[1;34m\u001b[0m\n\u001b[1;32m----> 1\u001b[1;33m \u001b[1;32mfrom\u001b[0m \u001b[0mwar_and_peace_module\u001b[0m \u001b[1;32mimport\u001b[0m \u001b[0mwar_and_peace_in_str\u001b[0m \u001b[1;32mas\u001b[0m \u001b[0mwar_and_peace\u001b[0m\u001b[1;33m\u001b[0m\u001b[1;33m\u001b[0m\u001b[0m\n\u001b[0m",
      "\u001b[1;31mModuleNotFoundError\u001b[0m: No module named 'war_and_peace_module'"
     ]
    }
   ],
   "source": [
    "from war_and_peace_module import war_and_peace_in_str as war_and_peace"
   ]
  },
  {
   "cell_type": "code",
   "execution_count": null,
   "id": "4a4ce602",
   "metadata": {},
   "outputs": [],
   "source": []
  },
  {
   "cell_type": "code",
   "execution_count": null,
   "id": "f76bae33",
   "metadata": {},
   "outputs": [],
   "source": []
  }
 ],
 "metadata": {
  "kernelspec": {
   "display_name": "Python 3 (ipykernel)",
   "language": "python",
   "name": "python3"
  },
  "language_info": {
   "codemirror_mode": {
    "name": "ipython",
    "version": 3
   },
   "file_extension": ".py",
   "mimetype": "text/x-python",
   "name": "python",
   "nbconvert_exporter": "python",
   "pygments_lexer": "ipython3",
   "version": "3.9.7"
  }
 },
 "nbformat": 4,
 "nbformat_minor": 5
}
