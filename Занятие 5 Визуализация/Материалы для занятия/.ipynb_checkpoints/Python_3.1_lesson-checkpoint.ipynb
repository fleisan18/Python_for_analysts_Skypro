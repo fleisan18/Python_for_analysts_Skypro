{
 "cells": [
  {
   "cell_type": "markdown",
   "metadata": {
    "id": "l8c4BVxbwp3J"
   },
   "source": [
    "<div\n",
    "  style=\"\n",
    "    padding: 36px 20px 63px 20px;\n",
    "    background-color: #009ee4;\n",
    "    border-radius: 0 0 200px 0;\n",
    "  \"\n",
    ">\n",
    "  <img\n",
    "    style=\"width: 188px; height: 40px; margin: 0\"\n",
    "    src=\"data:image/png;base64,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\"\n",
    "  />\n",
    "\n",
    "  <div\n",
    "    style=\"\n",
    "      color: white;\n",
    "      margin-top: 52px;\n",
    "      font-size: 56px;\n",
    "      line-height: 64px;\n",
    "      font-family: Arial;\n",
    "    \"\n",
    "  >\n",
    "Визуализация данных в Python\n",
    "     \n",
    "  </div>\n",
    "</div>\n",
    "\n"
   ]
  },
  {
   "cell_type": "markdown",
   "metadata": {
    "id": "EtXex4hTwp3b"
   },
   "source": [
    "##  **Зачем вообще нужны графики**\n",
    "\n",
    "Аналитики используют графики, чтобы быстро исследовать данные:\n",
    "   - оценивать распределения на глаз, чтобы выбирать правильные методы\n",
    "   - искать выбросы и чистить от них данные\n",
    "   - искать на глаз тренды\n",
    "    \n",
    "    \n",
    "### Квартет Энскомба\n",
    "\n",
    "Этот пример придумал статистик Фрэнсис Энскомб в 1973 году"
   ]
  },
  {
   "cell_type": "markdown",
   "metadata": {
    "id": "NMBkTQJswp3c"
   },
   "source": [
    "<img style='float:left' src=https://res.cloudinary.com/djcwxgbfz/image/upload/v1608622016/skills/Frame_2256_2x.png width=\"800\" >"
   ]
  },
  {
   "cell_type": "markdown",
   "metadata": {
    "id": "_CQuMbJqwp3c"
   },
   "source": [
    "Все статистики 4-х выборок одинаковы\n",
    "\n",
    "- `mean x = 9`\n",
    "\n",
    "- `sample variance of x = 11`\n",
    "\n",
    "- `mean y = 11.5`\n",
    "\n",
    "- `sample variance of y = 4.125`\n",
    "\n",
    "- `correlation between x and y = 0.816`"
   ]
  },
  {
   "cell_type": "markdown",
   "metadata": {
    "id": "_JyTntWPwp3d"
   },
   "source": [
    "___\n",
    "\n",
    "### **Что показывают графики**\n",
    "\n",
    "\n",
    "- [x] Cравнение величин \n",
    "- [x] Динамика во времени\n",
    "- [x] Ранжирование величин\n",
    "- [x] Часть от целого\n",
    "- [x] Отклонение\n",
    "- [x] Распределение\n",
    "- [x] Выбросы\n",
    "- [x] Кореляция\n",
    "\n",
    "__Все это мы обсудим сегодня на занятии__"
   ]
  },
  {
   "cell_type": "markdown",
   "metadata": {
    "id": "7MET1yh2wp3e"
   },
   "source": [
    "### Основные типы визуализаций \n",
    "\n",
    "Matplotlib\n",
    "\n",
    "- `scatter plot` — точечная диаграмма\n",
    "\n",
    "- `line chart` — линейный график\n",
    "- `histogram` — гистограмма\n",
    "\n",
    "\n",
    "Seaborn\n",
    "- `box plot` — ящик с усами\n",
    "\n",
    "- `heatmap` — тепловая карта"
   ]
  },
  {
   "cell_type": "markdown",
   "metadata": {
    "id": "bKRj2fwqwp3f"
   },
   "source": [
    "___\n",
    "\n",
    "### Данные для визуализации"
   ]
  },
  {
   "cell_type": "markdown",
   "metadata": {
    "id": "rCBWLqJowp3g"
   },
   "source": [
    "Сегодня мы будем работать со знакомым проектом — сетью фитнес-клубов, для которой на прошлом занятии мы агрегировали и мержили данные.\n",
    "\n",
    "__\n",
    "\n",
    "**Cегодня будут встречаться новые методы и функции Pandas, не пугайтесь.*"
   ]
  },
  {
   "cell_type": "code",
   "execution_count": null,
   "metadata": {
    "id": "NzlFAhMNwp3h"
   },
   "outputs": [],
   "source": [
    "import pandas as pd # импортируем Pandas"
   ]
  },
  {
   "cell_type": "markdown",
   "metadata": {
    "id": "r2d8JKYkwp3h"
   },
   "source": [
    "Подключимся к данным по тренировкам, сразу скажем, что в столбце `start_at` даты"
   ]
  },
  {
   "cell_type": "code",
   "execution_count": null,
   "metadata": {
    "id": "Im7-w08nwp3i"
   },
   "outputs": [],
   "source": [
    "workouts = pd.read_csv('workouts.csv', parse_dates=['start_at']) \n",
    "\n",
    "users = pd.read_excel('users.xlsx') # подключимся к данным по клиентам"
   ]
  },
  {
   "cell_type": "markdown",
   "metadata": {
    "id": "QbhKbauswp3i"
   },
   "source": [
    "Создадим новый датафрейм, в котором соединены уроки и пользователи"
   ]
  },
  {
   "cell_type": "code",
   "execution_count": null,
   "metadata": {
    "id": "tpHcznx-wp3j"
   },
   "outputs": [],
   "source": [
    "workouts_users =  pd.merge(workouts, \n",
    "                           users, \n",
    "                           how='left',                      \n",
    "                           left_on='client_id', \n",
    "                           right_on='user_id')"
   ]
  },
  {
   "cell_type": "code",
   "execution_count": null,
   "metadata": {
    "id": "AZxq6ufuwp3j"
   },
   "outputs": [],
   "source": [
    "payments = pd.read_excel('payments.xlsx') # подключимся к данным по оплатам\n",
    "\n",
    "marketing = pd.read_excel('marketing.xlsx') # подключимся к данным маркетинга"
   ]
  },
  {
   "cell_type": "markdown",
   "metadata": {
    "id": "_fZPoCbvwp3j"
   },
   "source": [
    "\n",
    "\n",
    "____\n",
    "\n",
    "##  **Matplotlib**\n",
    "`Matplotlib` — это базовая и основная библиотека для визуализации данных Python. [Документация.](https://matplotlib.org/)"
   ]
  },
  {
   "cell_type": "code",
   "execution_count": null,
   "metadata": {
    "id": "iHkBC1oIwp3k"
   },
   "outputs": [],
   "source": [
    "import matplotlib.pyplot as plt # Библиотека для визуализации данных\n",
    "\n",
    "# чтобы графики отображались внутри jupyter\n",
    "%matplotlib inline "
   ]
  },
  {
   "cell_type": "markdown",
   "metadata": {
    "id": "kc_pdnUwwp3l"
   },
   "source": [
    "## Scatter plot"
   ]
  },
  {
   "cell_type": "markdown",
   "metadata": {
    "id": "xDXxztnvwp3l"
   },
   "source": [
    "\n",
    "\n",
    "<img style='float:left' src=https://datavizcatalogue.com/methods/images/anatomy/scatterplot.png >"
   ]
  },
  {
   "cell_type": "markdown",
   "metadata": {
    "id": "myHSgYxXwp3m"
   },
   "source": [
    "**Scatter plot** — точечная диаграмма, в которой каждое наблюдение представляет собой точку в пространстве. В нашем случае наблюдение — это значение в ячейке таблицы, которую мы визуализируем. "
   ]
  },
  {
   "cell_type": "markdown",
   "metadata": {
    "id": "-W6leO_vwp3m"
   },
   "source": [
    "\n",
    "- [ ] Cравнение величин\n",
    "- [x] Динамика во времени\n",
    "- [ ] Ранжирование величин\n",
    "- [ ] Часть от целого\n",
    "- [x] Отклонение\n",
    "- [x] Распределение\n",
    "- [x] Выбросы\n",
    "- [x] Кореляция"
   ]
  },
  {
   "cell_type": "markdown",
   "metadata": {
    "id": "hfRZ6hI3wp3n"
   },
   "source": [
    "**Для чего используют Scatter plot**\n",
    "\n",
    "- **Выбор правильной метрики** — оценить, много ли выбросов и насколько они критичны, чтобы выбрать среднее или медиану.\n",
    "- **Сегментирование** — оценить, есть ли общая тенденция, группируются ли точки вокруг чего-то или разбросаны равномерно.\n"
   ]
  },
  {
   "cell_type": "markdown",
   "metadata": {
    "id": "kZH4infGwp3o"
   },
   "source": [
    "____\n",
    "\n",
    "### Задача\n",
    "\n",
    "Маркетологи просят помочь запланировать затраты на маркетинг с учётом планов по привлечению клиентов. Можем ли мы ожидать, что если увеличить бюджет на привлечение — количество новых клиентов увеличится пропорционально?\n",
    "\n",
    "Посмотрим, как коррелируют (соотносятся) затраты на маркетинг с количеством привлеченных клиентов.\n",
    "\n",
    "Для такого исследования хорошо подходит __scatter plot__."
   ]
  },
  {
   "cell_type": "markdown",
   "metadata": {
    "id": "k6DgMq0Mwp3o"
   },
   "source": [
    "__Подготовим данные__\n",
    "\n",
    "1. Берем данные о первых оплатах\n",
    "2. Объединяем данные о первых оплатах с данными по привлечению\n",
    "3. Группируем данные первых оплат по месяцам, так как данные маркетинга — ежемесячные\n",
    "\n",
    "Посмотрим на данные в датасете маркетинга"
   ]
  },
  {
   "cell_type": "code",
   "execution_count": null,
   "metadata": {
    "id": "00bTokJjwp3o",
    "outputId": "d5ad1ebe-c197-4316-ddaf-20a30bab172d"
   },
   "outputs": [
    {
     "data": {
      "text/html": [
       "<div>\n",
       "<style scoped>\n",
       "    .dataframe tbody tr th:only-of-type {\n",
       "        vertical-align: middle;\n",
       "    }\n",
       "\n",
       "    .dataframe tbody tr th {\n",
       "        vertical-align: top;\n",
       "    }\n",
       "\n",
       "    .dataframe thead th {\n",
       "        text-align: right;\n",
       "    }\n",
       "</style>\n",
       "<table border=\"1\" class=\"dataframe\">\n",
       "  <thead>\n",
       "    <tr style=\"text-align: right;\">\n",
       "      <th></th>\n",
       "      <th>month</th>\n",
       "      <th>geo_group</th>\n",
       "      <th>budget</th>\n",
       "    </tr>\n",
       "  </thead>\n",
       "  <tbody>\n",
       "    <tr>\n",
       "      <th>0</th>\n",
       "      <td>1</td>\n",
       "      <td>Москва</td>\n",
       "      <td>789709.675027</td>\n",
       "    </tr>\n",
       "    <tr>\n",
       "      <th>1</th>\n",
       "      <td>2</td>\n",
       "      <td>Москва</td>\n",
       "      <td>931588.682871</td>\n",
       "    </tr>\n",
       "    <tr>\n",
       "      <th>2</th>\n",
       "      <td>3</td>\n",
       "      <td>Москва</td>\n",
       "      <td>804864.770139</td>\n",
       "    </tr>\n",
       "  </tbody>\n",
       "</table>\n",
       "</div>"
      ],
      "text/plain": [
       "   month geo_group         budget\n",
       "0      1    Москва  789709.675027\n",
       "1      2    Москва  931588.682871\n",
       "2      3    Москва  804864.770139"
      ]
     },
     "execution_count": 6,
     "metadata": {
      "tags": []
     },
     "output_type": "execute_result"
    }
   ],
   "source": [
    "marketing.head(3)"
   ]
  },
  {
   "cell_type": "markdown",
   "metadata": {
    "id": "WlErxmHBwp3q"
   },
   "source": [
    "Найдем количество первых оплат по месяцам и по географии"
   ]
  },
  {
   "cell_type": "code",
   "execution_count": null,
   "metadata": {
    "id": "qpLdSscBwp3q"
   },
   "outputs": [],
   "source": [
    "# переводим даты в нужный формат\n",
    "payments['payment_datetime'] = pd.to_datetime(payments.payment_date) \n",
    "\n",
    "# объединим платежи и данные о географии студентов\n",
    "payments_with_geo = pd.merge(payments, \n",
    "                             users[['user_id','geo_group']], \n",
    "                             on='user_id') "
   ]
  },
  {
   "cell_type": "markdown",
   "metadata": {
    "id": "9jkPWtP8wp3r"
   },
   "source": [
    "Когда данные группируются по какому-то полю, это поле уходит в индекс. Чтобы мы могли вывести эти данные на график, нам нужно вернуть их в колонки — для этого сбросим индекс:"
   ]
  },
  {
   "cell_type": "code",
   "execution_count": null,
   "metadata": {
    "id": "wxS4RoyNwp3r"
   },
   "outputs": [],
   "source": [
    "# вычисляем даты первых оплат для каждого клиента\n",
    "fst_payment = payments_with_geo.groupby(['user_id', 'geo_group'])['payment_date'].min() \n",
    "\n",
    "# сбрасываем индекс\n",
    "fst_payment = fst_payment.reset_index() \n",
    "\n",
    "# считаем количество первых оплат в каждом месяце и гео-группе\n",
    "fst_payment_month = fst_payment.groupby([fst_payment['payment_date'].dt.month,\n",
    "                                         fst_payment['geo_group']])['user_id'].count().reset_index() "
   ]
  },
  {
   "cell_type": "code",
   "execution_count": null,
   "metadata": {
    "id": "GeClws67wp3s",
    "outputId": "858136c4-840b-4f06-8767-29f9dccdc2cf"
   },
   "outputs": [
    {
     "data": {
      "text/html": [
       "<div>\n",
       "<style scoped>\n",
       "    .dataframe tbody tr th:only-of-type {\n",
       "        vertical-align: middle;\n",
       "    }\n",
       "\n",
       "    .dataframe tbody tr th {\n",
       "        vertical-align: top;\n",
       "    }\n",
       "\n",
       "    .dataframe thead th {\n",
       "        text-align: right;\n",
       "    }\n",
       "</style>\n",
       "<table border=\"1\" class=\"dataframe\">\n",
       "  <thead>\n",
       "    <tr style=\"text-align: right;\">\n",
       "      <th></th>\n",
       "      <th>payment_date</th>\n",
       "      <th>geo_group</th>\n",
       "      <th>user_id</th>\n",
       "    </tr>\n",
       "  </thead>\n",
       "  <tbody>\n",
       "    <tr>\n",
       "      <th>0</th>\n",
       "      <td>1</td>\n",
       "      <td>Без страны</td>\n",
       "      <td>2</td>\n",
       "    </tr>\n",
       "    <tr>\n",
       "      <th>1</th>\n",
       "      <td>1</td>\n",
       "      <td>Москва</td>\n",
       "      <td>194</td>\n",
       "    </tr>\n",
       "    <tr>\n",
       "      <th>2</th>\n",
       "      <td>1</td>\n",
       "      <td>Регионы РФ</td>\n",
       "      <td>169</td>\n",
       "    </tr>\n",
       "  </tbody>\n",
       "</table>\n",
       "</div>"
      ],
      "text/plain": [
       "   payment_date   geo_group  user_id\n",
       "0             1  Без страны        2\n",
       "1             1      Москва      194\n",
       "2             1  Регионы РФ      169"
      ]
     },
     "execution_count": 9,
     "metadata": {
      "tags": []
     },
     "output_type": "execute_result"
    }
   ],
   "source": [
    "fst_payment_month.head(3)"
   ]
  },
  {
   "cell_type": "markdown",
   "metadata": {
    "id": "BNfInoVSwp3s"
   },
   "source": [
    "Так как мы сгруппировали оплаты  по месяцу, логично переименовать столбец `payment_date` в  `month`.\n",
    "\n",
    "Сгруппированный столбец `user_id` превратился в количество продаж. Для удобства тоже его переименуем в `sales`."
   ]
  },
  {
   "cell_type": "code",
   "execution_count": null,
   "metadata": {
    "id": "3-iG4k_gwp3t"
   },
   "outputs": [],
   "source": [
    "# переименовали с помощью метода .columns\n",
    "\n",
    "fst_payment_month.columns = ['month', 'geo_group', 'sales'] "
   ]
  },
  {
   "cell_type": "code",
   "execution_count": null,
   "metadata": {
    "id": "n4I7WMp1wp3t",
    "outputId": "02cee3fd-c91b-4db8-feee-4a3367d2d823"
   },
   "outputs": [
    {
     "data": {
      "text/html": [
       "<div>\n",
       "<style scoped>\n",
       "    .dataframe tbody tr th:only-of-type {\n",
       "        vertical-align: middle;\n",
       "    }\n",
       "\n",
       "    .dataframe tbody tr th {\n",
       "        vertical-align: top;\n",
       "    }\n",
       "\n",
       "    .dataframe thead th {\n",
       "        text-align: right;\n",
       "    }\n",
       "</style>\n",
       "<table border=\"1\" class=\"dataframe\">\n",
       "  <thead>\n",
       "    <tr style=\"text-align: right;\">\n",
       "      <th></th>\n",
       "      <th>month</th>\n",
       "      <th>geo_group</th>\n",
       "      <th>sales</th>\n",
       "    </tr>\n",
       "  </thead>\n",
       "  <tbody>\n",
       "    <tr>\n",
       "      <th>0</th>\n",
       "      <td>1</td>\n",
       "      <td>Без страны</td>\n",
       "      <td>2</td>\n",
       "    </tr>\n",
       "    <tr>\n",
       "      <th>1</th>\n",
       "      <td>1</td>\n",
       "      <td>Москва</td>\n",
       "      <td>194</td>\n",
       "    </tr>\n",
       "    <tr>\n",
       "      <th>2</th>\n",
       "      <td>1</td>\n",
       "      <td>Регионы РФ</td>\n",
       "      <td>169</td>\n",
       "    </tr>\n",
       "  </tbody>\n",
       "</table>\n",
       "</div>"
      ],
      "text/plain": [
       "   month   geo_group  sales\n",
       "0      1  Без страны      2\n",
       "1      1      Москва    194\n",
       "2      1  Регионы РФ    169"
      ]
     },
     "execution_count": 11,
     "metadata": {
      "tags": []
     },
     "output_type": "execute_result"
    }
   ],
   "source": [
    "fst_payment_month.head(3)"
   ]
  },
  {
   "cell_type": "markdown",
   "metadata": {
    "id": "g7411i_cwp3t"
   },
   "source": [
    "Объединим первые оплаты с данными о затратах на маркетинг"
   ]
  },
  {
   "cell_type": "code",
   "execution_count": null,
   "metadata": {
    "id": "VP8FklLHwp3u",
    "outputId": "580d8c2c-9585-454f-e536-3510ca9974f6"
   },
   "outputs": [
    {
     "data": {
      "text/html": [
       "<div>\n",
       "<style scoped>\n",
       "    .dataframe tbody tr th:only-of-type {\n",
       "        vertical-align: middle;\n",
       "    }\n",
       "\n",
       "    .dataframe tbody tr th {\n",
       "        vertical-align: top;\n",
       "    }\n",
       "\n",
       "    .dataframe thead th {\n",
       "        text-align: right;\n",
       "    }\n",
       "</style>\n",
       "<table border=\"1\" class=\"dataframe\">\n",
       "  <thead>\n",
       "    <tr style=\"text-align: right;\">\n",
       "      <th></th>\n",
       "      <th>month</th>\n",
       "      <th>geo_group</th>\n",
       "      <th>sales</th>\n",
       "      <th>budget</th>\n",
       "    </tr>\n",
       "  </thead>\n",
       "  <tbody>\n",
       "    <tr>\n",
       "      <th>0</th>\n",
       "      <td>1</td>\n",
       "      <td>Москва</td>\n",
       "      <td>194</td>\n",
       "      <td>789709.675027</td>\n",
       "    </tr>\n",
       "    <tr>\n",
       "      <th>1</th>\n",
       "      <td>1</td>\n",
       "      <td>Регионы РФ</td>\n",
       "      <td>169</td>\n",
       "      <td>372466.203893</td>\n",
       "    </tr>\n",
       "    <tr>\n",
       "      <th>2</th>\n",
       "      <td>1</td>\n",
       "      <td>СНГ</td>\n",
       "      <td>58</td>\n",
       "      <td>201283.338968</td>\n",
       "    </tr>\n",
       "    <tr>\n",
       "      <th>3</th>\n",
       "      <td>2</td>\n",
       "      <td>Москва</td>\n",
       "      <td>207</td>\n",
       "      <td>931588.682871</td>\n",
       "    </tr>\n",
       "    <tr>\n",
       "      <th>4</th>\n",
       "      <td>2</td>\n",
       "      <td>Регионы РФ</td>\n",
       "      <td>208</td>\n",
       "      <td>629203.981110</td>\n",
       "    </tr>\n",
       "  </tbody>\n",
       "</table>\n",
       "</div>"
      ],
      "text/plain": [
       "   month   geo_group  sales         budget\n",
       "0      1      Москва    194  789709.675027\n",
       "1      1  Регионы РФ    169  372466.203893\n",
       "2      1         СНГ     58  201283.338968\n",
       "3      2      Москва    207  931588.682871\n",
       "4      2  Регионы РФ    208  629203.981110"
      ]
     },
     "execution_count": 12,
     "metadata": {
      "tags": []
     },
     "output_type": "execute_result"
    }
   ],
   "source": [
    "marketing_sales = pd.merge(fst_payment_month, \n",
    "                           marketing, \n",
    "                           on=['geo_group','month'])\n",
    "marketing_sales.head()"
   ]
  },
  {
   "cell_type": "markdown",
   "metadata": {
    "id": "Haf3Mlzvwp3v"
   },
   "source": [
    "Найдём общее количество привлеченных клиентов и сумму затрат на маркетинг"
   ]
  },
  {
   "cell_type": "code",
   "execution_count": null,
   "metadata": {
    "id": "IGogRPmawp3y",
    "outputId": "a92c1f76-803f-420e-c78c-20c7816acd8b"
   },
   "outputs": [
    {
     "data": {
      "text/html": [
       "<div>\n",
       "<style scoped>\n",
       "    .dataframe tbody tr th:only-of-type {\n",
       "        vertical-align: middle;\n",
       "    }\n",
       "\n",
       "    .dataframe tbody tr th {\n",
       "        vertical-align: top;\n",
       "    }\n",
       "\n",
       "    .dataframe thead th {\n",
       "        text-align: right;\n",
       "    }\n",
       "</style>\n",
       "<table border=\"1\" class=\"dataframe\">\n",
       "  <thead>\n",
       "    <tr style=\"text-align: right;\">\n",
       "      <th></th>\n",
       "      <th>month</th>\n",
       "      <th>sales</th>\n",
       "      <th>budget</th>\n",
       "    </tr>\n",
       "  </thead>\n",
       "  <tbody>\n",
       "    <tr>\n",
       "      <th>0</th>\n",
       "      <td>1</td>\n",
       "      <td>421</td>\n",
       "      <td>1.363459e+06</td>\n",
       "    </tr>\n",
       "    <tr>\n",
       "      <th>1</th>\n",
       "      <td>2</td>\n",
       "      <td>490</td>\n",
       "      <td>1.985795e+06</td>\n",
       "    </tr>\n",
       "    <tr>\n",
       "      <th>2</th>\n",
       "      <td>3</td>\n",
       "      <td>488</td>\n",
       "      <td>1.990748e+06</td>\n",
       "    </tr>\n",
       "    <tr>\n",
       "      <th>3</th>\n",
       "      <td>4</td>\n",
       "      <td>698</td>\n",
       "      <td>4.308354e+06</td>\n",
       "    </tr>\n",
       "    <tr>\n",
       "      <th>4</th>\n",
       "      <td>5</td>\n",
       "      <td>432</td>\n",
       "      <td>1.499338e+06</td>\n",
       "    </tr>\n",
       "  </tbody>\n",
       "</table>\n",
       "</div>"
      ],
      "text/plain": [
       "   month  sales        budget\n",
       "0      1    421  1.363459e+06\n",
       "1      2    490  1.985795e+06\n",
       "2      3    488  1.990748e+06\n",
       "3      4    698  4.308354e+06\n",
       "4      5    432  1.499338e+06"
      ]
     },
     "execution_count": 13,
     "metadata": {
      "tags": []
     },
     "output_type": "execute_result"
    }
   ],
   "source": [
    "marketing_sales_total = marketing_sales.groupby('month')[['sales','budget']].sum().reset_index()\n",
    "\n",
    "marketing_sales_total.head()"
   ]
  },
  {
   "cell_type": "markdown",
   "metadata": {
    "id": "4V7RZa3rwp3z"
   },
   "source": [
    "### Построим scatter plot, используя библиотеку `matplotlib`\n",
    "\n",
    "Что мы здесь видим:\n",
    "\n",
    "   1. Мы обращаемся к библиотеке через `plt`\n",
    "   \n",
    "   2. Через точку передаем функции, которые влияют на внешний вид графика\n",
    "   3. В скобках передаем функциям аргументы"
   ]
  },
  {
   "cell_type": "code",
   "execution_count": null,
   "metadata": {
    "id": "rnbeZDtHwp30",
    "outputId": "98621e05-873c-4fe9-91bd-12f27194c7fa"
   },
   "outputs": [
    {
     "data": {
      "image/png": "[encoded data removed]",
      "text/plain": [
       "<Figure size 504x504 with 1 Axes>"
      ]
     },
     "metadata": {
      "needs_background": "light",
      "tags": []
     },
     "output_type": "display_data"
    }
   ],
   "source": [
    "plt.figure(figsize=(7, 7))  \n",
    "\n",
    "\n",
    "plt.title('Зависимость количества привлеченных клиентов от затрат на маркетинг (помесячно)') \n",
    "plt.xlabel('Затраты на маркетинг, р') \n",
    "plt.ylabel('Первых покупок') \n",
    "\n",
    "plt.grid() \n",
    "\n",
    "# передали 3 аргумента\n",
    "plt.scatter(\n",
    "        marketing_sales_total['budget'], \n",
    "        marketing_sales_total['sales'], \n",
    "        alpha = 0.7 \n",
    ")\n",
    "\n",
    "plt.show() "
   ]
  },
  {
   "cell_type": "markdown",
   "metadata": {
    "id": "3lZUa_10wp31"
   },
   "source": [
    "### Что видим на графике"
   ]
  },
  {
   "cell_type": "markdown",
   "metadata": {
    "id": "13ceF_7Iwp31"
   },
   "source": [
    "Увеличение бюджета не ведет к пропорциональному росту продаж — они растут заметно медленнее."
   ]
  },
  {
   "cell_type": "markdown",
   "metadata": {
    "id": "cDIepbxOwp32"
   },
   "source": [
    "**Разберем по шагам, как построить такой график**\n",
    "____\n",
    "\n",
    "### Строим скаттерплот и выводим график на экран\n",
    "\n",
    "Передаем функции `scatter()` два аргумента:\n",
    "\n",
    "   1. Координату точки по горизонтальной оси `X` — значение из первого столбца.\n",
    "   \n",
    "   2. Координату точки по горизонтальной оси `Y` — значение из второго столбца.\n",
    "\n",
    "\n",
    "Функция `plt.show()` выводит график после ячейки"
   ]
  },
  {
   "cell_type": "code",
   "execution_count": null,
   "metadata": {
    "id": "_yAxYEUOwp32",
    "outputId": "24034fce-4029-41eb-c57d-97ec76fbf589"
   },
   "outputs": [
    {
     "data": {
      "image/png": "[encoded data removed]",
      "text/plain": [
       "<Figure size 432x288 with 1 Axes>"
      ]
     },
     "metadata": {
      "needs_background": "light",
      "tags": []
     },
     "output_type": "display_data"
    }
   ],
   "source": [
    "# передадим аргументы функции\n",
    "plt.scatter(\n",
    "    marketing_sales_total['budget'], # ось X, затраты на маркетинг\n",
    "    marketing_sales_total['sales'] # ось Y, количество продаж\n",
    ")\n",
    "\n",
    "plt.show() # вывели график"
   ]
  },
  {
   "cell_type": "markdown",
   "metadata": {
    "id": "4h9xgKbMwp33"
   },
   "source": [
    "### Cетка, чтобы график был более читаемым \n",
    "\n",
    "Функция `grid()` отрисовывает сетку на графике.\n",
    "\n",
    "В аргументах также можно передать цвет и толщину линии.\n",
    "\n",
    "__\n",
    "\n",
    "**Передадим столбцы датафрейма через точечную нотацию*"
   ]
  },
  {
   "cell_type": "code",
   "execution_count": null,
   "metadata": {
    "id": "rOelN3Mnwp33",
    "outputId": "b6c18dd5-eb1a-431c-9c81-20924a8ede0a"
   },
   "outputs": [
    {
     "data": {
      "image/png": "[encoded data removed]",
      "text/plain": [
       "<Figure size 432x288 with 1 Axes>"
      ]
     },
     "metadata": {
      "needs_background": "light",
      "tags": []
     },
     "output_type": "display_data"
    }
   ],
   "source": [
    "plt.grid() # нарисовали сетку на графике\n",
    "\n",
    "plt.scatter(\n",
    "    marketing_sales_total.budget, # ось X, затраты на маркетинг\n",
    "    marketing_sales_total.sales # ось Y, количество продаж\n",
    ")\n",
    "\n",
    "plt.show() # вывели график\n"
   ]
  },
  {
   "cell_type": "markdown",
   "metadata": {
    "id": "7FwoOuCmwp35"
   },
   "source": [
    "Кстати, функция `plt.show()` — это аналог функции `print()` для графиков, вызывать ее не обязательно. Но: \n",
    "\n",
    "1. это хороший тон: если вызвать эту функцию — ваш код будет работать везде, где бы вы его ни запускали. \n",
    "\n",
    "2. `plt.show()` помогает визуально отследить, где заканчиваются вызовы разнообразных функций для графика."
   ]
  },
  {
   "cell_type": "code",
   "execution_count": null,
   "metadata": {
    "id": "_g6jbcrVwp35",
    "outputId": "7bb475f0-16a3-47d7-fb82-1ad3910c74a6"
   },
   "outputs": [
    {
     "name": "stdout",
     "output_type": "stream",
     "text": [
      "Help on function show in module matplotlib.pyplot:\n",
      "\n",
      "show(close=None, block=None)\n",
      "    Display all open figures.\n",
      "    \n",
      "    In non-interactive mode, *block* defaults to True.  All figures\n",
      "    will display and show will not return until all windows are closed.\n",
      "    If there are no figures, return immediately.\n",
      "    \n",
      "    In interactive mode *block* defaults to False.  This will ensure\n",
      "    that all of the figures are shown and this function immediately returns.\n",
      "    \n",
      "    Parameters\n",
      "    ----------\n",
      "    block : bool, optional\n",
      "    \n",
      "        If `True` block and run the GUI main loop until all windows\n",
      "        are closed.\n",
      "    \n",
      "        If `False` ensure that all windows are displayed and return\n",
      "        immediately.  In this case, you are responsible for ensuring\n",
      "        that the event loop is running to have responsive figures.\n",
      "    \n",
      "    See Also\n",
      "    --------\n",
      "    ion : enable interactive mode\n",
      "    ioff : disable interactive mode\n",
      "\n"
     ]
    }
   ],
   "source": [
    "help(plt.show)"
   ]
  },
  {
   "cell_type": "markdown",
   "metadata": {
    "id": "jMTozN-2wp36"
   },
   "source": [
    "### Как подписать оси и график \n",
    "\n",
    "   - `plt.title` — заголовок графика\n",
    "   \n",
    "   - `plt.xlabel` — горизонтальная ось `X`\n",
    "   - `plt.ylabel` — вертикальная ось `Y`"
   ]
  },
  {
   "cell_type": "code",
   "execution_count": null,
   "metadata": {
    "id": "T0WX0tVTwp36",
    "outputId": "3106d148-be43-4f1d-c669-bd2efdd6e66c"
   },
   "outputs": [
    {
     "data": {
      "image/png": "[encoded data removed]",
      "text/plain": [
       "<Figure size 432x288 with 1 Axes>"
      ]
     },
     "metadata": {
      "needs_background": "light",
      "tags": []
     },
     "output_type": "display_data"
    }
   ],
   "source": [
    "plt.title('Зависимость количества привлеченных клиентов от затрат на маркетинг (помесячно)') \n",
    "plt.xlabel('Затраты на маркетинг') \n",
    "plt.ylabel('Первых покупок') \n",
    "\n",
    "\n",
    "plt.grid() # сетка\n",
    "plt.scatter(\n",
    "    marketing_sales_total.budget, # ось X\n",
    "    marketing_sales_total.sales # ось Y\n",
    ")\n",
    "\n",
    "plt.show() # вывели график"
   ]
  },
  {
   "cell_type": "markdown",
   "metadata": {
    "id": "s-chJOqswp36"
   },
   "source": [
    "### Как изменить прозрачность заливки\n",
    "\n",
    "На графике мы видим сплошное облако точек. Чтобы понять, где концентрируются точки на графике, давайте сделаем их немного прозрачными.\n",
    "В этом поможет аргумент `alpha()`. \n",
    "\n",
    "Он принимает значение: \n",
    "- от 0 (полностью прозрачные точки) \n",
    "- до 1 (полностью непрозрачные точки)"
   ]
  },
  {
   "cell_type": "code",
   "execution_count": null,
   "metadata": {
    "id": "85g9AFZcwp37",
    "outputId": "af64fee3-1fb4-4a49-8fc3-a894f39be63a"
   },
   "outputs": [
    {
     "data": {
      "image/png": "[encoded data removed]",
      "text/plain": [
       "<Figure size 432x288 with 1 Axes>"
      ]
     },
     "metadata": {
      "needs_background": "light",
      "tags": []
     },
     "output_type": "display_data"
    }
   ],
   "source": [
    "plt.title('Зависимость количества привлеченных клиентов от затрат на маркетинг (помесячно)') \n",
    "plt.xlabel('Затраты на маркетинг') \n",
    "plt.ylabel('Первых покупок') \n",
    "\n",
    "\n",
    "plt.grid() # сетка\n",
    "plt.scatter(\n",
    "    marketing_sales_total.budget, # ось X\n",
    "    marketing_sales_total.sales, # ось Y\n",
    "    alpha = 0.7 # прозрачность 30%\n",
    ")\n",
    "\n",
    "plt.show() # вывели график"
   ]
  },
  {
   "cell_type": "markdown",
   "metadata": {
    "id": "kHaXl251wp37"
   },
   "source": [
    "### Как изменить размер графика \n",
    "\n",
    "Функция `figure()` помогает определить размер графика.\n",
    "\n",
    "По документации стоит размер по умолчанию — 6.4 х 4.8. Но его можно изменить.\n",
    "\n",
    "Чтобы это сделать, вводим аргумент `figsize` и передаем ему кортеж с числами: сначала ширину, потом высоту.\n",
    "\n",
    "Также функция `figure()` может принимать `facecolor` (цвет бэкграунда) и `edgecolor` (цвет границ). "
   ]
  },
  {
   "cell_type": "code",
   "execution_count": null,
   "metadata": {
    "id": "iJUMCVXawp37",
    "outputId": "7ac9332a-3564-4d53-e904-099b983b4b86"
   },
   "outputs": [
    {
     "data": {
      "image/png": "[encoded data removed]",
      "text/plain": [
       "<Figure size 576x576 with 1 Axes>"
      ]
     },
     "metadata": {
      "needs_background": "light",
      "tags": []
     },
     "output_type": "display_data"
    }
   ],
   "source": [
    "plt.figure(figsize=(8, 8))  # зададим размер графика шириной 8, высотой 8\n",
    "\n",
    "\n",
    "plt.title('Зависимость количества привлеченных клиентов от затрат на маркетинг (помесячно)') \n",
    "plt.xlabel('Затраты на маркетинг') \n",
    "plt.ylabel('Первых покупок') \n",
    "\n",
    "plt.grid() \n",
    "\n",
    "# добавили 3-й аргумент\n",
    "plt.scatter(\n",
    "    marketing_sales_total.budget, # ось X\n",
    "    marketing_sales_total.sales, # ось Y\n",
    "    alpha = 0.7 # прозрачность 30%\n",
    ")\n",
    "\n",
    "plt.show() # вывели график "
   ]
  },
  {
   "cell_type": "markdown",
   "metadata": {
    "id": "5hegKD1dwp38"
   },
   "source": [
    "Когда используем функцию `figure()`, важно писать ее до построения графика. А все настройки — название, подписи осей, сетка — должны следовать после нее, чтобы все относилось к одному графику."
   ]
  },
  {
   "cell_type": "code",
   "execution_count": null,
   "metadata": {
    "id": "__CsQcDLwp38",
    "outputId": "528f9ced-8144-498c-a288-88ab5706996b"
   },
   "outputs": [
    {
     "data": {
      "image/png": "[encoded data removed]",
      "text/plain": [
       "<Figure size 432x288 with 1 Axes>"
      ]
     },
     "metadata": {
      "needs_background": "light",
      "tags": []
     },
     "output_type": "display_data"
    },
    {
     "data": {
      "image/png": "[encoded data removed]",
      "text/plain": [
       "<Figure size 720x360 with 1 Axes>"
      ]
     },
     "metadata": {
      "needs_background": "light",
      "tags": []
     },
     "output_type": "display_data"
    }
   ],
   "source": [
    "plt.scatter(\n",
    "    marketing_sales_total.budget, # ось X\n",
    "    marketing_sales_total.sales, # ось Y\n",
    "    alpha = 0.7 # прозрачность 30%\n",
    ")\n",
    "plt.title('Зависимость количества успешных тренировок от общего количества тренировок') # заголовок\n",
    "plt.grid() \n",
    "\n",
    "plt.figure(figsize=(10, 5))  # задали размер графика шириной 10, высотой 5\n",
    "plt.xlabel('Общее количество тренировок') \n",
    "plt.ylabel('Количество успешных тренировок')\n",
    "\n",
    "\n",
    "plt.show() # вывели график "
   ]
  },
  {
   "cell_type": "markdown",
   "metadata": {
    "id": "Em5eBFtvwp39"
   },
   "source": [
    "На этом примере две картинки: на первой — заголовок, график и сетка, а на второй — заданный размер и подписанные оси. \n",
    "\n",
    "Так получилось, потому что мы указали `title()` и `grid()`  после того, как построили график `scatter` — функции относятся к графику, все в порядке. Название осей мы указали после функции `figure()`, которая инициализировала создание новой области для построения графика заданного размера. "
   ]
  },
  {
   "cell_type": "markdown",
   "metadata": {
    "id": "d7gA80vGwp39"
   },
   "source": [
    "### Починим график"
   ]
  },
  {
   "cell_type": "code",
   "execution_count": null,
   "metadata": {
    "id": "X_adcLxxwp39",
    "outputId": "83f85545-1442-47a0-8693-18131a4c28da"
   },
   "outputs": [
    {
     "data": {
      "image/png": "[encoded data removed]",
      "text/plain": [
       "<Figure size 504x504 with 1 Axes>"
      ]
     },
     "metadata": {
      "needs_background": "light",
      "tags": []
     },
     "output_type": "display_data"
    }
   ],
   "source": [
    "plt.figure(figsize=(7, 7))  # размер фигуры\n",
    "\n",
    "\n",
    "plt.title('Зависимость количества привлеченных клиентов от затрат на маркетинг (помесячно)') \n",
    "plt.xlabel('Затраты на маркетинг, млн р') \n",
    "plt.ylabel('Первых покупок') \n",
    "\n",
    "plt.grid() # сетка\n",
    "\n",
    "plt.scatter(\n",
    "    marketing_sales_total.budget, # ось X\n",
    "    marketing_sales_total.sales, # ось Y\n",
    "    alpha = 0.7 # прозрачность 30%\n",
    ")\n",
    "\n",
    "plt.show() # вывели график "
   ]
  },
  {
   "cell_type": "markdown",
   "metadata": {
    "id": "WFpDOf4hwp3-"
   },
   "source": [
    "### Как добавить дополнительное измерение\n",
    "\n",
    "Кроме общего тренда этот график не позволит получить больше информации. Но можно  добавить туда **дополнительное измерение**. Чтобы это сделать, не обязательно переводить нашу двумерную плоскость в трехмерную, так как трехмерные графики тяжело читать.\n",
    "\n",
    "**Что можно использовать в качестве третьего измерения?**"
   ]
  },
  {
   "cell_type": "markdown",
   "metadata": {
    "id": "tHDjv2SIwp3-"
   },
   "source": [
    "### Задача \n",
    "\n",
    "Посмотреть, как выглядят наши затраты на маркетинг в разных гео-группах"
   ]
  },
  {
   "cell_type": "markdown",
   "metadata": {
    "id": "x-r-ePLFwp3_"
   },
   "source": [
    "Для начала посмотрим, какие значения может принимать колонка с гео-группой. Для этого воспользуемся множествами, так как они хранят только уникальные значения. Приведем ко множеству столбец с гео-группами:"
   ]
  },
  {
   "cell_type": "code",
   "execution_count": null,
   "metadata": {
    "id": "HgmtKMsCwp3_",
    "outputId": "c3e43f12-2865-492b-d7d6-4dc994c1acd3"
   },
   "outputs": [
    {
     "data": {
      "text/plain": [
       "{'Москва', 'Регионы РФ', 'СНГ'}"
      ]
     },
     "execution_count": 23,
     "metadata": {
      "tags": []
     },
     "output_type": "execute_result"
    }
   ],
   "source": [
    "geo_groups = set(marketing_sales['geo_group'])\n",
    "geo_groups"
   ]
  },
  {
   "cell_type": "markdown",
   "metadata": {
    "id": "DwUmUu-cwp4A"
   },
   "source": [
    "**Для каждой гео-группы зададим свой цвет. Цвета можно задавать буквами:**\n",
    "\n",
    "\n",
    "<img style='float:left' src=https://res.cloudinary.com/djcwxgbfz/image/upload/v1608375631/skills/color.jpg width=\"800\">\n"
   ]
  },
  {
   "cell_type": "markdown",
   "metadata": {
    "id": "b6X9JUP5wp4B"
   },
   "source": [
    "**Создадим словарь, в котором гео-группы — это ключи, а цвета — их значения.**"
   ]
  },
  {
   "cell_type": "code",
   "execution_count": null,
   "metadata": {
    "id": "e3zqMm_0wp4B"
   },
   "outputs": [],
   "source": [
    "# зададим цвет для каждой группы\n",
    "\n",
    "colors = {'Москва':'c', \n",
    "          'Регионы РФ':'tab:olive', \n",
    "          'СНГ':'r', \n",
    "          'Без страны':'k'} "
   ]
  },
  {
   "cell_type": "markdown",
   "metadata": {
    "id": "GXZCQUBmwp4B"
   },
   "source": [
    "Чтобы задать цвет точки при использовании функции `scatter()`, нужно передать массив цветов точек в качестве параметра `c`.\n",
    "\n",
    "Чтобы определить цвет точки, используем по словарю функцию `map()` — она поставит каждой гео-группе соответствующий цвет."
   ]
  },
  {
   "cell_type": "code",
   "execution_count": null,
   "metadata": {
    "id": "zEkD8GJAwp4B",
    "outputId": "8abe1cc4-f4be-435a-edf5-4c9867cc4cb6"
   },
   "outputs": [
    {
     "data": {
      "text/plain": [
       "0            c\n",
       "1    tab:olive\n",
       "2            r\n",
       "3            c\n",
       "4    tab:olive\n",
       "5            r\n",
       "6            c\n",
       "7    tab:olive\n",
       "8            r\n",
       "9            c\n",
       "Name: geo_group, dtype: object"
      ]
     },
     "execution_count": 25,
     "metadata": {
      "tags": []
     },
     "output_type": "execute_result"
    }
   ],
   "source": [
    "marketing_sales['geo_group'].map(colors).head(10)"
   ]
  },
  {
   "cell_type": "markdown",
   "metadata": {
    "id": "rIN6rzw7wp4C"
   },
   "source": [
    "Теперь построим трехмерный **scatter plot**. \n",
    "\n",
    "1. Передадим дополнительный аргумент `c` (colors), равный столбцу из датафрейма\n",
    "2. Применяем к нему функцию `map()`\n",
    "3. В аргумент этой функции передадим словарь"
   ]
  },
  {
   "cell_type": "code",
   "execution_count": null,
   "metadata": {
    "id": "PzacaBdCwp4C",
    "outputId": "11766e1e-800a-4531-c56e-86d5156b970c"
   },
   "outputs": [
    {
     "data": {
      "image/png": "[encoded data removed]",
      "text/plain": [
       "<Figure size 504x504 with 1 Axes>"
      ]
     },
     "metadata": {
      "needs_background": "light",
      "tags": []
     },
     "output_type": "display_data"
    }
   ],
   "source": [
    "plt.figure(figsize=(7, 7))  # Зададим размер фигуры\n",
    "\n",
    "\n",
    "plt.title('Зависимость количества привлеченных клиентов от затрат на маркетинг (помесячно)') \n",
    "plt.xlabel('Затраты на маркетинг') \n",
    "plt.ylabel('Первых покупок') \n",
    "plt.grid() # сетка\n",
    "\n",
    "scatter = plt.scatter(\n",
    "    marketing_sales.budget, # ось OX \n",
    "    marketing_sales.sales, # ось OY\n",
    "    \n",
    "    c = marketing_sales['geo_group'].map(colors),  # задаем цвета точек как четвертое измерение\n",
    "    alpha = 0.5 # Прозрачность 50%\n",
    ")"
   ]
  },
  {
   "cell_type": "markdown",
   "metadata": {
    "id": "WWt9niKOwp4D"
   },
   "source": [
    "Чтобы скорректировать диапазон значений на оси Х, изменим масштаб осей с помощью функций `xlim()`, `ylim()` — они задают начальное и конечное значение по каждой оси. \n",
    "\n",
    "Сделаем так, чтобы ось `X` начиналась с -10 тыс. и заканчивалась 1 млн.рублей, а на оси `Y` (количество привлеченных клиентов) значения были от 0 до 250.\n",
    "Это нужно в двух случаях:\n",
    "\n",
    "* чтобы убрать выбросы\n",
    "* чтобы скорректировать положение диаграммы и сделать её более удобной для анализа"
   ]
  },
  {
   "cell_type": "code",
   "execution_count": null,
   "metadata": {
    "id": "89A3W5t4wp4D",
    "outputId": "26adb464-d3ec-45c3-afd0-406a746bca12",
    "scrolled": true
   },
   "outputs": [
    {
     "data": {
      "image/png": "[encoded data removed]",
      "text/plain": [
       "<Figure size 504x504 with 1 Axes>"
      ]
     },
     "metadata": {
      "needs_background": "light",
      "tags": []
     },
     "output_type": "display_data"
    }
   ],
   "source": [
    "plt.figure(figsize=(7, 7))  # зададим размер фигуры\n",
    "\n",
    "# зададим масштаб осей\n",
    "plt.xlim(-10_000, 1_000_000) # минусовое значение, чтобы не отрезать 0\n",
    "plt.ylim(0, 250)\n",
    "\n",
    "plt.title('Зависимость количества привлеченных клиентов от затрат на маркетинг (помесячно)') \n",
    "plt.xlabel('Затраты на маркетинг, млн р') \n",
    "plt.ylabel('Первых покупок') \n",
    "\n",
    "plt.grid() # сетка\n",
    "\n",
    "scatter = plt.scatter(\n",
    "    marketing_sales.budget, # ось X \n",
    "    marketing_sales.sales, # ось Y\n",
    "    c = marketing_sales['geo_group'].map(colors), # задаем цвета точек как четвертое измерение\n",
    "    alpha = 0.5 # прозрачность 50%\n",
    ")\n"
   ]
  },
  {
   "cell_type": "markdown",
   "metadata": {
    "id": "FG4HsS8Qwp4D"
   },
   "source": [
    "**Основные ошибки при построении scatter plot**"
   ]
  },
  {
   "cell_type": "markdown",
   "metadata": {
    "id": "TE79DJ4awp4E"
   },
   "source": [
    "- Неправильная оценка масштаба осей\n",
    "- Нечитабельный график из-за большого количества выбросов\n",
    "- Перебор информации — слишком много разных типов визуализации: цвет, форма, размер"
   ]
  },
  {
   "cell_type": "code",
   "execution_count": null,
   "metadata": {
    "id": "ZmZyAtltwp4E",
    "outputId": "dfdf5ef3-d192-4d9a-cddd-6969e2386928",
    "scrolled": true
   },
   "outputs": [
    {
     "data": {
      "image/png": "[encoded data removed]",
      "text/plain": [
       "<Figure size 720x360 with 1 Axes>"
      ]
     },
     "metadata": {
      "needs_background": "light",
      "tags": []
     },
     "output_type": "display_data"
    }
   ],
   "source": [
    "plt.figure(figsize=(10, 5))  # Зададим размер фигуры\n",
    "# зададим масштаб осей\n",
    "plt.xlim(-100,500)\n",
    "plt.ylim(-100,500)\n",
    "\n",
    "scatter = plt.scatter(    \n",
    "    users.workouts_total, # ось OX \n",
    "    users.workouts_successful, # ось OY\n",
    "    c = users['geo_group'].map(colors), # задаем цвета точек\n",
    "    s = users['age'], # задаем размер точек в соответсвии с возрастом пользователя\n",
    "    marker = '*'# вид точки\n",
    ")"
   ]
  },
  {
   "cell_type": "markdown",
   "metadata": {
    "id": "x1FdXrewwp4E"
   },
   "source": [
    "## Line chart\n",
    "\n",
    "<img style='float:left' src=https://matplotlib.org/_images/sphx_glr_psd_demo_001.png >"
   ]
  },
  {
   "cell_type": "markdown",
   "metadata": {
    "id": "ur7GTvtJwp4F"
   },
   "source": [
    "**Line сhart** — это линейный график в виде точек на плоскости, которые соединены линией. Такой тип графика удобно использовать, чтобы отслеживать динамику какой-то величины. "
   ]
  },
  {
   "cell_type": "markdown",
   "metadata": {
    "id": "2TXBWvbjwp4F"
   },
   "source": [
    "- [x] Cравнение величин\n",
    "- [x] Динамика во времени\n",
    "- [ ] Ранжирование величин\n",
    "- [ ] Часть от целого\n",
    "- [ ] Отклонение\n",
    "- [ ] Распределение\n",
    "- [ ] Выбросы\n",
    "- [x] Кореляция"
   ]
  },
  {
   "cell_type": "markdown",
   "metadata": {
    "id": "wePbppvFwp4F"
   },
   "source": [
    "**В исследовании временных рядов Line chart помогает посмотреть:**\n",
    "\n",
    "- **тренд**: растем/падаем/ничего не происходит\n",
    "- **сезонность**: дневная/недельная/месячная/годовая"
   ]
  },
  {
   "cell_type": "markdown",
   "metadata": {
    "id": "z_lUrwGIwp4F"
   },
   "source": [
    "### Задача\n",
    "\n",
    "Мы хотим исследовать динамику общего количества тренировок в течение года по неделям."
   ]
  },
  {
   "cell_type": "markdown",
   "metadata": {
    "id": "Qky7vym7wp4F"
   },
   "source": [
    "__Подготовим данные__\n",
    "\n",
    "Нужно сгруппировать данные по неделям и посчитать количество тренировок в каждой неделе. \n",
    "\n",
    "Для этого используем функцию `resample()` — она сделает по столбцу с датой группировку любой гранулярности (год, месяц, неделя и т.д.) без `groupby()`.\n",
    "\n",
    "В функцию `resample()` передадим гранулярность группировки и столбец с данными:\n",
    "- `S`: секунда\n",
    "\n",
    "- `min`: минута\n",
    "- `H`: час\n",
    "- `D`: день \n",
    "- `M`: месяц\n",
    "- `Q`: квартал\n",
    "- `Y`: год\n",
    "\n",
    "При этом не обязательно использовать единичный интервал — можно передать `'30S'`, тогда группировка будет по 30 секунд. Или `'17min'` — тогда группировка будет по 17 минут.\n",
    "\n",
    "Мы сгруппируем данные по 1 неделе и посчитаем количество тренировок функцией `count()`."
   ]
  },
  {
   "cell_type": "code",
   "execution_count": null,
   "metadata": {
    "id": "Zm6y6RkMwp4F",
    "outputId": "c0167640-b3fc-402b-9781-1bc6051ce1ff"
   },
   "outputs": [
    {
     "data": {
      "text/plain": [
       "start_at\n",
       "2020-01-05      24\n",
       "2020-01-12     122\n",
       "2020-01-19     270\n",
       "2020-01-26     427\n",
       "2020-02-02     571\n",
       "2020-02-09     795\n",
       "2020-02-16     959\n",
       "2020-02-23    1075\n",
       "2020-03-01    1241\n",
       "2020-03-08    1339\n",
       "Freq: W-SUN, Name: workout_id, dtype: int64"
      ]
     },
     "execution_count": 31,
     "metadata": {
      "tags": []
     },
     "output_type": "execute_result"
    }
   ],
   "source": [
    "# записываем новый датасет с количеством тренировок по неделям\n",
    "workouts_byweek = workouts.resample('W', on='start_at')['workout_id'].count() \n",
    "\n",
    "#выведем первые 10 элементов\n",
    "workouts_byweek.head(10)"
   ]
  },
  {
   "cell_type": "markdown",
   "metadata": {
    "id": "nymDUU7ewp4G"
   },
   "source": [
    "**Построим график**\n",
    "\n",
    "Чтобы построить линейный график, воспользуемся функцией `plt.plot()` — она принимает один или два аргумента для отображения на плоскости.\n",
    "\n",
    "Если 2 аргумента: \n",
    "- 1-ый — это координата точек по оси `Х`\n",
    "- 2-ой — по оси `Y`\n",
    "\n",
    "Если 1 аргумент:\n",
    "- индекс будет показан по оси `Х`\n",
    "- переданный аргумент — по оси `Y`\n",
    "\n",
    "В нашем случае во время группировки мы получили новый датафрейм с датой в индексе, так как группировали по дате. Так всегда происходит во время группировки `groupby()` или `resample()` — значения, по которым происходит группировка, уходит в индекс. "
   ]
  },
  {
   "cell_type": "code",
   "execution_count": null,
   "metadata": {
    "id": "l4l0TKD5wp4G",
    "outputId": "8b591b16-91c7-4b2e-fed0-3f22e38cf754",
    "scrolled": true
   },
   "outputs": [
    {
     "data": {
      "image/png": "[encoded data removed]",
      "text/plain": [
       "<Figure size 720x360 with 1 Axes>"
      ]
     },
     "metadata": {
      "needs_background": "light",
      "tags": []
     },
     "output_type": "display_data"
    }
   ],
   "source": [
    "plt.figure(figsize=(10, 5)) # размерность\n",
    "plt.title('Распределение количества тренировок по неделям') \n",
    "plt.xlabel('Дата') \n",
    "plt.ylabel('Количество тренировок') \n",
    "plt.grid() # сетка\n",
    "\n",
    "#передаем в функцию 1 аргумент, поэтому по оси X - будет индекс - это дата\n",
    "\n",
    "plt.plot(workouts_byweek) #количество тренировок в каждую неделю \n",
    "plt.show()"
   ]
  },
  {
   "cell_type": "markdown",
   "metadata": {
    "id": "65kUeum7wp4G"
   },
   "source": [
    "Мы видим, что в последнем месяце количество тренировок меньше. Скорее всего, это происходит потому, что месяц еще не закончился. Мы можем это исправить, удалив последнюю точку на диаграмме с помощью функции `.loc[]`. Но мы научимся другой, не менее полезной. \n",
    "\n",
    "\n",
    "### iloc[ ]\n",
    "Функция называется `.iloc[]` и работает так же, как `.loc[]`, но позволяет обращаться к строкам датафрейма или элементам серии не по индексу, а по порядковому номеру. Помним, что нумерация в Python начинается с 0. "
   ]
  },
  {
   "cell_type": "code",
   "execution_count": null,
   "metadata": {
    "id": "LMqKSGlbwp4G",
    "outputId": "d044be41-9505-47f8-988c-28fea4c1e57a"
   },
   "outputs": [
    {
     "data": {
      "text/plain": [
       "24"
      ]
     },
     "execution_count": 33,
     "metadata": {
      "tags": []
     },
     "output_type": "execute_result"
    }
   ],
   "source": [
    "workouts_byweek.iloc[0] # берем первый элемент\n"
   ]
  },
  {
   "cell_type": "markdown",
   "metadata": {
    "id": "zijn8DGHwp4H"
   },
   "source": [
    "Метод `tail()` рабоатет так же как `head()` но показывает последние строки"
   ]
  },
  {
   "cell_type": "code",
   "execution_count": null,
   "metadata": {
    "id": "8tV8vZEHwp4H",
    "outputId": "cdb912c8-0e9c-4219-a5a6-ed8b5ba51125"
   },
   "outputs": [
    {
     "data": {
      "text/plain": [
       "start_at\n",
       "2020-11-15    2731\n",
       "2020-11-22    2753\n",
       "2020-11-29    2777\n",
       "2020-12-06    2732\n",
       "2020-12-13     454\n",
       "Freq: W-SUN, Name: workout_id, dtype: int64"
      ]
     },
     "execution_count": 34,
     "metadata": {
      "tags": []
     },
     "output_type": "execute_result"
    }
   ],
   "source": [
    "workouts_byweek.tail()"
   ]
  },
  {
   "cell_type": "code",
   "execution_count": null,
   "metadata": {
    "id": "ypsR-Eavwp4I",
    "outputId": "acfd20ba-97e3-490b-af83-d5480b1795dd"
   },
   "outputs": [
    {
     "data": {
      "text/plain": [
       "start_at\n",
       "2020-11-08    2700\n",
       "2020-11-15    2731\n",
       "2020-11-22    2753\n",
       "2020-11-29    2777\n",
       "2020-12-06    2732\n",
       "Freq: W-SUN, Name: workout_id, dtype: int64"
      ]
     },
     "execution_count": 35,
     "metadata": {
      "tags": []
     },
     "output_type": "execute_result"
    }
   ],
   "source": [
    "workouts_byweek.iloc[:-1].tail() # берем все элементы, кроме последнего"
   ]
  },
  {
   "cell_type": "markdown",
   "metadata": {
    "id": "74C0P_40wp4I"
   },
   "source": [
    "Можем задать толщину линии, передав функции `plot()` аргумент `linewidth` и присвоив ему значение.\n",
    "\n",
    "По умолчанию толщина равна 1."
   ]
  },
  {
   "cell_type": "code",
   "execution_count": null,
   "metadata": {
    "id": "7EOWzbcRwp4J",
    "outputId": "d014302b-0ffc-438e-dc6c-dd3dbc38041a"
   },
   "outputs": [
    {
     "data": {
      "image/png": "[encoded data removed]",
      "text/plain": [
       "<Figure size 720x360 with 1 Axes>"
      ]
     },
     "metadata": {
      "needs_background": "light",
      "tags": []
     },
     "output_type": "display_data"
    }
   ],
   "source": [
    "plt.figure(figsize=(10, 5))  \n",
    "plt.title('Распределение количества тренировок по неделям') \n",
    "plt.xlabel('Дата') \n",
    "plt.ylabel('Количество тренировок') \n",
    "plt.grid() \n",
    " \n",
    "plt.plot(workouts_byweek.iloc[:-1],linewidth=4) #linewidth - это толщина линии \n",
    "plt.show()"
   ]
  },
  {
   "cell_type": "markdown",
   "metadata": {
    "id": "bR6Ax2iFwp4J"
   },
   "source": [
    "График показывает динамику количества тренировок. Замечаем, что в летний сезон есть определенный спад тренировок. Чтобы это было лучше видно, выделим сезоны разными цветами. \n",
    "\n",
    "### Как добавить разные цвета на линейный график\n",
    "\n",
    "Частично покрасить линейный график мы не можем, но зато можем красить точки скаттерплота по условию. Чтобы выделить точки, по которым построена эта линия, поверх текущего графика построим еще один — по сути, это будет примитивный скаттерплот. \n"
   ]
  },
  {
   "cell_type": "markdown",
   "metadata": {
    "id": "U9vyptYrwp4K"
   },
   "source": [
    "Так как мы хотим, чтобы цвет точек отличался от сезона к сезону, напишем функцию, которая поможет нам маркировать сезоны. Она будет принимать на вход дату и возвращать название сезона."
   ]
  },
  {
   "cell_type": "code",
   "execution_count": null,
   "metadata": {
    "id": "Y1XJQ4M4wp4K"
   },
   "outputs": [],
   "source": [
    "def get_season(date):\n",
    "    month = date.month # вытащим номер месяца из даты \n",
    "   \n",
    "    if month in (3,4,5): \n",
    "        return 'Весна'\n",
    "    elif month in (6,7,8):\n",
    "        return 'Лето'\n",
    "    elif month in (9,10,11):\n",
    "        return 'Осень'\n",
    "    else:         # остальные месяцы - месяцы зимы\n",
    "        return 'Зима'"
   ]
  },
  {
   "cell_type": "markdown",
   "metadata": {
    "id": "S_6RKYgOwp4L"
   },
   "source": [
    "Убедимся, что все работает правильно"
   ]
  },
  {
   "cell_type": "code",
   "execution_count": null,
   "metadata": {
    "id": "Av4tTStzwp4L",
    "outputId": "cdf1815f-a0a5-4d45-d99f-18a953ab8389"
   },
   "outputs": [
    {
     "name": "stdout",
     "output_type": "stream",
     "text": [
      "Дата 2020-01-05 00:00:00\n",
      "Сезон Зима\n"
     ]
    }
   ],
   "source": [
    "print('Дата', workouts_byweek.index[0]) # берем первую дату из нашей таблицы\n",
    "print('Сезон', get_season(workouts_byweek.index[0])) # выводим результат работы функции"
   ]
  },
  {
   "cell_type": "markdown",
   "metadata": {
    "id": "kltBm7-Kwp4M"
   },
   "source": [
    "Создадим новый датафрейм и сбросим индекс с помощью `reset_index()`, чтобы дата стала отдельной колонкой"
   ]
  },
  {
   "cell_type": "code",
   "execution_count": null,
   "metadata": {
    "id": "p6vbhSPhwp4M"
   },
   "outputs": [],
   "source": [
    "workouts_byweek_seasons = workouts_byweek.reset_index().iloc[:-1] # берем строки кроме последней"
   ]
  },
  {
   "cell_type": "markdown",
   "metadata": {
    "id": "P98kLA5Ewp4N"
   },
   "source": [
    "Применим функцию к дате и запишем в новую колонку `season`"
   ]
  },
  {
   "cell_type": "code",
   "execution_count": null,
   "metadata": {
    "id": "NPybUuKbwp4N"
   },
   "outputs": [],
   "source": [
    "workouts_byweek_seasons['season'] = workouts_byweek_seasons['start_at'].apply(get_season)\n"
   ]
  },
  {
   "cell_type": "markdown",
   "metadata": {
    "id": "kuG2sBGUwp4N"
   },
   "source": [
    "Посмотрим, что получилось: "
   ]
  },
  {
   "cell_type": "code",
   "execution_count": null,
   "metadata": {
    "id": "vz-YNA4Awp4O",
    "outputId": "e703795d-e3a5-49d5-edec-7d7e6292bb02"
   },
   "outputs": [
    {
     "data": {
      "text/html": [
       "<div>\n",
       "<style scoped>\n",
       "    .dataframe tbody tr th:only-of-type {\n",
       "        vertical-align: middle;\n",
       "    }\n",
       "\n",
       "    .dataframe tbody tr th {\n",
       "        vertical-align: top;\n",
       "    }\n",
       "\n",
       "    .dataframe thead th {\n",
       "        text-align: right;\n",
       "    }\n",
       "</style>\n",
       "<table border=\"1\" class=\"dataframe\">\n",
       "  <thead>\n",
       "    <tr style=\"text-align: right;\">\n",
       "      <th></th>\n",
       "      <th>start_at</th>\n",
       "      <th>workout_id</th>\n",
       "      <th>season</th>\n",
       "    </tr>\n",
       "  </thead>\n",
       "  <tbody>\n",
       "    <tr>\n",
       "      <th>0</th>\n",
       "      <td>2020-01-05</td>\n",
       "      <td>24</td>\n",
       "      <td>Зима</td>\n",
       "    </tr>\n",
       "    <tr>\n",
       "      <th>1</th>\n",
       "      <td>2020-01-12</td>\n",
       "      <td>122</td>\n",
       "      <td>Зима</td>\n",
       "    </tr>\n",
       "    <tr>\n",
       "      <th>2</th>\n",
       "      <td>2020-01-19</td>\n",
       "      <td>270</td>\n",
       "      <td>Зима</td>\n",
       "    </tr>\n",
       "    <tr>\n",
       "      <th>3</th>\n",
       "      <td>2020-01-26</td>\n",
       "      <td>427</td>\n",
       "      <td>Зима</td>\n",
       "    </tr>\n",
       "    <tr>\n",
       "      <th>4</th>\n",
       "      <td>2020-02-02</td>\n",
       "      <td>571</td>\n",
       "      <td>Зима</td>\n",
       "    </tr>\n",
       "  </tbody>\n",
       "</table>\n",
       "</div>"
      ],
      "text/plain": [
       "    start_at  workout_id season\n",
       "0 2020-01-05          24   Зима\n",
       "1 2020-01-12         122   Зима\n",
       "2 2020-01-19         270   Зима\n",
       "3 2020-01-26         427   Зима\n",
       "4 2020-02-02         571   Зима"
      ]
     },
     "execution_count": 42,
     "metadata": {
      "tags": []
     },
     "output_type": "execute_result"
    }
   ],
   "source": [
    "workouts_byweek_seasons.head()"
   ]
  },
  {
   "cell_type": "markdown",
   "metadata": {
    "id": "YLTheLASwp4O"
   },
   "source": [
    "Зададим цвет каждого сезона в виде словаря, где ключ — сезон, а значение — кодовая буква цвета.\n",
    "\n",
    "<img style='float:left' src=https://res.cloudinary.com/djcwxgbfz/image/upload/v1608375631/skills/color.jpg width=\"800\" >"
   ]
  },
  {
   "cell_type": "code",
   "execution_count": null,
   "metadata": {
    "id": "sULAYu5qwp4P"
   },
   "outputs": [],
   "source": [
    "colors_seasons = {'Зима':'b',\n",
    "                  'Осень':'r', \n",
    "                  'Лето':'g', \n",
    "                  'Весна':'y'} # зададим цвет для каждого сезона"
   ]
  },
  {
   "cell_type": "markdown",
   "metadata": {
    "id": "971lmuECwp4Q"
   },
   "source": [
    "Построим цветной scatter plot в котором цвет точки зависит от времени года.\n",
    "\n",
    "Для этого, как и впрошлый раз, передадим в функцию `scatter()` три аргумента:\n",
    "\n",
    "   1. Колонка для оси х\n",
    "   2. Колонка для оси y\n",
    "   3. `c =` применение функции `map()` к колонке с сезонами. В аргументе наш словарь с цветами сезонов.\n",
    "    \n",
    "! Если мы строим два графика в одной ячейке подряд — они наложатся друг на друга."
   ]
  },
  {
   "cell_type": "code",
   "execution_count": null,
   "metadata": {
    "id": "jkZY8ogNwp4R",
    "outputId": "7c719397-ed83-4448-986d-431a5db9f96b"
   },
   "outputs": [
    {
     "data": {
      "image/png": "[encoded data removed]",
      "text/plain": [
       "<Figure size 720x360 with 1 Axes>"
      ]
     },
     "metadata": {
      "needs_background": "light",
      "tags": []
     },
     "output_type": "display_data"
    }
   ],
   "source": [
    "plt.figure(figsize=(10, 5))  \n",
    "plt.title('Распределение количества тренировок по неделям') \n",
    "plt.xlabel('Дата') \n",
    "plt.ylabel('Количество тренировок') \n",
    "plt.grid() \n",
    "\n",
    "#передаем в функцию 2 аргумента, по оси X о дата, а по оси Y - количество тренировок \n",
    "plt.plot(workouts_byweek_seasons['start_at'],\n",
    "         workouts_byweek_seasons['workout_id'],\n",
    "         linewidth=1) #linewidth - это толщина линии \n",
    "\n",
    "#Используем заданные цвета для отрисовки точек на графике\n",
    "plt.scatter(\n",
    "    workouts_byweek_seasons.start_at, # ось OX \n",
    "    workouts_byweek_seasons.workout_id, # ось OY\n",
    "    c = workouts_byweek_seasons['season'].map(colors_seasons) # задаем цвета точек\n",
    ")\n",
    "\n",
    "\n",
    "plt.show()"
   ]
  },
  {
   "cell_type": "markdown",
   "metadata": {
    "id": "bCDvw2h2wp4S"
   },
   "source": [
    "Видно, что летом наблюдается спад количества тренировок. И при этом число тренировок растет на протяжении остальных трех сезонов."
   ]
  },
  {
   "cell_type": "markdown",
   "metadata": {
    "id": "YV7QZopfwp4S"
   },
   "source": [
    "### **Основные ошибки при построении Line chart**\n",
    "\n",
    "- Неправильный масштаб осей\n",
    "- Нечитабельный график из-за большого количества выбросов\n",
    "- Неправильная гранулярность — перебор информации на графике"
   ]
  },
  {
   "cell_type": "code",
   "execution_count": null,
   "metadata": {
    "id": "Rb3JbL3Owp4T",
    "outputId": "4bf7f13c-b607-4875-a551-efc253b41a28"
   },
   "outputs": [
    {
     "data": {
      "image/png": "[encoded data removed]",
      "text/plain": [
       "<Figure size 720x360 with 1 Axes>"
      ]
     },
     "metadata": {
      "needs_background": "light",
      "tags": []
     },
     "output_type": "display_data"
    }
   ],
   "source": [
    "workouts_bymin = workouts.resample('min', on='start_at').workout_id.count() \n",
    "plt.figure(figsize=(10, 5))  \n",
    "plt.plot(workouts_bymin)\n",
    "\n",
    "plt.show()"
   ]
  },
  {
   "cell_type": "markdown",
   "metadata": {
    "id": "-J0jcAaJwp4U"
   },
   "source": [
    "## Histogram\n",
    "\n",
    "<img style='float:left' src=https://chartio.com/assets/8609d7/tutorials/charts/histograms/64918b209c6e60b56bee9d8c7ba22dcd854370078e6b8377f272c85119080728/histogram-example-2.png >"
   ]
  },
  {
   "cell_type": "markdown",
   "metadata": {
    "id": "DkA6fWmqwp4U"
   },
   "source": [
    "**Гистограмма** — это столбчатая диаграмма, которая показывает частотность. Другими словами, гистограмма сразу сама делает `groupby()` с методом `count()`.\n",
    "\n",
    "- [x] Cравнение величин\n",
    "- [ ] Динамика во времени\n",
    "- [ ] Ранжирование величин\n",
    "- [ ] Часть от целого\n",
    "- [x] Отклонение\n",
    "- [x] Распределение\n",
    "- [x] Выбросы\n",
    "- [ ] Кореляция\n",
    "\n",
    "**Для чего используют гистограмму**\n",
    "\n",
    "- Выбрать среднее или медиану\n",
    "- Посмотреть на глаз моду — значение, которое встречается наиболее часто"
   ]
  },
  {
   "cell_type": "markdown",
   "metadata": {
    "id": "EWDqELr2wp4U"
   },
   "source": [
    "### Задача \n",
    "\n",
    "Мы составляем профили наших клиентов, чтобы скорректировать стратегию удержания. В рамках этой задачи хотим **посмотреть, как регулярно клиенты посещают тренировки** — есть ли какие-то паттерны. \n",
    "\n",
    "- Построим гистограмму, чтобы увидеть, как распределено среднее недельное количество тренировок на одного клиента. \n",
    "- Будем учитывать только те недели, в которые у клиентов есть тренировки — это нужно, чтобы исключить периоды их отпусков.\n"
   ]
  },
  {
   "cell_type": "markdown",
   "metadata": {
    "id": "0tXgg8uSwp4V"
   },
   "source": [
    "Подготовим данные:\n",
    "\n",
    "- Отбираем только успешные тренировки и не рассматриваем пробные\n",
    "- Считаем, сколько тренировок в каждую неделю проходит каждый клиент\n",
    "\n"
   ]
  },
  {
   "cell_type": "code",
   "execution_count": 1,
   "metadata": {
    "colab": {
     "base_uri": "https://localhost:8080/",
     "height": 204
    },
    "executionInfo": {
     "elapsed": 692,
     "status": "error",
     "timestamp": 1627906466088,
     "user": {
      "displayName": "Анастасия Дорожкина",
      "photoUrl": "",
      "userId": "13348537631633442101"
     },
     "user_tz": -180
    },
    "id": "DAmr69L2wp4V",
    "outputId": "b61986a2-fb11-41f2-e4a6-4aac11b4f44f"
   },
   "outputs": [
    {
     "ename": "NameError",
     "evalue": "ignored",
     "output_type": "error",
     "traceback": [
      "\u001b[0;31m---------------------------------------------------------------------------\u001b[0m",
      "\u001b[0;31mNameError\u001b[0m                                 Traceback (most recent call last)",
      "\u001b[0;32m<ipython-input-1-cb1d41ad48e9>\u001b[0m in \u001b[0;36m<module>\u001b[0;34m()\u001b[0m\n\u001b[1;32m      1\u001b[0m \u001b[0;31m# отбираем только интересующие нас тренировки\u001b[0m\u001b[0;34m\u001b[0m\u001b[0;34m\u001b[0m\u001b[0;34m\u001b[0m\u001b[0m\n\u001b[0;32m----> 2\u001b[0;31m client_week_workouts = workouts[(workouts.status=='success')&\n\u001b[0m\u001b[1;32m      3\u001b[0m                                 (workouts.workout_schedule_type!='trial')]\n",
      "\u001b[0;31mNameError\u001b[0m: name 'workouts' is not defined"
     ]
    }
   ],
   "source": [
    "# отбираем только интересующие нас тренировки\n",
    "client_week_workouts = workouts[(workouts.status=='success')&\n",
    "                                (workouts.workout_schedule_type!='trial')]"
   ]
  },
  {
   "cell_type": "markdown",
   "metadata": {
    "id": "j3xhExclwp4V"
   },
   "source": [
    "Для группировки по id и неделям заранее вытащим нужные данные"
   ]
  },
  {
   "cell_type": "code",
   "execution_count": null,
   "metadata": {
    "executionInfo": {
     "elapsed": 680,
     "status": "aborted",
     "timestamp": 1627906466080,
     "user": {
      "displayName": "Анастасия Дорожкина",
      "photoUrl": "",
      "userId": "13348537631633442101"
     },
     "user_tz": -180
    },
    "id": "Jo2QBuhRwp4V"
   },
   "outputs": [],
   "source": [
    "client_id = workouts['client_id']\n",
    "weeks = workouts['start_at'].dt.week\n",
    "\n",
    "client_week_workouts = client_week_workouts.groupby([client_id, weeks])['workout_id'].count().reset_index()"
   ]
  },
  {
   "cell_type": "markdown",
   "metadata": {
    "id": "RAVlwlUfwp4W"
   },
   "source": [
    "Считаем среднее количество тренировок в неделю с группировкой по клиентам"
   ]
  },
  {
   "cell_type": "code",
   "execution_count": null,
   "metadata": {
    "executionInfo": {
     "elapsed": 681,
     "status": "aborted",
     "timestamp": 1627906466082,
     "user": {
      "displayName": "Анастасия Дорожкина",
      "photoUrl": "",
      "userId": "13348537631633442101"
     },
     "user_tz": -180
    },
    "id": "yLLc8-ibwp4W"
   },
   "outputs": [],
   "source": [
    "avg_workouts_per_week = client_week_workouts.groupby('client_id')['workout_id'].mean()"
   ]
  },
  {
   "cell_type": "code",
   "execution_count": null,
   "metadata": {
    "executionInfo": {
     "elapsed": 682,
     "status": "aborted",
     "timestamp": 1627906466083,
     "user": {
      "displayName": "Анастасия Дорожкина",
      "photoUrl": "",
      "userId": "13348537631633442101"
     },
     "user_tz": -180
    },
    "id": "JtFCIvd_wp4X"
   },
   "outputs": [],
   "source": [
    "avg_workouts_per_week.head()"
   ]
  },
  {
   "cell_type": "markdown",
   "metadata": {
    "id": "V6GuCUeuwp4X"
   },
   "source": [
    "**Строим график**\n",
    "\n",
    "Построим гистограмму с помощью функции `hist()`, которая на вход принимает: \n",
    "\n",
    "   1. Столбец датафрейма/список/массив/серию\n",
    "   2. Количество __бинов__ (столбиков в гистограмме)"
   ]
  },
  {
   "cell_type": "code",
   "execution_count": null,
   "metadata": {
    "executionInfo": {
     "elapsed": 682,
     "status": "aborted",
     "timestamp": 1627906466084,
     "user": {
      "displayName": "Анастасия Дорожкина",
      "photoUrl": "",
      "userId": "13348537631633442101"
     },
     "user_tz": -180
    },
    "id": "SfBpsGCTwp4Y"
   },
   "outputs": [],
   "source": [
    "plt.figure(figsize=(10, 5)) # размерность\n",
    "plt.title('Распределение среднего недельного количества тренировок') \n",
    "plt.xlabel('Количество тренировок в неделю') \n",
    "plt.ylabel('Количество клиентов') \n",
    "plt.grid() # сетка\n",
    "#отрисовываем гистограмму\n",
    "plt.hist(avg_workouts_per_week, bins=50) #50 - количество бинов\n",
    "\n",
    "plt.show()"
   ]
  },
  {
   "cell_type": "markdown",
   "metadata": {
    "id": "UQYvy8uIwp4Z"
   },
   "source": [
    "Отрежем выбросы с помощью `xlim()`"
   ]
  },
  {
   "cell_type": "code",
   "execution_count": null,
   "metadata": {
    "executionInfo": {
     "elapsed": 683,
     "status": "aborted",
     "timestamp": 1627906466085,
     "user": {
      "displayName": "Анастасия Дорожкина",
      "photoUrl": "",
      "userId": "13348537631633442101"
     },
     "user_tz": -180
    },
    "id": "rcV9iJ3Wwp4Z"
   },
   "outputs": [],
   "source": [
    "plt.figure(figsize=(10, 5)) # размерность\n",
    "plt.title('Распределение среднего недельного количества тренировок') \n",
    "plt.xlabel('Количество тренировок в неделю') \n",
    "plt.ylabel('Количество клиентов')\n",
    "\n",
    "plt.xlim((1, 3)) \n",
    "\n",
    "plt.grid() # сетка\n",
    "#отрисовываем гистограмму\n",
    "plt.hist(avg_workouts_per_week, bins=50) #50 - количество бинов\n",
    "\n",
    "plt.show()"
   ]
  },
  {
   "cell_type": "markdown",
   "metadata": {
    "id": "MhVUicrHwp4Z"
   },
   "source": [
    "Мы можем сказать, что у нас есть 4 группы клиентов, которые ходят: \n",
    "\n",
    "1. На одну тренировку в неделю.\n",
    "2. Приблизительно на три тренировки в две недели.\n",
    "3. На две тренировки в неделю. \n",
    "4. На три и больше тренировки в неделю (маленькая группа)"
   ]
  },
  {
   "cell_type": "markdown",
   "metadata": {
    "id": "KElpgMTHwp4a"
   },
   "source": [
    "Чтобы посмотреть, насколько репрезентативны данные значения для нашего распределения, добавим на гистограмму линиями среднее значение и медиану:  \n",
    "\n",
    "   - `axvline()` строит вертикальные линии.\n",
    "   - `axhline()` строит горизонтальные линии. \n",
    "\n",
    "В аргументы передаем то, что хотим отобразить. В нашем случае:\n",
    "\n",
    "- среднее и медиану\n",
    "- стиль линии\n",
    "- цвет и толщину\n",
    "\n",
    "Для каждой линии отдельно вызываем функцию `axvline()`"
   ]
  },
  {
   "cell_type": "markdown",
   "metadata": {
    "id": "yDXzfttlwp4a"
   },
   "source": [
    "`linestyle` — это стиль линии, которую мы рисуем. В него можно передавать разные значения.\n",
    "\n",
    "Самые популярные:  \n",
    "\n",
    "\n",
    "<img style='float:left' src=https://res.cloudinary.com/djcwxgbfz/image/upload/v1608375631/skills/stroke.jpg width=\"600\">\n",
    "\n"
   ]
  },
  {
   "cell_type": "markdown",
   "metadata": {
    "id": "BGghrJPowp4a"
   },
   "source": [
    "Ограничим ось `x`, чтобы смотреть только на основные данные.\n",
    "\n",
    "И добавим подписи в легенду, для этого в функцию линии добавим аргумент `label = текст в формате строки`, и после введения лейблов добавим функцию `plt.legend()`\n"
   ]
  },
  {
   "cell_type": "code",
   "execution_count": null,
   "metadata": {
    "executionInfo": {
     "elapsed": 684,
     "status": "aborted",
     "timestamp": 1627906466086,
     "user": {
      "displayName": "Анастасия Дорожкина",
      "photoUrl": "",
      "userId": "13348537631633442101"
     },
     "user_tz": -180
    },
    "id": "X1IP7cxcwp4b",
    "scrolled": true
   },
   "outputs": [],
   "source": [
    "plt.figure(figsize=(10, 5))  # размерность\n",
    "plt.title('Распределение среднего недельного количества тренировок') # заголовок \n",
    "plt.xlabel('Количество тренировок в неделю') # ось X\n",
    "plt.ylabel('Количество клиентов') # ось Y\n",
    "plt.grid() # сетка\n",
    "\n",
    "plt.hist(avg_workouts_per_week, \n",
    "         bins=50) # гистограмма\n",
    "\n",
    "plt.xlim((1, 3)) \n",
    "\n",
    "#отрисовываем среднее пунктирной черной линией толщиной 2\n",
    "plt.axvline(avg_workouts_per_week.mean(), \n",
    "            color='k', \n",
    "            linestyle='--', \n",
    "            linewidth=2, \n",
    "            label = 'среднее')\n",
    "\n",
    "#отрисовываем медиану красной линией толщиной 2\n",
    "plt.axvline(avg_workouts_per_week.median(), \n",
    "            color='r', \n",
    "            linestyle='-', \n",
    "            linewidth=2, \n",
    "            label = 'медиана')\n",
    "plt.legend()\n",
    "plt.show() # вывели график"
   ]
  },
  {
   "cell_type": "markdown",
   "metadata": {
    "id": "QOEOKG55wp4b"
   },
   "source": [
    "### **Основные ошибки при построении гистограмм**\n",
    "\n",
    "- Неправильное количество бинов\n",
    "- Неправильный масштаб осей и графика \n",
    "- Наличие выбросов, которые ухудшают читаемость графика"
   ]
  },
  {
   "cell_type": "code",
   "execution_count": null,
   "metadata": {
    "id": "RliUqdv7wp4c",
    "outputId": "6b3f5c56-5695-44d5-e7b9-f4e9371d6d56"
   },
   "outputs": [
    {
     "data": {
      "image/png": "[encoded data removed]",
      "text/plain": [
       "<Figure size 432x288 with 1 Axes>"
      ]
     },
     "metadata": {
      "needs_background": "light",
      "tags": []
     },
     "output_type": "display_data"
    }
   ],
   "source": [
    "plt.hist(avg_workouts_per_week,\n",
    "         bins=1000)\n",
    "\n",
    "plt.show()"
   ]
  },
  {
   "cell_type": "markdown",
   "metadata": {
    "id": "-NVFWnTowp4c"
   },
   "source": [
    "## Seaborn \n",
    "\n",
    "Вторая по популярности библиотека Python для визуализации. В ней несколько графиков отображаются гораздо лучше, чем в Matplotlib."
   ]
  },
  {
   "cell_type": "code",
   "execution_count": null,
   "metadata": {
    "id": "CYfSU7wTwp4d"
   },
   "outputs": [],
   "source": [
    "import seaborn as sns # библиотека seaborn"
   ]
  },
  {
   "cell_type": "markdown",
   "metadata": {
    "id": "9Z3IJht8wp4d"
   },
   "source": [
    "## Box plot\n",
    "\n",
    "<img style='float:left' src=https://seaborn.pydata.org/_images/seaborn-boxplot-2.png >"
   ]
  },
  {
   "cell_type": "markdown",
   "metadata": {
    "id": "n2S-dQa0wp4d"
   },
   "source": [
    "**Box plot** — график, который еще называют «ящик с усами». Он помогает быстро изучить один или несколько наборов данных.\n",
    "\n",
    "**Квартиль и перцентиль** — понятия, которые еще будут встречаться. \n",
    "\n",
    "**Перцентиль** — это способ смотреть на данные в отношении ко всем другим значениям набора данных. Например, если мы хотим определить 10% самых активных покупателей за прошлый месяц, по сути, нам нужно увидеть всех покупателей выше границы в 90%. Это и будет 90% перцентиль. То есть квартили — это верхняя и нижняя четверть выборки 25% перцентиль и 75% перцентиль.\n",
    "\n",
    "\n",
    "<img style='float:left' src=https://res.cloudinary.com/djcwxgbfz/image/upload/v1608622016/skills/%D1%83%D1%81%D1%8B.png width=\"500\">"
   ]
  },
  {
   "cell_type": "markdown",
   "metadata": {
    "id": "aTTd7zjVwp4d"
   },
   "source": [
    "- [ ] Cравнение величин\n",
    "- [ ] Динамика во времени\n",
    "- [ ] Ранжирование величин\n",
    "- [ ] Часть от целого\n",
    "- [ ] Отклонение\n",
    "- [x] Распределение\n",
    "- [x] Выбросы\n",
    "- [ ] Кореляция"
   ]
  },
  {
   "cell_type": "markdown",
   "metadata": {
    "id": "FV4UJwDqwp4d"
   },
   "source": [
    "**Когда используют box plot**"
   ]
  },
  {
   "cell_type": "markdown",
   "metadata": {
    "id": "AbNPUyUIwp4d"
   },
   "source": [
    "- Боксплот подходит для оценки распределения по квантилям\n",
    "- Боксплот подходит для поиска и чистки выросов"
   ]
  },
  {
   "cell_type": "markdown",
   "metadata": {
    "id": "R6xEPv72wp4d"
   },
   "source": [
    "### Задача \n",
    "\n",
    "Часто аналитику нужно  понять, есть ли аномальные значения в его наборе данных. Например, это важно, когда мы хотим создать модель, прогнозирующую выручку или когда мы анализируем результаты А/Б теста.\n",
    "\n",
    "Мы уже видели, как выручка распределена по месяцам. Предположим, что мы хотим сделать модель, предсказывающую выручку в каждый день/неделю. Давайте посмотрим, бывают ли у нас аномальные дни/недели и постараемся понять, с чем это может быть связано. Возможно, эти дни/недели нужно исключить из анализа, как нерепрезентативные."
   ]
  },
  {
   "cell_type": "markdown",
   "metadata": {
    "id": "LYmT2v0Ewp4d"
   },
   "source": [
    "Считаем выручку по месяцам / неделям / дням:"
   ]
  },
  {
   "cell_type": "code",
   "execution_count": null,
   "metadata": {
    "id": "KThTOaVCwp4e"
   },
   "outputs": [],
   "source": [
    "revenue_per_month = payments.resample('M', on='payment_date')['amount'].sum() / 1_000_000 # в миллионах \n",
    "revenue_per_week = payments.resample('W', on='payment_date')['amount'].sum() / 1_000_000 # в миллионах\n",
    "revenue_per_day = payments.resample('D', on='payment_date')['amount'].sum() / 1_000 # в тысячах"
   ]
  },
  {
   "cell_type": "markdown",
   "metadata": {
    "id": "aQlwX5AUwp4e"
   },
   "source": [
    "Построим boxplot c с помощью функции `boxplot()` в библиотеке `seaborn`. \n",
    "\n",
    "Функция принимает на вход переменную, по которой будет построен график, и мы передадим цвет. "
   ]
  },
  {
   "cell_type": "code",
   "execution_count": null,
   "metadata": {
    "id": "-K79_02qwp4e",
    "outputId": "f1bff794-d4f5-4c8c-fd67-db64c37d0dc2"
   },
   "outputs": [
    {
     "data": {
      "image/png": "[encoded data removed]",
      "text/plain": [
       "<Figure size 720x360 with 1 Axes>"
      ]
     },
     "metadata": {
      "needs_background": "light",
      "tags": []
     },
     "output_type": "display_data"
    }
   ],
   "source": [
    "plt.figure(figsize=(10, 5))  # Зададим размер фигуры\n",
    "plt.title('Распределение выручки по дням') # Подпишем заголовок графика\n",
    "plt.grid() # сетка\n",
    "#отрисовываем ящик с усами\n",
    "sns.boxplot(x=revenue_per_day, \n",
    "            color='c')\n",
    "plt.xlabel('Выручка по дням (тыс.рублей)') # Подпишем ось X (в seaborn - после построения графика)\n",
    "plt.show()"
   ]
  },
  {
   "cell_type": "markdown",
   "metadata": {
    "id": "nXQJmAcYwp4f"
   },
   "source": [
    "Мы видим, что есть несколько дней с аномально высокой выручкой — более 600 тыс.рублей в то время, как в среднем в день мы получаем около 300 тыс.рублей. Посмотрим, какие это дни. Вероятно, мы проводили акции для наших клиентов — нужно уточнить у отдела продаж."
   ]
  },
  {
   "cell_type": "code",
   "execution_count": null,
   "metadata": {
    "id": "K1yH58blwp4g",
    "outputId": "f69dd587-876e-435a-c39e-bb8d4a3233bd"
   },
   "outputs": [
    {
     "data": {
      "text/plain": [
       "payment_date\n",
       "2020-06-15    631.207886\n",
       "2020-09-08    642.995576\n",
       "2020-10-01    654.472486\n",
       "Name: amount, dtype: float64"
      ]
     },
     "execution_count": 59,
     "metadata": {
      "tags": []
     },
     "output_type": "execute_result"
    }
   ],
   "source": [
    "revenue_per_day.loc[revenue_per_day>600]"
   ]
  },
  {
   "cell_type": "markdown",
   "metadata": {
    "id": "nH2z080Swp4h"
   },
   "source": [
    "### Задача\n",
    "\n",
    "Понять, как распределена выручка по неделям"
   ]
  },
  {
   "cell_type": "markdown",
   "metadata": {
    "id": "ZDXhVwUmwp4h"
   },
   "source": [
    "Строим график так же, как предыдущий: "
   ]
  },
  {
   "cell_type": "code",
   "execution_count": null,
   "metadata": {
    "id": "EbUgEGcSwp4i",
    "outputId": "db5b7c07-656d-46e1-e318-f0ac6092504c"
   },
   "outputs": [
    {
     "data": {
      "image/png": "[encoded data removed]",
      "text/plain": [
       "<Figure size 360x720 with 1 Axes>"
      ]
     },
     "metadata": {
      "needs_background": "light",
      "tags": []
     },
     "output_type": "display_data"
    }
   ],
   "source": [
    "plt.figure(figsize = (5, 10))  # Зададим размер фигуры\n",
    "plt.title('Распределение выручки по неделям') # Подпишем заголовок графика\n",
    "plt.grid() # Добавим сетку\n",
    "#отрисовываем ящик с усами\n",
    "sns.boxplot(y = revenue_per_week, \n",
    "            color='m')\n",
    "plt.ylabel('Выручка в неделю (млн.рублей)') # Подпишем ось Y\n",
    "plt.show()"
   ]
  },
  {
   "cell_type": "markdown",
   "metadata": {
    "id": "_SMms8hWwp4i"
   },
   "source": [
    "Мы видим несколько выбросов внизу — это значит, что есть  недели с аномально низкой выручкой, менее 1 млн.рублей. Давайте на них посмотрим:"
   ]
  },
  {
   "cell_type": "code",
   "execution_count": null,
   "metadata": {
    "id": "6RkgcR_nwp4j",
    "outputId": "e2ffc413-f0e7-481c-c413-7e351bd2d315"
   },
   "outputs": [
    {
     "data": {
      "text/plain": [
       "payment_date\n",
       "2020-01-05    0.200894\n",
       "2020-01-12    0.649160\n",
       "Freq: W-SUN, Name: amount, dtype: float64"
      ]
     },
     "execution_count": 61,
     "metadata": {
      "tags": []
     },
     "output_type": "execute_result"
    }
   ],
   "source": [
    "revenue_per_week.loc[revenue_per_week<1]"
   ]
  },
  {
   "cell_type": "markdown",
   "metadata": {
    "id": "bhQgtJ_ywp4j"
   },
   "source": [
    "Как и ожидалось, это январь — время праздников. Вероятно, неделя, в которую входит 01.01, тоже попала бы в число выбросов, но она не вошла в выборку, потому что начало этой недели нам недоступно."
   ]
  },
  {
   "cell_type": "markdown",
   "metadata": {
    "id": "s4ywVdmjwp4k"
   },
   "source": [
    "**Усложним анализ и посмотрим на выручку в день в каждом месяце.**"
   ]
  },
  {
   "cell_type": "code",
   "execution_count": null,
   "metadata": {
    "id": "dDzaMbMIwp4k"
   },
   "outputs": [],
   "source": [
    "revenue_byday_month = payments.groupby([payments['payment_date'].dt.day,\n",
    "                                        payments['payment_date'].dt.month])['amount'].sum()\n",
    "revenue_byday_month.index.names = ['day','month'] # группировка создает мультииндекс.\n"
   ]
  },
  {
   "cell_type": "markdown",
   "metadata": {
    "id": "p-OiuVS6wp4k"
   },
   "source": [
    "У индекса есть такой атрибут как `names`. Как и любой другой аттрибут его можно переопределить"
   ]
  },
  {
   "cell_type": "code",
   "execution_count": null,
   "metadata": {
    "id": "-moB-1cmwp4k",
    "outputId": "bab4588b-5406-4cb8-eb13-aac1e804fa48"
   },
   "outputs": [
    {
     "data": {
      "text/html": [
       "<div>\n",
       "<style scoped>\n",
       "    .dataframe tbody tr th:only-of-type {\n",
       "        vertical-align: middle;\n",
       "    }\n",
       "\n",
       "    .dataframe tbody tr th {\n",
       "        vertical-align: top;\n",
       "    }\n",
       "\n",
       "    .dataframe thead th {\n",
       "        text-align: right;\n",
       "    }\n",
       "</style>\n",
       "<table border=\"1\" class=\"dataframe\">\n",
       "  <thead>\n",
       "    <tr style=\"text-align: right;\">\n",
       "      <th></th>\n",
       "      <th>day</th>\n",
       "      <th>month</th>\n",
       "      <th>amount</th>\n",
       "    </tr>\n",
       "  </thead>\n",
       "  <tbody>\n",
       "    <tr>\n",
       "      <th>0</th>\n",
       "      <td>1</td>\n",
       "      <td>2</td>\n",
       "      <td>178773.732704</td>\n",
       "    </tr>\n",
       "    <tr>\n",
       "      <th>1</th>\n",
       "      <td>1</td>\n",
       "      <td>3</td>\n",
       "      <td>163031.504867</td>\n",
       "    </tr>\n",
       "    <tr>\n",
       "      <th>2</th>\n",
       "      <td>1</td>\n",
       "      <td>4</td>\n",
       "      <td>426633.406696</td>\n",
       "    </tr>\n",
       "    <tr>\n",
       "      <th>3</th>\n",
       "      <td>1</td>\n",
       "      <td>5</td>\n",
       "      <td>335634.608333</td>\n",
       "    </tr>\n",
       "    <tr>\n",
       "      <th>4</th>\n",
       "      <td>1</td>\n",
       "      <td>6</td>\n",
       "      <td>486702.074736</td>\n",
       "    </tr>\n",
       "  </tbody>\n",
       "</table>\n",
       "</div>"
      ],
      "text/plain": [
       "   day  month         amount\n",
       "0    1      2  178773.732704\n",
       "1    1      3  163031.504867\n",
       "2    1      4  426633.406696\n",
       "3    1      5  335634.608333\n",
       "4    1      6  486702.074736"
      ]
     },
     "execution_count": 63,
     "metadata": {
      "tags": []
     },
     "output_type": "execute_result"
    }
   ],
   "source": [
    "revenue_byday_month = revenue_byday_month.reset_index() \n",
    "revenue_byday_month.head()"
   ]
  },
  {
   "cell_type": "markdown",
   "metadata": {
    "id": "qc4CBmpswp4l"
   },
   "source": [
    "В аргументы нам нужно передать не один столбец, а три. А еще обозначить: что будет по шкале `x`, что по `y`, а что — значением на пересечении.\n",
    "\n",
    "- `x` — месяц\n",
    "\n",
    "- `y` — выручка\n",
    "- значения — ежедневная выручка за каждый месяц\n"
   ]
  },
  {
   "cell_type": "code",
   "execution_count": null,
   "metadata": {
    "id": "Pvc4K1lgwp4l",
    "outputId": "9cfde5d0-46a6-47c2-d2a1-ec383a2a93e9"
   },
   "outputs": [
    {
     "data": {
      "image/png": "[encoded data removed]",
      "text/plain": [
       "<Figure size 720x360 with 1 Axes>"
      ]
     },
     "metadata": {
      "needs_background": "light",
      "tags": []
     },
     "output_type": "display_data"
    }
   ],
   "source": [
    "plt.figure(figsize=(10, 5))  # Зададим размер фигуры\n",
    "plt.title('Распределение количества тренировок по неделям') # Подпишем заголовок графика\n",
    "plt.grid() # Добавим сетку\n",
    "#отрисовываем график\n",
    "sns.boxplot(x='month',\n",
    "            y='amount',\n",
    "            data=revenue_byday_month, \n",
    "            color='y')\n",
    "plt.ylabel('Выручка в день') # Подпишем ось Y\n",
    "plt.xlabel('Месяц') # Подпишем ось Y\n",
    "plt.show()"
   ]
  },
  {
   "cell_type": "markdown",
   "metadata": {
    "id": "KHipNDRTwp4l"
   },
   "source": [
    "Мы видим, что в отдельные месяцы тоже есть дни, которые ведут себя сильно лучше или хуже остальных. Возможно, такие дни стоит исключить из анализа выручки или обучающих данных для моделей, предсказывающих выручку."
   ]
  },
  {
   "cell_type": "markdown",
   "metadata": {
    "id": "miq2ZTsLwp4m"
   },
   "source": [
    "### Heatmap \n",
    "\n",
    "__Heatmap__ — тепловая карта представления данных, когда каждая ячейка двухмерной таблицы отображается при помощи цвета. \n",
    "\n",
    "- [ ] Cравнение величин\n",
    "- [ ] Динамика во времени\n",
    "- [ ] Ранжирование величин\n",
    "- [ ] Часть от целого\n",
    "- [x] Отклонение\n",
    "- [ ] Распределение\n",
    "- [x] Выбросы\n",
    "- [x] Кореляция\n",
    "\n",
    "**Для чего используют**\n",
    "\n",
    "Чаще всего хитмап нужен, чтобы найти перегруженные и недогруженные слоты по времени"
   ]
  },
  {
   "cell_type": "markdown",
   "metadata": {
    "id": "nCJpPz6ewp4m"
   },
   "source": [
    "### Задача \n",
    "\n",
    "Определить самые загруженные часы в течении недели\n",
    "\n",
    "Мы должны передать функции:\n",
    "\n",
    "1. По шкале `X` — часы\n",
    "\n",
    "2. По шкале `Y` — дни недели\n",
    "\n",
    "В датасете `workouts` введем две новые колонки: `hour` — час и `day_number` — номер дня в неделе"
   ]
  },
  {
   "cell_type": "code",
   "execution_count": null,
   "metadata": {
    "id": "ZRS2ls-Gwp4m"
   },
   "outputs": [],
   "source": [
    "workouts['hour'] =  workouts['start_at'].dt.hour\n",
    "workouts['dayofweek'] = workouts['start_at'].dt.dayofweek"
   ]
  },
  {
   "cell_type": "markdown",
   "metadata": {
    "id": "bID0pb6Vwp4m"
   },
   "source": [
    "Сгруппируем датасорс по часу и дню недели и посчитаем количество тренировок. "
   ]
  },
  {
   "cell_type": "code",
   "execution_count": null,
   "metadata": {
    "id": "_XP9F6mAwp4n"
   },
   "outputs": [],
   "source": [
    "workouts_hourday = workouts.groupby(['hour', 'dayofweek']).workout_id.count()\n",
    "\n",
    "workouts_hourday = workouts_hourday.reset_index() # убираем колонки группировки из индекса"
   ]
  },
  {
   "cell_type": "markdown",
   "metadata": {
    "id": "VtSxahUfwp4n"
   },
   "source": [
    "Посмотрим на таблицу:"
   ]
  },
  {
   "cell_type": "code",
   "execution_count": null,
   "metadata": {
    "id": "GyW0fR0Owp4n",
    "outputId": "4e6b059f-d201-41d8-dc6e-6ebf42c83f15"
   },
   "outputs": [
    {
     "data": {
      "text/html": [
       "<div>\n",
       "<style scoped>\n",
       "    .dataframe tbody tr th:only-of-type {\n",
       "        vertical-align: middle;\n",
       "    }\n",
       "\n",
       "    .dataframe tbody tr th {\n",
       "        vertical-align: top;\n",
       "    }\n",
       "\n",
       "    .dataframe thead th {\n",
       "        text-align: right;\n",
       "    }\n",
       "</style>\n",
       "<table border=\"1\" class=\"dataframe\">\n",
       "  <thead>\n",
       "    <tr style=\"text-align: right;\">\n",
       "      <th></th>\n",
       "      <th>hour</th>\n",
       "      <th>dayofweek</th>\n",
       "      <th>workout_id</th>\n",
       "    </tr>\n",
       "  </thead>\n",
       "  <tbody>\n",
       "    <tr>\n",
       "      <th>0</th>\n",
       "      <td>0</td>\n",
       "      <td>0</td>\n",
       "      <td>1</td>\n",
       "    </tr>\n",
       "    <tr>\n",
       "      <th>1</th>\n",
       "      <td>0</td>\n",
       "      <td>1</td>\n",
       "      <td>8</td>\n",
       "    </tr>\n",
       "    <tr>\n",
       "      <th>2</th>\n",
       "      <td>0</td>\n",
       "      <td>2</td>\n",
       "      <td>12</td>\n",
       "    </tr>\n",
       "    <tr>\n",
       "      <th>3</th>\n",
       "      <td>0</td>\n",
       "      <td>3</td>\n",
       "      <td>2</td>\n",
       "    </tr>\n",
       "    <tr>\n",
       "      <th>4</th>\n",
       "      <td>0</td>\n",
       "      <td>4</td>\n",
       "      <td>5</td>\n",
       "    </tr>\n",
       "  </tbody>\n",
       "</table>\n",
       "</div>"
      ],
      "text/plain": [
       "   hour  dayofweek  workout_id\n",
       "0     0          0           1\n",
       "1     0          1           8\n",
       "2     0          2          12\n",
       "3     0          3           2\n",
       "4     0          4           5"
      ]
     },
     "execution_count": 86,
     "metadata": {
      "tags": []
     },
     "output_type": "execute_result"
    }
   ],
   "source": [
    "workouts_hourday.head()"
   ]
  },
  {
   "cell_type": "markdown",
   "metadata": {
    "id": "5WZDBRRNwp4o"
   },
   "source": [
    "Чтобы мы могли использовать таблицу в функции для построения тепловой карты heatmap, нам нужно поместить либо дни недели, либо месяцы в колонки таблицы.\n",
    "\n",
    "Это можно сделать с помощью функции `pivot()` — она позволяет собрать из таблицы сводную таблицу или **матрицу**\n",
    "\n",
    "`pivot()` принимает в качестве аргументов: \n",
    "\n",
    "1. `index` — колонку для строк таблицы.\n",
    "\n",
    "2. `columns` — колонку для столбцов.\n",
    "3. `values` — значения таблицы. \n",
    "\n",
    "Мы передадим: \n",
    "\n",
    "1. `index` — dayofweek.\n",
    "\n",
    "2. `columns` — hour.\n",
    "3. `values` — workout_id. "
   ]
  },
  {
   "cell_type": "code",
   "execution_count": null,
   "metadata": {
    "id": "lc8e9IhRwp4o"
   },
   "outputs": [],
   "source": [
    "heat_weekdhour = workouts_hourday.pivot(index=\"dayofweek\", \n",
    "                                        columns=\"hour\", \n",
    "                                        values=\"workout_id\")"
   ]
  },
  {
   "cell_type": "markdown",
   "metadata": {
    "id": "KrAzfwC5wp4o"
   },
   "source": [
    "Заменим пустые значения на нолики с помощью метода `fillna`, который заменяет пустые значения на любые, которые вы укажете"
   ]
  },
  {
   "cell_type": "code",
   "execution_count": null,
   "metadata": {
    "id": "eRGH89oSwp4p"
   },
   "outputs": [],
   "source": [
    "heat_weekdhour.fillna(0, inplace=True)"
   ]
  },
  {
   "cell_type": "code",
   "execution_count": null,
   "metadata": {
    "id": "CfJB8On4wp4p",
    "outputId": "1670ac7e-d7e1-4570-a35c-a401e3a4455a"
   },
   "outputs": [
    {
     "data": {
      "text/html": [
       "<div>\n",
       "<style scoped>\n",
       "    .dataframe tbody tr th:only-of-type {\n",
       "        vertical-align: middle;\n",
       "    }\n",
       "\n",
       "    .dataframe tbody tr th {\n",
       "        vertical-align: top;\n",
       "    }\n",
       "\n",
       "    .dataframe thead th {\n",
       "        text-align: right;\n",
       "    }\n",
       "</style>\n",
       "<table border=\"1\" class=\"dataframe\">\n",
       "  <thead>\n",
       "    <tr style=\"text-align: right;\">\n",
       "      <th>hour</th>\n",
       "      <th>0</th>\n",
       "      <th>1</th>\n",
       "      <th>2</th>\n",
       "      <th>3</th>\n",
       "      <th>4</th>\n",
       "      <th>5</th>\n",
       "      <th>6</th>\n",
       "      <th>7</th>\n",
       "      <th>8</th>\n",
       "      <th>9</th>\n",
       "      <th>...</th>\n",
       "      <th>14</th>\n",
       "      <th>15</th>\n",
       "      <th>16</th>\n",
       "      <th>17</th>\n",
       "      <th>18</th>\n",
       "      <th>19</th>\n",
       "      <th>20</th>\n",
       "      <th>21</th>\n",
       "      <th>22</th>\n",
       "      <th>23</th>\n",
       "    </tr>\n",
       "    <tr>\n",
       "      <th>dayofweek</th>\n",
       "      <th></th>\n",
       "      <th></th>\n",
       "      <th></th>\n",
       "      <th></th>\n",
       "      <th></th>\n",
       "      <th></th>\n",
       "      <th></th>\n",
       "      <th></th>\n",
       "      <th></th>\n",
       "      <th></th>\n",
       "      <th></th>\n",
       "      <th></th>\n",
       "      <th></th>\n",
       "      <th></th>\n",
       "      <th></th>\n",
       "      <th></th>\n",
       "      <th></th>\n",
       "      <th></th>\n",
       "      <th></th>\n",
       "      <th></th>\n",
       "      <th></th>\n",
       "    </tr>\n",
       "  </thead>\n",
       "  <tbody>\n",
       "    <tr>\n",
       "      <th>0</th>\n",
       "      <td>1.0</td>\n",
       "      <td>3.0</td>\n",
       "      <td>1.0</td>\n",
       "      <td>0.0</td>\n",
       "      <td>17.0</td>\n",
       "      <td>26.0</td>\n",
       "      <td>142.0</td>\n",
       "      <td>369.0</td>\n",
       "      <td>602.0</td>\n",
       "      <td>1281.0</td>\n",
       "      <td>...</td>\n",
       "      <td>746.0</td>\n",
       "      <td>808.0</td>\n",
       "      <td>980.0</td>\n",
       "      <td>1187.0</td>\n",
       "      <td>1652.0</td>\n",
       "      <td>1961.0</td>\n",
       "      <td>1586.0</td>\n",
       "      <td>1199.0</td>\n",
       "      <td>391.0</td>\n",
       "      <td>77.0</td>\n",
       "    </tr>\n",
       "    <tr>\n",
       "      <th>1</th>\n",
       "      <td>8.0</td>\n",
       "      <td>8.0</td>\n",
       "      <td>19.0</td>\n",
       "      <td>9.0</td>\n",
       "      <td>2.0</td>\n",
       "      <td>38.0</td>\n",
       "      <td>132.0</td>\n",
       "      <td>278.0</td>\n",
       "      <td>493.0</td>\n",
       "      <td>1075.0</td>\n",
       "      <td>...</td>\n",
       "      <td>723.0</td>\n",
       "      <td>639.0</td>\n",
       "      <td>898.0</td>\n",
       "      <td>1238.0</td>\n",
       "      <td>1324.0</td>\n",
       "      <td>1956.0</td>\n",
       "      <td>1715.0</td>\n",
       "      <td>1323.0</td>\n",
       "      <td>544.0</td>\n",
       "      <td>74.0</td>\n",
       "    </tr>\n",
       "    <tr>\n",
       "      <th>2</th>\n",
       "      <td>12.0</td>\n",
       "      <td>2.0</td>\n",
       "      <td>2.0</td>\n",
       "      <td>0.0</td>\n",
       "      <td>4.0</td>\n",
       "      <td>15.0</td>\n",
       "      <td>108.0</td>\n",
       "      <td>261.0</td>\n",
       "      <td>639.0</td>\n",
       "      <td>1059.0</td>\n",
       "      <td>...</td>\n",
       "      <td>701.0</td>\n",
       "      <td>700.0</td>\n",
       "      <td>801.0</td>\n",
       "      <td>1226.0</td>\n",
       "      <td>1519.0</td>\n",
       "      <td>1799.0</td>\n",
       "      <td>1480.0</td>\n",
       "      <td>1019.0</td>\n",
       "      <td>360.0</td>\n",
       "      <td>60.0</td>\n",
       "    </tr>\n",
       "    <tr>\n",
       "      <th>3</th>\n",
       "      <td>2.0</td>\n",
       "      <td>1.0</td>\n",
       "      <td>1.0</td>\n",
       "      <td>3.0</td>\n",
       "      <td>14.0</td>\n",
       "      <td>18.0</td>\n",
       "      <td>138.0</td>\n",
       "      <td>189.0</td>\n",
       "      <td>505.0</td>\n",
       "      <td>1271.0</td>\n",
       "      <td>...</td>\n",
       "      <td>722.0</td>\n",
       "      <td>802.0</td>\n",
       "      <td>809.0</td>\n",
       "      <td>1185.0</td>\n",
       "      <td>1592.0</td>\n",
       "      <td>2188.0</td>\n",
       "      <td>1719.0</td>\n",
       "      <td>1101.0</td>\n",
       "      <td>499.0</td>\n",
       "      <td>141.0</td>\n",
       "    </tr>\n",
       "    <tr>\n",
       "      <th>4</th>\n",
       "      <td>5.0</td>\n",
       "      <td>7.0</td>\n",
       "      <td>18.0</td>\n",
       "      <td>0.0</td>\n",
       "      <td>1.0</td>\n",
       "      <td>30.0</td>\n",
       "      <td>120.0</td>\n",
       "      <td>260.0</td>\n",
       "      <td>647.0</td>\n",
       "      <td>1228.0</td>\n",
       "      <td>...</td>\n",
       "      <td>855.0</td>\n",
       "      <td>817.0</td>\n",
       "      <td>884.0</td>\n",
       "      <td>1100.0</td>\n",
       "      <td>1100.0</td>\n",
       "      <td>1221.0</td>\n",
       "      <td>963.0</td>\n",
       "      <td>743.0</td>\n",
       "      <td>220.0</td>\n",
       "      <td>21.0</td>\n",
       "    </tr>\n",
       "    <tr>\n",
       "      <th>5</th>\n",
       "      <td>7.0</td>\n",
       "      <td>6.0</td>\n",
       "      <td>2.0</td>\n",
       "      <td>0.0</td>\n",
       "      <td>3.0</td>\n",
       "      <td>11.0</td>\n",
       "      <td>45.0</td>\n",
       "      <td>136.0</td>\n",
       "      <td>345.0</td>\n",
       "      <td>821.0</td>\n",
       "      <td>...</td>\n",
       "      <td>847.0</td>\n",
       "      <td>618.0</td>\n",
       "      <td>600.0</td>\n",
       "      <td>532.0</td>\n",
       "      <td>419.0</td>\n",
       "      <td>386.0</td>\n",
       "      <td>384.0</td>\n",
       "      <td>251.0</td>\n",
       "      <td>92.0</td>\n",
       "      <td>21.0</td>\n",
       "    </tr>\n",
       "    <tr>\n",
       "      <th>6</th>\n",
       "      <td>7.0</td>\n",
       "      <td>8.0</td>\n",
       "      <td>1.0</td>\n",
       "      <td>2.0</td>\n",
       "      <td>1.0</td>\n",
       "      <td>5.0</td>\n",
       "      <td>15.0</td>\n",
       "      <td>59.0</td>\n",
       "      <td>226.0</td>\n",
       "      <td>639.0</td>\n",
       "      <td>...</td>\n",
       "      <td>777.0</td>\n",
       "      <td>609.0</td>\n",
       "      <td>432.0</td>\n",
       "      <td>472.0</td>\n",
       "      <td>382.0</td>\n",
       "      <td>563.0</td>\n",
       "      <td>433.0</td>\n",
       "      <td>430.0</td>\n",
       "      <td>115.0</td>\n",
       "      <td>13.0</td>\n",
       "    </tr>\n",
       "  </tbody>\n",
       "</table>\n",
       "<p>7 rows × 24 columns</p>\n",
       "</div>"
      ],
      "text/plain": [
       "hour         0    1     2    3     4     5      6      7      8       9   ...  \\\n",
       "dayofweek                                                                 ...   \n",
       "0           1.0  3.0   1.0  0.0  17.0  26.0  142.0  369.0  602.0  1281.0  ...   \n",
       "1           8.0  8.0  19.0  9.0   2.0  38.0  132.0  278.0  493.0  1075.0  ...   \n",
       "2          12.0  2.0   2.0  0.0   4.0  15.0  108.0  261.0  639.0  1059.0  ...   \n",
       "3           2.0  1.0   1.0  3.0  14.0  18.0  138.0  189.0  505.0  1271.0  ...   \n",
       "4           5.0  7.0  18.0  0.0   1.0  30.0  120.0  260.0  647.0  1228.0  ...   \n",
       "5           7.0  6.0   2.0  0.0   3.0  11.0   45.0  136.0  345.0   821.0  ...   \n",
       "6           7.0  8.0   1.0  2.0   1.0   5.0   15.0   59.0  226.0   639.0  ...   \n",
       "\n",
       "hour          14     15     16      17      18      19      20      21     22  \\\n",
       "dayofweek                                                                       \n",
       "0          746.0  808.0  980.0  1187.0  1652.0  1961.0  1586.0  1199.0  391.0   \n",
       "1          723.0  639.0  898.0  1238.0  1324.0  1956.0  1715.0  1323.0  544.0   \n",
       "2          701.0  700.0  801.0  1226.0  1519.0  1799.0  1480.0  1019.0  360.0   \n",
       "3          722.0  802.0  809.0  1185.0  1592.0  2188.0  1719.0  1101.0  499.0   \n",
       "4          855.0  817.0  884.0  1100.0  1100.0  1221.0   963.0   743.0  220.0   \n",
       "5          847.0  618.0  600.0   532.0   419.0   386.0   384.0   251.0   92.0   \n",
       "6          777.0  609.0  432.0   472.0   382.0   563.0   433.0   430.0  115.0   \n",
       "\n",
       "hour          23  \n",
       "dayofweek         \n",
       "0           77.0  \n",
       "1           74.0  \n",
       "2           60.0  \n",
       "3          141.0  \n",
       "4           21.0  \n",
       "5           21.0  \n",
       "6           13.0  \n",
       "\n",
       "[7 rows x 24 columns]"
      ]
     },
     "execution_count": 90,
     "metadata": {
      "tags": []
     },
     "output_type": "execute_result"
    }
   ],
   "source": [
    "heat_weekdhour # посмотрим что получилось"
   ]
  },
  {
   "cell_type": "markdown",
   "metadata": {
    "id": "31lqZs_zwp4p"
   },
   "source": [
    "Получась сводная таблица, где в качестве индекса указан порядковый номер дня недели.\n",
    "Чтобы просматривать данные было удобнее, давайте переопределим индекс и запишем в него названия дней недели."
   ]
  },
  {
   "cell_type": "code",
   "execution_count": null,
   "metadata": {
    "id": "d0qhoknqwp4q"
   },
   "outputs": [],
   "source": [
    "heat_weekdhour.index = [\n",
    "    'Понедельник',\n",
    "    'Вторник',\n",
    "    'Среда',\n",
    "    'Четверг',\n",
    "    'Пятница',\n",
    "    'Суббота',\n",
    "    'Воскресение']"
   ]
  },
  {
   "cell_type": "markdown",
   "metadata": {
    "id": "ldXRKCyfwp4t"
   },
   "source": [
    "Функция `sns.heatmap()` принимает разные аргументы — передадим 4:\n",
    "\n",
    "1. сводная таблица — `heat_weekdhour`\n",
    "\n",
    "2. `annot = True` — если `False`, то будет хитмап без значений, только цвета\n",
    "3. `cmap = \"YlGnBu\"` — это наборы цветов: они есть в словарике цветов для хитмапов\n",
    "4. `fmt = 'g'` — формат цифр без дробной части"
   ]
  },
  {
   "cell_type": "code",
   "execution_count": null,
   "metadata": {
    "id": "oPsjga0Nwp4t",
    "outputId": "0d952905-c00e-4e74-ea33-90d280fb11eb"
   },
   "outputs": [
    {
     "data": {
      "image/png": "[encoded data removed]",
      "text/plain": [
       "<Figure size 1440x576 with 2 Axes>"
      ]
     },
     "metadata": {
      "needs_background": "light",
      "tags": []
     },
     "output_type": "display_data"
    }
   ],
   "source": [
    "plt.figure(figsize=(20,8))\n",
    "sns.heatmap(heat_weekdhour, \n",
    "            annot=True, \n",
    "            cmap=\"YlGnBu\", \n",
    "            fmt='g')\n",
    "plt.title(\"Нагрузка по часам и дням недели\")\n",
    "plt.ylabel(\"День недели\")\n",
    "plt.xlabel(\"Час\")\n",
    "plt.show()"
   ]
  },
  {
   "cell_type": "markdown",
   "metadata": {
    "id": "G5L0wXLKwp4u"
   },
   "source": [
    "### Построение графиков в цикле for"
   ]
  },
  {
   "cell_type": "markdown",
   "metadata": {
    "id": "xXdvCmSwwp4u"
   },
   "source": [
    "Можно выводить несколько графиков в одном, но когда порядок значений разный, проще отрисовать несколько отдельных графиков. \n",
    "\n",
    "### Задача\n",
    "\n",
    "Давайте построим в одной ячейке графики недельной динамики по каждому типу тренировок.\n",
    "\n",
    "Так как мы работаем с Python, мы можем сделать это в цикле.\n",
    "\n",
    "Вспомним, что функция приведения ко множеству `set()` помогает нам быстро находить уникальные значения."
   ]
  },
  {
   "cell_type": "code",
   "execution_count": null,
   "metadata": {
    "id": "0kVVrjAiwp4u"
   },
   "outputs": [],
   "source": [
    "unique_workout_type = set(workouts['workout_type'])"
   ]
  },
  {
   "cell_type": "code",
   "execution_count": null,
   "metadata": {
    "id": "pnbdCVTAwp4u",
    "outputId": "da9f1342-efb3-4a33-bb68-74dd788f5f3f"
   },
   "outputs": [
    {
     "data": {
      "image/png": "[encoded data removed]",
      "text/plain": [
       "<Figure size 1080x216 with 1 Axes>"
      ]
     },
     "metadata": {
      "needs_background": "light",
      "tags": []
     },
     "output_type": "display_data"
    },
    {
     "data": {
      "image/png": "[encoded data removed]",
      "text/plain": [
       "<Figure size 1080x216 with 1 Axes>"
      ]
     },
     "metadata": {
      "needs_background": "light",
      "tags": []
     },
     "output_type": "display_data"
    },
    {
     "data": {
      "image/png": "[encoded data removed]",
      "text/plain": [
       "<Figure size 1080x216 with 1 Axes>"
      ]
     },
     "metadata": {
      "needs_background": "light",
      "tags": []
     },
     "output_type": "display_data"
    }
   ],
   "source": [
    "for workout_type in unique_workout_type:\n",
    "    to_plot = workouts.loc[workouts['workout_type'] == workout_type]\n",
    "    to_plot = to_plot.resample('W', on='start_at').workout_id.count()\n",
    "    plt.figure(figsize=(15,3))\n",
    "    plt.plot(to_plot, linewidth=2)\n",
    "    plt.grid()\n",
    "    plt.title(\"Число тренировок типа {} по неделям\".format(workout_type))\n",
    "    plt.xlabel(\"Количество проведенных тренировок\")\n",
    "    plt.show()"
   ]
  },
  {
   "cell_type": "markdown",
   "metadata": {
    "id": "qxd6QMFwwp4v"
   },
   "source": [
    "### Как сохранять графики\n",
    "\n",
    "Наши графики выводятся обычными картинками: кликаем правой кнопкой мыши и выбираем «Сохранить изображение»."
   ]
  },
  {
   "cell_type": "markdown",
   "metadata": {
    "id": "JEOdZgq5wp4w"
   },
   "source": [
    "<body>\n",
    "  <div\n",
    "    style=\"\n",
    "      padding-top: 298px;\n",
    "      padding-bottom: 298px;\n",
    "      background-color: black;\n",
    "      border-radius: 24px;\n",
    "    \"\n",
    "  >\n",
    "    <div style=\"text-align: center\">\n",
    "      <div\n",
    "        style=\"\n",
    "          font-size: 72px;\n",
    "          line-height: 80px;\n",
    "          font-family: Arial;\n",
    "          color: white;\n",
    "        \"\n",
    "      >\n",
    "        Спасибо за внимание\n",
    "      </div>\n",
    "    </div>\n",
    "  </div>\n",
    "</body>\n"
   ]
  }
 ],
 "metadata": {
  "colab": {
   "name": "Python_3.1_lesson.ipynb",
   "provenance": []
  },
  "kernelspec": {
   "display_name": "Python 3 (ipykernel)",
   "language": "python",
   "name": "python3"
  },
  "language_info": {
   "codemirror_mode": {
    "name": "ipython",
    "version": 3
   },
   "file_extension": ".py",
   "mimetype": "text/x-python",
   "name": "python",
   "nbconvert_exporter": "python",
   "pygments_lexer": "ipython3",
   "version": "3.9.7"
  }
 },
 "nbformat": 4,
 "nbformat_minor": 1
}
