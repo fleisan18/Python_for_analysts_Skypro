{
 "cells": [
  {
   "cell_type": "markdown",
   "metadata": {
    "id": "6ucFsBz_2a4G"
   },
   "source": [
    "# Домашнее задание 3.1\n"
   ]
  },
  {
   "cell_type": "markdown",
   "metadata": {
    "id": "hHMIThkJ2a4K"
   },
   "source": [
    "# 🏃‍♂️🤸‍♂️🏋️‍♀️ \n",
    "Ты все еще в команде популярной сети фитнес-клубов. Мы ищем точки роста на следующий год и хотим исследовать две темы: \n",
    "\n",
    "1. **Тренировки**: как они распределяются во времени и по тренерам, как обстоят дела в разных клубах.\n",
    "2. **Клиентов**: как их можно сегментировать, какие у них привычки.\n",
    "\n",
    "В следующих 6 заданиях ты построишь графики — они помогут сформулировать новые гипотезы для роста нашей сети фитнес-клубов в следующем году.\n",
    "\n",
    "В заданиях ставляй свои комментарии о том, какие закономерности видишь на графиках. \n",
    "\n",
    "Для начала подключись ко всем нужным библиотекам и данным. Проверь, что данные лежат в той же папке, что этот ноутбук."
   ]
  },
  {
   "cell_type": "code",
   "execution_count": 1,
   "metadata": {
    "id": "zGzbjE0B2a4L"
   },
   "outputs": [],
   "source": [
    "import pandas as pd\n",
    "from matplotlib import pyplot as plt\n",
    "import seaborn as sns"
   ]
  },
  {
   "cell_type": "code",
   "execution_count": 2,
   "metadata": {
    "id": "81m6roIF2a4M"
   },
   "outputs": [],
   "source": [
    "# загружаем данные\n",
    "\n",
    "workouts = pd.read_csv('workouts.csv', parse_dates=['start_at'])\n",
    "users = pd.read_excel('users.xlsx')\n",
    "\n",
    "# сразу создадим новый датафрейм, в котором соединены уроки и пользователи\n",
    "\n",
    "workouts_users =  pd.merge(workouts, users, \n",
    "                     how='left',\n",
    "                     left_on='client_id', right_on='user_id')"
   ]
  },
  {
   "cell_type": "code",
   "execution_count": 3,
   "metadata": {},
   "outputs": [
    {
     "data": {
      "text/html": [
       "<div>\n",
       "<style scoped>\n",
       "    .dataframe tbody tr th:only-of-type {\n",
       "        vertical-align: middle;\n",
       "    }\n",
       "\n",
       "    .dataframe tbody tr th {\n",
       "        vertical-align: top;\n",
       "    }\n",
       "\n",
       "    .dataframe thead th {\n",
       "        text-align: right;\n",
       "    }\n",
       "</style>\n",
       "<table border=\"1\" class=\"dataframe\">\n",
       "  <thead>\n",
       "    <tr style=\"text-align: right;\">\n",
       "      <th></th>\n",
       "      <th>workout_id</th>\n",
       "      <th>cost</th>\n",
       "      <th>start_at</th>\n",
       "      <th>status</th>\n",
       "      <th>workout_schedule_type</th>\n",
       "      <th>client_id</th>\n",
       "      <th>client_status</th>\n",
       "      <th>workout_type</th>\n",
       "      <th>trainer_department</th>\n",
       "      <th>trainer_id</th>\n",
       "    </tr>\n",
       "  </thead>\n",
       "  <tbody>\n",
       "    <tr>\n",
       "      <th>0</th>\n",
       "      <td>30793909</td>\n",
       "      <td>NaN</td>\n",
       "      <td>2020-11-13 12:45:00</td>\n",
       "      <td>success</td>\n",
       "      <td>trial</td>\n",
       "      <td>22034</td>\n",
       "      <td>NaN</td>\n",
       "      <td>general</td>\n",
       "      <td>Sales</td>\n",
       "      <td>10722051</td>\n",
       "    </tr>\n",
       "    <tr>\n",
       "      <th>1</th>\n",
       "      <td>31123309</td>\n",
       "      <td>750.0</td>\n",
       "      <td>2020-11-21 13:00:00</td>\n",
       "      <td>success</td>\n",
       "      <td>regular</td>\n",
       "      <td>22034</td>\n",
       "      <td>new</td>\n",
       "      <td>general</td>\n",
       "      <td>Spartacus</td>\n",
       "      <td>940642</td>\n",
       "    </tr>\n",
       "    <tr>\n",
       "      <th>2</th>\n",
       "      <td>31412167</td>\n",
       "      <td>750.0</td>\n",
       "      <td>2020-11-28 13:00:00</td>\n",
       "      <td>success</td>\n",
       "      <td>regular</td>\n",
       "      <td>22034</td>\n",
       "      <td>new</td>\n",
       "      <td>general</td>\n",
       "      <td>Spartacus</td>\n",
       "      <td>940642</td>\n",
       "    </tr>\n",
       "    <tr>\n",
       "      <th>3</th>\n",
       "      <td>31703605</td>\n",
       "      <td>750.0</td>\n",
       "      <td>2020-12-05 13:00:00</td>\n",
       "      <td>success</td>\n",
       "      <td>regular</td>\n",
       "      <td>22034</td>\n",
       "      <td>active</td>\n",
       "      <td>general</td>\n",
       "      <td>Spartacus</td>\n",
       "      <td>940642</td>\n",
       "    </tr>\n",
       "    <tr>\n",
       "      <th>4</th>\n",
       "      <td>26904500</td>\n",
       "      <td>NaN</td>\n",
       "      <td>2020-08-06 18:20:00</td>\n",
       "      <td>success</td>\n",
       "      <td>trial</td>\n",
       "      <td>88101</td>\n",
       "      <td>NaN</td>\n",
       "      <td>general</td>\n",
       "      <td>Sales</td>\n",
       "      <td>3826530</td>\n",
       "    </tr>\n",
       "    <tr>\n",
       "      <th>...</th>\n",
       "      <td>...</td>\n",
       "      <td>...</td>\n",
       "      <td>...</td>\n",
       "      <td>...</td>\n",
       "      <td>...</td>\n",
       "      <td>...</td>\n",
       "      <td>...</td>\n",
       "      <td>...</td>\n",
       "      <td>...</td>\n",
       "      <td>...</td>\n",
       "    </tr>\n",
       "    <tr>\n",
       "      <th>104688</th>\n",
       "      <td>30976738</td>\n",
       "      <td>750.0</td>\n",
       "      <td>2020-11-19 08:00:00</td>\n",
       "      <td>success</td>\n",
       "      <td>single</td>\n",
       "      <td>4831015</td>\n",
       "      <td>active</td>\n",
       "      <td>general</td>\n",
       "      <td>Spartacus</td>\n",
       "      <td>6684752</td>\n",
       "    </tr>\n",
       "    <tr>\n",
       "      <th>104689</th>\n",
       "      <td>31118199</td>\n",
       "      <td>750.0</td>\n",
       "      <td>2020-11-21 11:00:00</td>\n",
       "      <td>success</td>\n",
       "      <td>regular</td>\n",
       "      <td>4831015</td>\n",
       "      <td>active</td>\n",
       "      <td>general</td>\n",
       "      <td>Spartacus</td>\n",
       "      <td>6684752</td>\n",
       "    </tr>\n",
       "    <tr>\n",
       "      <th>104690</th>\n",
       "      <td>31118238</td>\n",
       "      <td>750.0</td>\n",
       "      <td>2020-11-26 08:00:00</td>\n",
       "      <td>success</td>\n",
       "      <td>single</td>\n",
       "      <td>4831015</td>\n",
       "      <td>active</td>\n",
       "      <td>general</td>\n",
       "      <td>Spartacus</td>\n",
       "      <td>6684752</td>\n",
       "    </tr>\n",
       "    <tr>\n",
       "      <th>104691</th>\n",
       "      <td>31600293</td>\n",
       "      <td>750.0</td>\n",
       "      <td>2020-12-03 08:00:00</td>\n",
       "      <td>success</td>\n",
       "      <td>regular</td>\n",
       "      <td>4831015</td>\n",
       "      <td>active</td>\n",
       "      <td>general</td>\n",
       "      <td>Spartacus</td>\n",
       "      <td>6684752</td>\n",
       "    </tr>\n",
       "    <tr>\n",
       "      <th>104692</th>\n",
       "      <td>31697896</td>\n",
       "      <td>750.0</td>\n",
       "      <td>2020-12-05 11:00:00</td>\n",
       "      <td>success</td>\n",
       "      <td>regular</td>\n",
       "      <td>4831015</td>\n",
       "      <td>active</td>\n",
       "      <td>general</td>\n",
       "      <td>Spartacus</td>\n",
       "      <td>6684752</td>\n",
       "    </tr>\n",
       "  </tbody>\n",
       "</table>\n",
       "<p>104693 rows × 10 columns</p>\n",
       "</div>"
      ],
      "text/plain": [
       "        workout_id   cost            start_at   status workout_schedule_type  \\\n",
       "0         30793909    NaN 2020-11-13 12:45:00  success                 trial   \n",
       "1         31123309  750.0 2020-11-21 13:00:00  success               regular   \n",
       "2         31412167  750.0 2020-11-28 13:00:00  success               regular   \n",
       "3         31703605  750.0 2020-12-05 13:00:00  success               regular   \n",
       "4         26904500    NaN 2020-08-06 18:20:00  success                 trial   \n",
       "...            ...    ...                 ...      ...                   ...   \n",
       "104688    30976738  750.0 2020-11-19 08:00:00  success                single   \n",
       "104689    31118199  750.0 2020-11-21 11:00:00  success               regular   \n",
       "104690    31118238  750.0 2020-11-26 08:00:00  success                single   \n",
       "104691    31600293  750.0 2020-12-03 08:00:00  success               regular   \n",
       "104692    31697896  750.0 2020-12-05 11:00:00  success               regular   \n",
       "\n",
       "        client_id client_status workout_type trainer_department  trainer_id  \n",
       "0           22034           NaN      general              Sales    10722051  \n",
       "1           22034           new      general          Spartacus      940642  \n",
       "2           22034           new      general          Spartacus      940642  \n",
       "3           22034        active      general          Spartacus      940642  \n",
       "4           88101           NaN      general              Sales     3826530  \n",
       "...           ...           ...          ...                ...         ...  \n",
       "104688    4831015        active      general          Spartacus     6684752  \n",
       "104689    4831015        active      general          Spartacus     6684752  \n",
       "104690    4831015        active      general          Spartacus     6684752  \n",
       "104691    4831015        active      general          Spartacus     6684752  \n",
       "104692    4831015        active      general          Spartacus     6684752  \n",
       "\n",
       "[104693 rows x 10 columns]"
      ]
     },
     "execution_count": 3,
     "metadata": {},
     "output_type": "execute_result"
    }
   ],
   "source": [
    "workouts"
   ]
  },
  {
   "cell_type": "markdown",
   "metadata": {
    "id": "u-5lmrVS2a4N"
   },
   "source": [
    "## Задание 1\n",
    "\n",
    "**Построй линейный график, который показывает количество тренировок за каждый день. \n",
    "Оставь комментарий — какие закономерности ты наблюдаешь?**\n",
    "\n",
    "Как это сделать?\n",
    "\n",
    "1. Работать будем с датафреймом `workouts`.\n",
    "2. Сгруппируй данные по каждому дню в году (именно дню, а не числу, например 1 января и 1 февраля – это разные дни). Для этого идеально подойдет метод `resemple()`, если не помнишь, как он работает, смело смотри в шпаргалке. После найди количество проведенных тренировок в каждый день и запиши их в переменную `trainings_by_day`.\n",
    "3. Построй линейный график. Можешь добавить любые агрументы, но обязательно используй вот эти: \n",
    "    - размер графика\n",
    "    - название графика \n",
    "    - подпись оси `X` \n",
    "    \n",
    "    - подпись оси `Y` \n",
    "4. Удали неполные данные, которые мешают анализу."
   ]
  },
  {
   "cell_type": "code",
   "execution_count": 9,
   "metadata": {
    "id": "SseA6AG_2a4N"
   },
   "outputs": [
    {
     "data": {
      "text/plain": [
       "start_at\n",
       "2020-01-01      1\n",
       "2020-01-02      4\n",
       "2020-01-03      5\n",
       "2020-01-04      5\n",
       "2020-01-05      9\n",
       "             ... \n",
       "2020-12-04    365\n",
       "2020-12-05    292\n",
       "2020-12-06    250\n",
       "2020-12-07    451\n",
       "2020-12-08      3\n",
       "Freq: D, Name: workout_id, Length: 343, dtype: int64"
      ]
     },
     "execution_count": 9,
     "metadata": {},
     "output_type": "execute_result"
    }
   ],
   "source": [
    "# напиши код здесь\n",
    "# 2. Сгруппируй данные по каждому дню в году (именно дню, а не числу, например 1 января и 1 февраля – это разные дни). \n",
    "# Для этого идеально подойдет метод `resemple()`, если не помнишь, как он работает, смело смотри в шпаргалке. \n",
    "# После найди количество проведенных тренировок в каждый день и запиши их в переменную `trainings_by_day`.\n",
    "\n",
    "trainings_by_day = workouts.resample('d', on='start_at')['workout_id'].count()\n",
    "trainings_by_day "
   ]
  },
  {
   "cell_type": "code",
   "execution_count": 11,
   "metadata": {},
   "outputs": [
    {
     "data": {
      "image/png": "[encoded data removed]",
      "text/plain": [
       "<Figure size 720x360 with 1 Axes>"
      ]
     },
     "metadata": {
      "needs_background": "light"
     },
     "output_type": "display_data"
    }
   ],
   "source": [
    "# 3. Построй линейный график. Можешь добавить любые агрументы, но обязательно используй вот эти: \n",
    "#     - размер графика\n",
    "#     - название графика \n",
    "#     - подпись оси `X` \n",
    "\n",
    "plt.figure(figsize=(10, 5)) # размерность\n",
    "plt.title('Распределение количества тренировок по дням') \n",
    "plt.xlabel('Дата') \n",
    "plt.ylabel('Количество тренировок') \n",
    "plt.grid() # сетка\n",
    "\n",
    "plt.plot(trainings_by_day)\n",
    "plt.show()"
   ]
  },
  {
   "cell_type": "markdown",
   "metadata": {
    "id": "0iVCvj-42a4O"
   },
   "source": [
    "## Задание 2\n",
    "\n",
    "В ноябре постоянные тренеры жаловались на перегрузку. При этом в одних департаментах часто не хватало тренеров, а в других люди сидели без работы. Поэтому по каждому департаменту нам важно узнать, какую нагрузку имеют тренера (в количестве тренировок) и сколько тренеров имеют ту или иную нагрузку. \n",
    "\n",
    "**Построй гистограмму распределения, которая покажет, сколько тренеров провели n число тренировок в ноябре. При подсчете постоянных тренеров рассматриваем только тех, которые уже работали в нашей компании до 1 ноября. Сделай отдельный график по каждому департаменту (всего их 7).**\n",
    "\n",
    "Как это сделать:\n",
    "\n",
    "1. Внимательно изучи код, который мы подготовили, и запусти ячейки. Что мы сделали:\n",
    "    - отобрали тренеров, которые уже проводили тренировки до начала ноября\n",
    "    - взяли тренировки, которые прошли в ноябре\n",
    "    - выбрали из них те, которые провели ранее отобранные тренеры\n",
    "    \n",
    "\n",
    "2. В цикле для каждого департамента: \n",
    "\n",
    "    - отфильтруй по `trainer_department` тренировки нужного департамента\n",
    "    - построй гистограмму распределения количества тренеров по количеству проведенных тренировок. Можешь добавить любые аргументы, но обязательно используй вот эти:\n",
    "        - размер графика\n",
    "        - название графика\n",
    "        - подпись оси `X`\n",
    "        \n",
    "        - подпись оси `Y`\n",
    "        - задай цвет на графике\n",
    "        - задай 5 столбцов\n",
    "      \n"
   ]
  },
  {
   "cell_type": "code",
   "execution_count": 12,
   "metadata": {
    "id": "gSOOVr_C2a4P"
   },
   "outputs": [],
   "source": [
    "# выбрали тренеров, которые вели тренировки до 1 ноября\n",
    "trainers_select = workouts['trainer_id'].loc[workouts['start_at'] < '2020-11-01'] \n",
    "\n",
    "# множеством взяли уникальные значения\n",
    "trainers_select = set(trainers_select) "
   ]
  },
  {
   "cell_type": "code",
   "execution_count": 13,
   "metadata": {
    "id": "Uu5kTR_M2a4Q"
   },
   "outputs": [],
   "source": [
    "# взяли тренировки только за ноябрь\n",
    "november_workouts = workouts.loc[workouts['start_at'].dt.month == 11] \n",
    "\n",
    "# берем только активных тренеров\n",
    "november_workouts = november_workouts.loc[november_workouts['trainer_id'].isin(trainers_select)] "
   ]
  },
  {
   "cell_type": "code",
   "execution_count": 14,
   "metadata": {
    "id": "T5tjhbQA2a4R"
   },
   "outputs": [
    {
     "data": {
      "text/html": [
       "<div>\n",
       "<style scoped>\n",
       "    .dataframe tbody tr th:only-of-type {\n",
       "        vertical-align: middle;\n",
       "    }\n",
       "\n",
       "    .dataframe tbody tr th {\n",
       "        vertical-align: top;\n",
       "    }\n",
       "\n",
       "    .dataframe thead th {\n",
       "        text-align: right;\n",
       "    }\n",
       "</style>\n",
       "<table border=\"1\" class=\"dataframe\">\n",
       "  <thead>\n",
       "    <tr style=\"text-align: right;\">\n",
       "      <th></th>\n",
       "      <th>trainer_id</th>\n",
       "      <th>trainer_department</th>\n",
       "      <th>workouts</th>\n",
       "    </tr>\n",
       "  </thead>\n",
       "  <tbody>\n",
       "    <tr>\n",
       "      <th>0</th>\n",
       "      <td>1994</td>\n",
       "      <td>Spartacus</td>\n",
       "      <td>26</td>\n",
       "    </tr>\n",
       "    <tr>\n",
       "      <th>1</th>\n",
       "      <td>4446</td>\n",
       "      <td>Spartacus</td>\n",
       "      <td>9</td>\n",
       "    </tr>\n",
       "    <tr>\n",
       "      <th>2</th>\n",
       "      <td>9256</td>\n",
       "      <td>Spartacus</td>\n",
       "      <td>9</td>\n",
       "    </tr>\n",
       "    <tr>\n",
       "      <th>3</th>\n",
       "      <td>14431</td>\n",
       "      <td>Spartacus</td>\n",
       "      <td>11</td>\n",
       "    </tr>\n",
       "    <tr>\n",
       "      <th>4</th>\n",
       "      <td>15062</td>\n",
       "      <td>Spartacus</td>\n",
       "      <td>8</td>\n",
       "    </tr>\n",
       "  </tbody>\n",
       "</table>\n",
       "</div>"
      ],
      "text/plain": [
       "   trainer_id trainer_department  workouts\n",
       "0        1994          Spartacus        26\n",
       "1        4446          Spartacus         9\n",
       "2        9256          Spartacus         9\n",
       "3       14431          Spartacus        11\n",
       "4       15062          Spartacus         8"
      ]
     },
     "execution_count": 14,
     "metadata": {},
     "output_type": "execute_result"
    }
   ],
   "source": [
    "# кол-во тренировок у каждого тренера\n",
    "workouts_by_trainer = november_workouts.groupby(['trainer_id','trainer_department'])['workout_id'].count() \n",
    "\n",
    "# превращаем series в dataframe, сбрасываем индекс\n",
    "workouts_by_trainer = workouts_by_trainer.reset_index() \n",
    "\n",
    "# переименовываем столбец workout_id, ведь в нем теперь количество тренировок\n",
    "workouts_by_trainer.columns = ['trainer_id','trainer_department','workouts'] \n",
    "\n",
    "workouts_by_trainer.head()"
   ]
  },
  {
   "cell_type": "code",
   "execution_count": 15,
   "metadata": {
    "id": "m0np64-z2a4R"
   },
   "outputs": [
    {
     "data": {
      "text/plain": [
       "{'Athletic',\n",
       " 'Consultant',\n",
       " 'Cycling',\n",
       " 'Dinamo',\n",
       " 'Sales',\n",
       " 'Spartacus',\n",
       " 'Sports Reserves'}"
      ]
     },
     "execution_count": 15,
     "metadata": {},
     "output_type": "execute_result"
    }
   ],
   "source": [
    "# посмотрим, какие у нас есть департаменты\n",
    "departments = set(workouts_by_trainer['trainer_department'])\n",
    "departments\n"
   ]
  },
  {
   "cell_type": "code",
   "execution_count": 17,
   "metadata": {},
   "outputs": [
    {
     "data": {
      "text/html": [
       "<div>\n",
       "<style scoped>\n",
       "    .dataframe tbody tr th:only-of-type {\n",
       "        vertical-align: middle;\n",
       "    }\n",
       "\n",
       "    .dataframe tbody tr th {\n",
       "        vertical-align: top;\n",
       "    }\n",
       "\n",
       "    .dataframe thead th {\n",
       "        text-align: right;\n",
       "    }\n",
       "</style>\n",
       "<table border=\"1\" class=\"dataframe\">\n",
       "  <thead>\n",
       "    <tr style=\"text-align: right;\">\n",
       "      <th></th>\n",
       "      <th>trainer_id</th>\n",
       "      <th>trainer_department</th>\n",
       "      <th>workouts</th>\n",
       "    </tr>\n",
       "  </thead>\n",
       "  <tbody>\n",
       "    <tr>\n",
       "      <th>0</th>\n",
       "      <td>1994</td>\n",
       "      <td>Spartacus</td>\n",
       "      <td>26</td>\n",
       "    </tr>\n",
       "    <tr>\n",
       "      <th>1</th>\n",
       "      <td>4446</td>\n",
       "      <td>Spartacus</td>\n",
       "      <td>9</td>\n",
       "    </tr>\n",
       "    <tr>\n",
       "      <th>2</th>\n",
       "      <td>9256</td>\n",
       "      <td>Spartacus</td>\n",
       "      <td>9</td>\n",
       "    </tr>\n",
       "    <tr>\n",
       "      <th>3</th>\n",
       "      <td>14431</td>\n",
       "      <td>Spartacus</td>\n",
       "      <td>11</td>\n",
       "    </tr>\n",
       "    <tr>\n",
       "      <th>4</th>\n",
       "      <td>15062</td>\n",
       "      <td>Spartacus</td>\n",
       "      <td>8</td>\n",
       "    </tr>\n",
       "    <tr>\n",
       "      <th>...</th>\n",
       "      <td>...</td>\n",
       "      <td>...</td>\n",
       "      <td>...</td>\n",
       "    </tr>\n",
       "    <tr>\n",
       "      <th>1598</th>\n",
       "      <td>10669820</td>\n",
       "      <td>Spartacus</td>\n",
       "      <td>2</td>\n",
       "    </tr>\n",
       "    <tr>\n",
       "      <th>1601</th>\n",
       "      <td>10676774</td>\n",
       "      <td>Spartacus</td>\n",
       "      <td>5</td>\n",
       "    </tr>\n",
       "    <tr>\n",
       "      <th>1602</th>\n",
       "      <td>10676833</td>\n",
       "      <td>Spartacus</td>\n",
       "      <td>6</td>\n",
       "    </tr>\n",
       "    <tr>\n",
       "      <th>1603</th>\n",
       "      <td>10682541</td>\n",
       "      <td>Spartacus</td>\n",
       "      <td>13</td>\n",
       "    </tr>\n",
       "    <tr>\n",
       "      <th>1610</th>\n",
       "      <td>10753874</td>\n",
       "      <td>Spartacus</td>\n",
       "      <td>2</td>\n",
       "    </tr>\n",
       "  </tbody>\n",
       "</table>\n",
       "<p>1197 rows × 3 columns</p>\n",
       "</div>"
      ],
      "text/plain": [
       "      trainer_id trainer_department  workouts\n",
       "0           1994          Spartacus        26\n",
       "1           4446          Spartacus         9\n",
       "2           9256          Spartacus         9\n",
       "3          14431          Spartacus        11\n",
       "4          15062          Spartacus         8\n",
       "...          ...                ...       ...\n",
       "1598    10669820          Spartacus         2\n",
       "1601    10676774          Spartacus         5\n",
       "1602    10676833          Spartacus         6\n",
       "1603    10682541          Spartacus        13\n",
       "1610    10753874          Spartacus         2\n",
       "\n",
       "[1197 rows x 3 columns]"
      ]
     },
     "execution_count": 17,
     "metadata": {},
     "output_type": "execute_result"
    }
   ],
   "source": [
    "workouts_by_trainer.loc[workouts_by_trainer['trainer_department'] == 'Spartacus']\n",
    "workouts_by_Spartacus_trainer = workouts_by_trainer.loc[workouts_by_trainer['trainer_department'] == 'Spartacus']\n",
    "workouts_by_Spartacus_trainer"
   ]
  },
  {
   "cell_type": "code",
   "execution_count": 19,
   "metadata": {
    "id": "REkFT1we2a4S"
   },
   "outputs": [
    {
     "data": {
      "image/png": "[encoded data removed]",
      "text/plain": [
       "<Figure size 720x360 with 1 Axes>"
      ]
     },
     "metadata": {
      "needs_background": "light"
     },
     "output_type": "display_data"
    }
   ],
   "source": [
    "# напиши код здесь\n",
    "plt.figure(figsize=(10, 5)) # размерность\n",
    "plt.title('Распределение количества тренировок по тренерам в Spartacus') \n",
    "plt.xlabel('Имя тренера') \n",
    "plt.ylabel('Количество тренировок') \n",
    "plt.grid() # сетка\n",
    "\n",
    "plt.plot(workouts_by_Spartacus_trainer['trainer_id'],\n",
    "        workouts_by_Spartacus_trainer['workouts'])\n",
    "plt.show()\n",
    "\n"
   ]
  },
  {
   "cell_type": "markdown",
   "metadata": {
    "id": "tfkKi82a2a4S"
   },
   "source": [
    "## Задание 3\n",
    "\n",
    "Мы поняли, как тренировки распределились в каждом департаменте, но чтобы принимать какие-то решения, нужно посмотреть общую картину. Здесь нам поможет боксплот: увидим, в каких департаментах низкое среднее количество тренировок по сравнению с остальными и где больше перегруженных тренеров.\n",
    "\n",
    "**Построй boxplot (один) с распределением тренеров по количеству проведенных уроков с разбивкой по департаментам.**\n",
    "\n",
    "Как это сделать:\n",
    "\n",
    "1. В функцию, которая строит boxplot, передай аргументы: департаменты, общее количество проведенных тренерами занятий и количество тренировок у каждого тренера\n",
    "2. Используй цвет\n",
    "3. Оставь комментарий: какие рекомендации можно дать по распределению нагрузки на тренеров разных департаментов, глядя на этот график?"
   ]
  },
  {
   "cell_type": "code",
   "execution_count": null,
   "metadata": {
    "id": "I_dUupFW2a4T"
   },
   "outputs": [],
   "source": [
    "# напиши код здесь"
   ]
  },
  {
   "cell_type": "markdown",
   "metadata": {
    "id": "nrEOOoxW2a4T"
   },
   "source": [
    "## Задание 4\n",
    "\n",
    "\n",
    "Логично, что дешевые тренировки пропускают чаще дорогих, но мы хотим сформировать стратегию по снижению количеству пропусков, а значит нам нужны более точные данные. Для начала мы хотим посмотреть детально на корреляцию нескольких параметров с вероятностью пропусков. Возможно, это позволит нам лучше сегментировать нашу аудиторию.\n",
    "\n",
    "Есть гипотеза, что на вероятность прогула влияет не только цена, но и возраст. Изучи этот вопрос с помощью графиков. \n",
    "\n",
    "**Тебе предстоит построить 3 скаттерплота в этом задании. Оставь комментарий по каждому графику – видишь ли ты какие-то явные зависимости в данных?**\n",
    "\n",
    "1. **Внимательно изучи код, который мы подготовили, и запусти ячейки.** Что мы сделали:\n",
    "    - отфильтровали только платные тренировки\n",
    "    - поменяли тип данных в числовых столбцах на `int`\n",
    "    - разметили столбец со статусом, успешные тренировки пометили единицей, пропущенные - нулем, чтобы высчитать долю пропусков\n",
    "    - создали датафрейм, где подсчитана доля прогулов по двум параметрам: возраст и цена\n",
    "\n",
    "\n",
    "2. **Построй скаттерплот, который покажет корреляцию прогулов к цене**\n",
    "    - используй группировку и создай датафрейм, где подсчитан процент прогулов аналогично предподготовленному датафрейму `cost_age_data_agg`, но без возраста, только с ценой\n",
    "    - в функцию, которая строит скаттерплот можешь добавить любые аргументы, но обязательно используй вот эти:\n",
    "        - размер графика\n",
    "        - название графика\n",
    "        - подпись оси `X`\n",
    "        \n",
    "        - подпись оси `Y`\n",
    "        - задай цвет на графике\n",
    "    \n",
    "Подготовим данные:"
   ]
  },
  {
   "cell_type": "code",
   "execution_count": null,
   "metadata": {
    "id": "WUGBV_R_2a4U"
   },
   "outputs": [],
   "source": [
    "# отфильтровали бесплатные тренировки и сделали копию датафрейма\n",
    "cost_age_data = workouts_users[['status','cost','age']].loc[workouts_users.workout_schedule_type!='trial'].dropna().copy()\n",
    "\n",
    "# Изменяем тип данных столбцов age и cost на int. Это нужно, чтобы на подписях к диаграммам числа были целыми\n",
    "cost_age_data['age'] = cost_age_data['age'].apply(int) \n",
    "cost_age_data['cost'] = cost_age_data['cost'].apply(int)\n",
    "\n",
    "# Кодируем столбец status, присваивая 1 в случаях, если он равен failed_by_client и 0 в случае success\n",
    "cost_age_data['status'] = cost_age_data.status.map({'success':0,'failed_by_client':1})\n",
    "\n",
    "# создаём агрегированные наборы данных\n",
    "cost_age_data_agg = cost_age_data.groupby(['cost','age'])['status'].mean().reset_index() #считаем долю прогулов по возрасту и цене \n",
    "\n",
    "cost_age_data_agg"
   ]
  },
  {
   "cell_type": "code",
   "execution_count": null,
   "metadata": {
    "id": "sPdkqqix2a4V"
   },
   "outputs": [],
   "source": [
    "# напиши здесь код"
   ]
  },
  {
   "cell_type": "markdown",
   "metadata": {
    "id": "qrD8Fbx_2a4V"
   },
   "source": [
    "3. **Построй скаттерплот, который покажет корреляцию прогулов к возрасту**\n",
    "    - используй группировку и создай датафрейм, где подсчитан процент прогулов аналогично предподготовленному датафрейму `cost_age_data_agg`, но без цен, только с возрастом\n",
    "    - в функцию, которая строит скаттерплот, можешь добавить любые аргументы, но обязательно используй вот эти:\n",
    "        - размер графика\n",
    "        - название графика\n",
    "        - подпись оси `X`\n",
    "        \n",
    "        - подпись оси `Y`\n",
    "        - задай цвет на графике"
   ]
  },
  {
   "cell_type": "code",
   "execution_count": null,
   "metadata": {
    "id": "5wG4djoE2a4W"
   },
   "outputs": [],
   "source": [
    "# напиши код здесь"
   ]
  },
  {
   "cell_type": "markdown",
   "metadata": {
    "id": "tNPYB8_k2a4X"
   },
   "source": [
    "4. **Построй скаттерплот, который покажет корреляцию прогулов и к возрасту, и к цене одновременно**\n",
    "    - создай словарь цветов и цен в переменной `price_color`. Чтобы увидеть все уникальные значения, можно использовать множества\n",
    "    - в функцию, которая строит скаттерплот, можешь добавить любые аргументы, но обязательно используй вот эти:\n",
    "        - размер графика\n",
    "        - название графика\n",
    "        - подпись оси `X`\n",
    "        \n",
    "        - подпись оси `Y`\n",
    "        - аргумент  `с` - цвета для разных цен\n",
    "          "
   ]
  },
  {
   "cell_type": "code",
   "execution_count": null,
   "metadata": {
    "id": "1Vw12ktk2a4X"
   },
   "outputs": [],
   "source": [
    "# напиши код здесь"
   ]
  },
  {
   "cell_type": "markdown",
   "metadata": {
    "id": "PD_3rozj2a4Y"
   },
   "source": [
    "## Задание 5\n",
    "\n",
    "**Сделай heatmаp для кейса из задания 4.** \n",
    "\n",
    "1. Внимательно изучи код, который мы подготовили, и запусти ячейки. Что мы сделали:\n",
    "    - написали функцию, которая в зависимости от возраста возвращает возрастную группу\n",
    "    - создали новый столбец, применив функцию к столбцу возраста\n",
    "    - сгруппировали данные, чтобы для каждой пары возраст-цена была сгруппирована средняя вероятность прогула\n",
    "    \n",
    "    \n",
    "2. Создай сводную таблицу (матрицу), в которой строками будут интервалы возраста, столбцами — цена занятия, значением — доля прогулов.\n",
    "3. Построй heatmap. Используй любые аргументы, но обязательно добавь вот эти:\n",
    "    - размер графика\n",
    "    - название графика\n",
    "    - подпись оси `X`\n",
    "    \n",
    "    - подпись оси `Y`\n",
    "    - вывод значений в ячейках\n",
    "    \n",
    "4. Оставь комментарий: какие закономерности ты видишь на графике?"
   ]
  },
  {
   "cell_type": "code",
   "execution_count": null,
   "metadata": {
    "id": "qCfnqkeR2a4Z"
   },
   "outputs": [],
   "source": [
    "# пишем функцию, которая поможет разбить клиентов на возрастные группы\n",
    "\n",
    "def calculate_age_bins(age):\n",
    "    if age <= 20:\n",
    "        return '0-20'\n",
    "    if age <= 25:\n",
    "        return '21-25'\n",
    "    if age <= 30:\n",
    "        return '26-30'\n",
    "    if age <= 35:\n",
    "        return '31-35'\n",
    "    if age <= 40:\n",
    "        return '36-40'\n",
    "    if age <= 45:\n",
    "        return '41-45'\n",
    "    if age <= 50:\n",
    "        return '46-50'\n",
    "    return '50+'"
   ]
  },
  {
   "cell_type": "code",
   "execution_count": null,
   "metadata": {
    "id": "8CkrOlMa2a4Z"
   },
   "outputs": [],
   "source": [
    "# кладем в новый столбец возрастную группу\n",
    "cost_age_data['age_bin'] = cost_age_data.age.apply(calculate_age_bins)\n",
    "\n",
    "# создаём агрегированный набор данных\n",
    "cost_age_data_agg = cost_age_data.groupby(['cost','age_bin'])['status'].mean().reset_index()\n",
    "cost_age_data_agg"
   ]
  },
  {
   "cell_type": "code",
   "execution_count": null,
   "metadata": {
    "id": "yCrpExQH2a4Z"
   },
   "outputs": [],
   "source": [
    "# напиши код здесь"
   ]
  },
  {
   "cell_type": "markdown",
   "metadata": {
    "id": "GNIl4szG2a4a"
   },
   "source": [
    "## EXTRA\n",
    "\n",
    "Если остались силы, сделай дополнительное задание по желанию. Основная его сложность в том, что нужно построить bar chart, а на занятии функцию этого графика мы не проходили. Но найти информацию самостоятельно будет совсем не сложно. \n",
    "\n",
    "**Чтобы углубиться в данные, построй bar chart количества тренировок по дням недели (с понедельника по воскресенье) и отобрази горизонтальной линией на графике среднее количество тренировок  в день.**\n",
    "\n",
    "Как это сделать:\n",
    "1. Внимательно изучи код, который мы подготовили, и запусти ячейки. Что мы сделалали:\n",
    "    - вернули индекс внутри датафрейма\n",
    "    - переименовали столбцы, чтобы они соответствовали содержимому\n",
    "    - добавили столбец с номером дня недели с помощью `dt.weekday`\n",
    "    \n",
    "    - добавили столбец с названием дня недели с помощью `dt.day_name()`\n",
    "    \n",
    "\n",
    "2. Cгруппируй данные колонки `week_day_num` по `workouts` с подсчетом среднего.\n",
    "3. Построй bar chart. Можешь добавить любые агрументы, но обязательно используй вот эти:\n",
    "\n",
    "    - размер графика\n",
    "    - название графика\n",
    "    - подпись оси `X`\n",
    "    \n",
    "    - подпись оси `Y`\n",
    "    - задай цвет на графике\n",
    "    \n",
    "\n",
    "4. Добавь горизонтальную линию, параллельную оси `X`, со значением `y` равным средним количеством тренировок в день. Если не помнишь, как это делать, смело смотри шпаргалку – там ты найдешь все детали.\n",
    "5. Если еще осталось желание исследовать новое, можешь добавить на график название дней недели, задав их с помощью метода `plt.xticks`, его ты легко найдешь в документации. \n",
    "6. Оставь комментарий: что ты видишь на графике? \n",
    "\n",
    "**Подготовим данные**"
   ]
  },
  {
   "cell_type": "code",
   "execution_count": null,
   "metadata": {
    "id": "jFmrNufe2a4a"
   },
   "outputs": [],
   "source": [
    "trainings_by_day # посмотрим, в каком формате лежат нужные данные"
   ]
  },
  {
   "cell_type": "code",
   "execution_count": null,
   "metadata": {
    "id": "KXngVWFy2a4b"
   },
   "outputs": [],
   "source": [
    "trainings_by_day_frame = trainings_by_day.reset_index() # сбросим индекс\n",
    "trainings_by_day_frame.columns=['workouts_date', 'workouts'] # переименуем столбцы, чтобы названия соответствовали содержимому\n",
    "trainings_by_day_frame['week_day_num'] = trainings_by_day_frame['workouts_date'].dt.weekday # добавим номер дня недели\n",
    "trainings_by_day_frame['week_day_name'] = trainings_by_day_frame['workouts_date'].dt.day_name() # добавим название дня недели\n",
    "trainings_by_day_frame"
   ]
  },
  {
   "cell_type": "markdown",
   "metadata": {
    "id": "MWkqIQe32a4b"
   },
   "source": [
    "Мы видим, что нумерация начинается с 0 до 6. Чтобы дни недели выглядели привычнее, добавим к номеру дня 1."
   ]
  },
  {
   "cell_type": "code",
   "execution_count": null,
   "metadata": {
    "id": "FwXlZjv42a4c"
   },
   "outputs": [],
   "source": [
    "trainings_by_day_frame['week_day_num'] += 1 "
   ]
  },
  {
   "cell_type": "code",
   "execution_count": null,
   "metadata": {
    "id": "DvoQRVs72a4c"
   },
   "outputs": [],
   "source": [
    "# напиши код здесь"
   ]
  },
  {
   "cell_type": "markdown",
   "metadata": {
    "id": "d8ReOsxd2a4d"
   },
   "source": [
    "# 🎉🎉🎉 Поздравляем, ты великолепен! "
   ]
  }
 ],
 "metadata": {
  "colab": {
   "name": "Skills_Python_3.1_homework.ipynb",
   "provenance": []
  },
  "kernelspec": {
   "display_name": "Python 3 (ipykernel)",
   "language": "python",
   "name": "python3"
  },
  "language_info": {
   "codemirror_mode": {
    "name": "ipython",
    "version": 3
   },
   "file_extension": ".py",
   "mimetype": "text/x-python",
   "name": "python",
   "nbconvert_exporter": "python",
   "pygments_lexer": "ipython3",
   "version": "3.9.7"
  }
 },
 "nbformat": 4,
 "nbformat_minor": 1
}
